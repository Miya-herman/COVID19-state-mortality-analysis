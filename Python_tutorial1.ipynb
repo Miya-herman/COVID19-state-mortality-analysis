{
  "nbformat": 4,
  "nbformat_minor": 0,
  "metadata": {
    "colab": {
      "name": "Python-tutorial1.ipynb",
      "provenance": [],
      "authorship_tag": "ABX9TyNT0JNgugNr0sVJ3XbnOiAn",
      "include_colab_link": true
    },
    "kernelspec": {
      "name": "python3",
      "display_name": "Python 3"
    }
  },
  "cells": [
    {
      "cell_type": "markdown",
      "metadata": {
        "id": "view-in-github",
        "colab_type": "text"
      },
      "source": [
        "<a href=\"https://colab.research.google.com/github/Miya-herman/Python-Project-1/blob/master/Python_tutorial1.ipynb\" target=\"_parent\"><img src=\"https://colab.research.google.com/assets/colab-badge.svg\" alt=\"Open In Colab\"/></a>"
      ]
    },
    {
      "cell_type": "code",
      "metadata": {
        "id": "7jze5waPdb5u",
        "colab_type": "code",
        "colab": {}
      },
      "source": [
        "# import libraries\n",
        "import pandas as pd\n",
        "import numpy as np"
      ],
      "execution_count": 0,
      "outputs": []
    },
    {
      "cell_type": "code",
      "metadata": {
        "id": "bgGGZwKQeABz",
        "colab_type": "code",
        "colab": {}
      },
      "source": [
        "import plotly.express as px\n",
        "import plotly.figure_factory as ff"
      ],
      "execution_count": 0,
      "outputs": []
    },
    {
      "cell_type": "code",
      "metadata": {
        "id": "aOU4vC5keCmV",
        "colab_type": "code",
        "colab": {}
      },
      "source": [
        "data_covid19 = \"https://raw.githubusercontent.com/nytimes/covid-19-data/master/us-counties.csv\""
      ],
      "execution_count": 0,
      "outputs": []
    },
    {
      "cell_type": "code",
      "metadata": {
        "id": "4u7EMzVxeKCM",
        "colab_type": "code",
        "colab": {}
      },
      "source": [
        "df_covid = pd.read_csv(data_covid19)\n"
      ],
      "execution_count": 0,
      "outputs": []
    },
    {
      "cell_type": "code",
      "metadata": {
        "id": "yeH4C0lZeLt7",
        "colab_type": "code",
        "colab": {
          "base_uri": "https://localhost:8080/",
          "height": 204
        },
        "outputId": "e3f3731a-d642-4cc7-a398-55279e6fef1a"
      },
      "source": [
        "df_covid.head()"
      ],
      "execution_count": 6,
      "outputs": [
        {
          "output_type": "execute_result",
          "data": {
            "text/html": [
              "<div>\n",
              "<style scoped>\n",
              "    .dataframe tbody tr th:only-of-type {\n",
              "        vertical-align: middle;\n",
              "    }\n",
              "\n",
              "    .dataframe tbody tr th {\n",
              "        vertical-align: top;\n",
              "    }\n",
              "\n",
              "    .dataframe thead th {\n",
              "        text-align: right;\n",
              "    }\n",
              "</style>\n",
              "<table border=\"1\" class=\"dataframe\">\n",
              "  <thead>\n",
              "    <tr style=\"text-align: right;\">\n",
              "      <th></th>\n",
              "      <th>date</th>\n",
              "      <th>county</th>\n",
              "      <th>state</th>\n",
              "      <th>fips</th>\n",
              "      <th>cases</th>\n",
              "      <th>deaths</th>\n",
              "    </tr>\n",
              "  </thead>\n",
              "  <tbody>\n",
              "    <tr>\n",
              "      <th>0</th>\n",
              "      <td>2020-01-21</td>\n",
              "      <td>Snohomish</td>\n",
              "      <td>Washington</td>\n",
              "      <td>53061.0</td>\n",
              "      <td>1</td>\n",
              "      <td>0</td>\n",
              "    </tr>\n",
              "    <tr>\n",
              "      <th>1</th>\n",
              "      <td>2020-01-22</td>\n",
              "      <td>Snohomish</td>\n",
              "      <td>Washington</td>\n",
              "      <td>53061.0</td>\n",
              "      <td>1</td>\n",
              "      <td>0</td>\n",
              "    </tr>\n",
              "    <tr>\n",
              "      <th>2</th>\n",
              "      <td>2020-01-23</td>\n",
              "      <td>Snohomish</td>\n",
              "      <td>Washington</td>\n",
              "      <td>53061.0</td>\n",
              "      <td>1</td>\n",
              "      <td>0</td>\n",
              "    </tr>\n",
              "    <tr>\n",
              "      <th>3</th>\n",
              "      <td>2020-01-24</td>\n",
              "      <td>Cook</td>\n",
              "      <td>Illinois</td>\n",
              "      <td>17031.0</td>\n",
              "      <td>1</td>\n",
              "      <td>0</td>\n",
              "    </tr>\n",
              "    <tr>\n",
              "      <th>4</th>\n",
              "      <td>2020-01-24</td>\n",
              "      <td>Snohomish</td>\n",
              "      <td>Washington</td>\n",
              "      <td>53061.0</td>\n",
              "      <td>1</td>\n",
              "      <td>0</td>\n",
              "    </tr>\n",
              "  </tbody>\n",
              "</table>\n",
              "</div>"
            ],
            "text/plain": [
              "         date     county       state     fips  cases  deaths\n",
              "0  2020-01-21  Snohomish  Washington  53061.0      1       0\n",
              "1  2020-01-22  Snohomish  Washington  53061.0      1       0\n",
              "2  2020-01-23  Snohomish  Washington  53061.0      1       0\n",
              "3  2020-01-24       Cook    Illinois  17031.0      1       0\n",
              "4  2020-01-24  Snohomish  Washington  53061.0      1       0"
            ]
          },
          "metadata": {
            "tags": []
          },
          "execution_count": 6
        }
      ]
    },
    {
      "cell_type": "code",
      "metadata": {
        "id": "SVjc7xnPfQ9_",
        "colab_type": "code",
        "colab": {}
      },
      "source": [
        "# import data for analysis\n",
        "\n",
        "df_population = pd.read_csv(\"ACSST1Y2018.S0101_data_with_overlays_2020-04-02T080504.csv\")\n",
        "df_states = pd.read_csv(\"state-geocodes-v2018.csv\")\n",
        "df_counties = pd.read_csv(\"all-geocodes-v2018.csv\")\n",
        "df_hospitals = pd.read_csv(\"Hospitals.csv\")"
      ],
      "execution_count": 0,
      "outputs": []
    },
    {
      "cell_type": "code",
      "metadata": {
        "id": "D24uZ7SWfciQ",
        "colab_type": "code",
        "colab": {
          "base_uri": "https://localhost:8080/",
          "height": 457
        },
        "outputId": "ade9f5ec-7e8c-4e70-e9ce-ed5a448c642c"
      },
      "source": [
        "df_population.head()"
      ],
      "execution_count": 75,
      "outputs": [
        {
          "output_type": "execute_result",
          "data": {
            "text/html": [
              "<div>\n",
              "<style scoped>\n",
              "    .dataframe tbody tr th:only-of-type {\n",
              "        vertical-align: middle;\n",
              "    }\n",
              "\n",
              "    .dataframe tbody tr th {\n",
              "        vertical-align: top;\n",
              "    }\n",
              "\n",
              "    .dataframe thead th {\n",
              "        text-align: right;\n",
              "    }\n",
              "</style>\n",
              "<table border=\"1\" class=\"dataframe\">\n",
              "  <thead>\n",
              "    <tr style=\"text-align: right;\">\n",
              "      <th></th>\n",
              "      <th>GEO_ID</th>\n",
              "      <th>NAME</th>\n",
              "      <th>S0101_C01_001E</th>\n",
              "      <th>S0101_C01_001M</th>\n",
              "      <th>S0101_C02_001E</th>\n",
              "      <th>S0101_C02_001M</th>\n",
              "      <th>S0101_C03_001E</th>\n",
              "      <th>S0101_C03_001M</th>\n",
              "      <th>S0101_C04_001E</th>\n",
              "      <th>S0101_C04_001M</th>\n",
              "      <th>S0101_C05_001E</th>\n",
              "      <th>S0101_C05_001M</th>\n",
              "      <th>S0101_C06_001E</th>\n",
              "      <th>S0101_C06_001M</th>\n",
              "      <th>S0101_C01_002E</th>\n",
              "      <th>S0101_C01_002M</th>\n",
              "      <th>S0101_C02_002E</th>\n",
              "      <th>S0101_C02_002M</th>\n",
              "      <th>S0101_C03_002E</th>\n",
              "      <th>S0101_C03_002M</th>\n",
              "      <th>S0101_C04_002E</th>\n",
              "      <th>S0101_C04_002M</th>\n",
              "      <th>S0101_C05_002E</th>\n",
              "      <th>S0101_C05_002M</th>\n",
              "      <th>S0101_C06_002E</th>\n",
              "      <th>S0101_C06_002M</th>\n",
              "      <th>S0101_C01_003E</th>\n",
              "      <th>S0101_C01_003M</th>\n",
              "      <th>S0101_C02_003E</th>\n",
              "      <th>S0101_C02_003M</th>\n",
              "      <th>S0101_C03_003E</th>\n",
              "      <th>S0101_C03_003M</th>\n",
              "      <th>S0101_C04_003E</th>\n",
              "      <th>S0101_C04_003M</th>\n",
              "      <th>S0101_C05_003E</th>\n",
              "      <th>S0101_C05_003M</th>\n",
              "      <th>S0101_C06_003E</th>\n",
              "      <th>S0101_C06_003M</th>\n",
              "      <th>S0101_C01_004E</th>\n",
              "      <th>S0101_C01_004M</th>\n",
              "      <th>...</th>\n",
              "      <th>S0101_C05_035E</th>\n",
              "      <th>S0101_C05_035M</th>\n",
              "      <th>S0101_C06_035E</th>\n",
              "      <th>S0101_C06_035M</th>\n",
              "      <th>S0101_C01_036E</th>\n",
              "      <th>S0101_C01_036M</th>\n",
              "      <th>S0101_C02_036E</th>\n",
              "      <th>S0101_C02_036M</th>\n",
              "      <th>S0101_C03_036E</th>\n",
              "      <th>S0101_C03_036M</th>\n",
              "      <th>S0101_C04_036E</th>\n",
              "      <th>S0101_C04_036M</th>\n",
              "      <th>S0101_C05_036E</th>\n",
              "      <th>S0101_C05_036M</th>\n",
              "      <th>S0101_C06_036E</th>\n",
              "      <th>S0101_C06_036M</th>\n",
              "      <th>S0101_C01_037E</th>\n",
              "      <th>S0101_C01_037M</th>\n",
              "      <th>S0101_C02_037E</th>\n",
              "      <th>S0101_C02_037M</th>\n",
              "      <th>S0101_C03_037E</th>\n",
              "      <th>S0101_C03_037M</th>\n",
              "      <th>S0101_C04_037E</th>\n",
              "      <th>S0101_C04_037M</th>\n",
              "      <th>S0101_C05_037E</th>\n",
              "      <th>S0101_C05_037M</th>\n",
              "      <th>S0101_C06_037E</th>\n",
              "      <th>S0101_C06_037M</th>\n",
              "      <th>S0101_C01_038E</th>\n",
              "      <th>S0101_C01_038M</th>\n",
              "      <th>S0101_C02_038E</th>\n",
              "      <th>S0101_C02_038M</th>\n",
              "      <th>S0101_C03_038E</th>\n",
              "      <th>S0101_C03_038M</th>\n",
              "      <th>S0101_C04_038E</th>\n",
              "      <th>S0101_C04_038M</th>\n",
              "      <th>S0101_C05_038E</th>\n",
              "      <th>S0101_C05_038M</th>\n",
              "      <th>S0101_C06_038E</th>\n",
              "      <th>S0101_C06_038M</th>\n",
              "    </tr>\n",
              "  </thead>\n",
              "  <tbody>\n",
              "    <tr>\n",
              "      <th>0</th>\n",
              "      <td>id</td>\n",
              "      <td>Geographic Area Name</td>\n",
              "      <td>Estimate!!Total!!Total population</td>\n",
              "      <td>Margin of Error!!Total MOE!!Total population</td>\n",
              "      <td>Estimate!!Percent!!Total population</td>\n",
              "      <td>Margin of Error!!Percent MOE!!Total population</td>\n",
              "      <td>Estimate!!Male!!Total population</td>\n",
              "      <td>Margin of Error!!Male MOE!!Total population</td>\n",
              "      <td>Estimate!!Percent Male!!Total population</td>\n",
              "      <td>Margin of Error!!Percent Male MOE!!Total popul...</td>\n",
              "      <td>Estimate!!Female!!Total population</td>\n",
              "      <td>Margin of Error!!Female MOE!!Total population</td>\n",
              "      <td>Estimate!!Percent Female!!Total population</td>\n",
              "      <td>Margin of Error!!Percent Female MOE!!Total pop...</td>\n",
              "      <td>Estimate!!Total!!Total population!!AGE!!Under ...</td>\n",
              "      <td>Margin of Error!!Total MOE!!Total population!!...</td>\n",
              "      <td>Estimate!!Percent!!Total population!!AGE!!Unde...</td>\n",
              "      <td>Margin of Error!!Percent MOE!!Total population...</td>\n",
              "      <td>Estimate!!Male!!Total population!!AGE!!Under 5...</td>\n",
              "      <td>Margin of Error!!Male MOE!!Total population!!A...</td>\n",
              "      <td>Estimate!!Percent Male!!Total population!!AGE!...</td>\n",
              "      <td>Margin of Error!!Percent Male MOE!!Total popul...</td>\n",
              "      <td>Estimate!!Female!!Total population!!AGE!!Under...</td>\n",
              "      <td>Margin of Error!!Female MOE!!Total population!...</td>\n",
              "      <td>Estimate!!Percent Female!!Total population!!AG...</td>\n",
              "      <td>Margin of Error!!Percent Female MOE!!Total pop...</td>\n",
              "      <td>Estimate!!Total!!Total population!!AGE!!5 to 9...</td>\n",
              "      <td>Margin of Error!!Total MOE!!Total population!!...</td>\n",
              "      <td>Estimate!!Percent!!Total population!!AGE!!5 to...</td>\n",
              "      <td>Margin of Error!!Percent MOE!!Total population...</td>\n",
              "      <td>Estimate!!Male!!Total population!!AGE!!5 to 9 ...</td>\n",
              "      <td>Margin of Error!!Male MOE!!Total population!!A...</td>\n",
              "      <td>Estimate!!Percent Male!!Total population!!AGE!...</td>\n",
              "      <td>Margin of Error!!Percent Male MOE!!Total popul...</td>\n",
              "      <td>Estimate!!Female!!Total population!!AGE!!5 to ...</td>\n",
              "      <td>Margin of Error!!Female MOE!!Total population!...</td>\n",
              "      <td>Estimate!!Percent Female!!Total population!!AG...</td>\n",
              "      <td>Margin of Error!!Percent Female MOE!!Total pop...</td>\n",
              "      <td>Estimate!!Total!!Total population!!AGE!!10 to ...</td>\n",
              "      <td>Margin of Error!!Total MOE!!Total population!!...</td>\n",
              "      <td>...</td>\n",
              "      <td>Estimate!!Female!!Total population!!SUMMARY IN...</td>\n",
              "      <td>Margin of Error!!Female MOE!!Total population!...</td>\n",
              "      <td>Estimate!!Percent Female!!Total population!!SU...</td>\n",
              "      <td>Margin of Error!!Percent Female MOE!!Total pop...</td>\n",
              "      <td>Estimate!!Total!!Total population!!SUMMARY IND...</td>\n",
              "      <td>Margin of Error!!Total MOE!!Total population!!...</td>\n",
              "      <td>Estimate!!Percent!!Total population!!SUMMARY I...</td>\n",
              "      <td>Margin of Error!!Percent MOE!!Total population...</td>\n",
              "      <td>Estimate!!Male!!Total population!!SUMMARY INDI...</td>\n",
              "      <td>Margin of Error!!Male MOE!!Total population!!S...</td>\n",
              "      <td>Estimate!!Percent Male!!Total population!!SUMM...</td>\n",
              "      <td>Margin of Error!!Percent Male MOE!!Total popul...</td>\n",
              "      <td>Estimate!!Female!!Total population!!SUMMARY IN...</td>\n",
              "      <td>Margin of Error!!Female MOE!!Total population!...</td>\n",
              "      <td>Estimate!!Percent Female!!Total population!!SU...</td>\n",
              "      <td>Margin of Error!!Percent Female MOE!!Total pop...</td>\n",
              "      <td>Estimate!!Total!!PERCENT ALLOCATED!!Sex</td>\n",
              "      <td>Margin of Error!!Total MOE!!PERCENT ALLOCATED!...</td>\n",
              "      <td>Estimate!!Percent!!PERCENT ALLOCATED!!Sex</td>\n",
              "      <td>Margin of Error!!Percent MOE!!PERCENT ALLOCATE...</td>\n",
              "      <td>Estimate!!Male!!PERCENT ALLOCATED!!Sex</td>\n",
              "      <td>Margin of Error!!Male MOE!!PERCENT ALLOCATED!!Sex</td>\n",
              "      <td>Estimate!!Percent Male!!PERCENT ALLOCATED!!Sex</td>\n",
              "      <td>Margin of Error!!Percent Male MOE!!PERCENT ALL...</td>\n",
              "      <td>Estimate!!Female!!PERCENT ALLOCATED!!Sex</td>\n",
              "      <td>Margin of Error!!Female MOE!!PERCENT ALLOCATED...</td>\n",
              "      <td>Estimate!!Percent Female!!PERCENT ALLOCATED!!Sex</td>\n",
              "      <td>Margin of Error!!Percent Female MOE!!PERCENT A...</td>\n",
              "      <td>Estimate!!Total!!PERCENT ALLOCATED!!Age</td>\n",
              "      <td>Margin of Error!!Total MOE!!PERCENT ALLOCATED!...</td>\n",
              "      <td>Estimate!!Percent!!PERCENT ALLOCATED!!Age</td>\n",
              "      <td>Margin of Error!!Percent MOE!!PERCENT ALLOCATE...</td>\n",
              "      <td>Estimate!!Male!!PERCENT ALLOCATED!!Age</td>\n",
              "      <td>Margin of Error!!Male MOE!!PERCENT ALLOCATED!!Age</td>\n",
              "      <td>Estimate!!Percent Male!!PERCENT ALLOCATED!!Age</td>\n",
              "      <td>Margin of Error!!Percent Male MOE!!PERCENT ALL...</td>\n",
              "      <td>Estimate!!Female!!PERCENT ALLOCATED!!Age</td>\n",
              "      <td>Margin of Error!!Female MOE!!PERCENT ALLOCATED...</td>\n",
              "      <td>Estimate!!Percent Female!!PERCENT ALLOCATED!!Age</td>\n",
              "      <td>Margin of Error!!Percent Female MOE!!PERCENT A...</td>\n",
              "    </tr>\n",
              "    <tr>\n",
              "      <th>1</th>\n",
              "      <td>0500000US01117</td>\n",
              "      <td>Shelby County, Alabama</td>\n",
              "      <td>215707</td>\n",
              "      <td>*****</td>\n",
              "      <td>(X)</td>\n",
              "      <td>(X)</td>\n",
              "      <td>105022</td>\n",
              "      <td>1416</td>\n",
              "      <td>(X)</td>\n",
              "      <td>(X)</td>\n",
              "      <td>110685</td>\n",
              "      <td>1416</td>\n",
              "      <td>(X)</td>\n",
              "      <td>(X)</td>\n",
              "      <td>11944</td>\n",
              "      <td>698</td>\n",
              "      <td>5.5</td>\n",
              "      <td>0.3</td>\n",
              "      <td>6328</td>\n",
              "      <td>584</td>\n",
              "      <td>6.0</td>\n",
              "      <td>0.5</td>\n",
              "      <td>5616</td>\n",
              "      <td>573</td>\n",
              "      <td>5.1</td>\n",
              "      <td>0.5</td>\n",
              "      <td>13094</td>\n",
              "      <td>1843</td>\n",
              "      <td>6.1</td>\n",
              "      <td>0.9</td>\n",
              "      <td>6100</td>\n",
              "      <td>1177</td>\n",
              "      <td>5.8</td>\n",
              "      <td>1.1</td>\n",
              "      <td>6994</td>\n",
              "      <td>1327</td>\n",
              "      <td>6.3</td>\n",
              "      <td>1.2</td>\n",
              "      <td>14757</td>\n",
              "      <td>1989</td>\n",
              "      <td>...</td>\n",
              "      <td>(X)</td>\n",
              "      <td>(X)</td>\n",
              "      <td>(X)</td>\n",
              "      <td>(X)</td>\n",
              "      <td>36.4</td>\n",
              "      <td>1.5</td>\n",
              "      <td>(X)</td>\n",
              "      <td>(X)</td>\n",
              "      <td>(X)</td>\n",
              "      <td>(X)</td>\n",
              "      <td>(X)</td>\n",
              "      <td>(X)</td>\n",
              "      <td>(X)</td>\n",
              "      <td>(X)</td>\n",
              "      <td>(X)</td>\n",
              "      <td>(X)</td>\n",
              "      <td>(X)</td>\n",
              "      <td>(X)</td>\n",
              "      <td>0.1</td>\n",
              "      <td>(X)</td>\n",
              "      <td>(X)</td>\n",
              "      <td>(X)</td>\n",
              "      <td>(X)</td>\n",
              "      <td>(X)</td>\n",
              "      <td>(X)</td>\n",
              "      <td>(X)</td>\n",
              "      <td>(X)</td>\n",
              "      <td>(X)</td>\n",
              "      <td>(X)</td>\n",
              "      <td>(X)</td>\n",
              "      <td>0.7</td>\n",
              "      <td>(X)</td>\n",
              "      <td>(X)</td>\n",
              "      <td>(X)</td>\n",
              "      <td>(X)</td>\n",
              "      <td>(X)</td>\n",
              "      <td>(X)</td>\n",
              "      <td>(X)</td>\n",
              "      <td>(X)</td>\n",
              "      <td>(X)</td>\n",
              "    </tr>\n",
              "    <tr>\n",
              "      <th>2</th>\n",
              "      <td>0500000US01121</td>\n",
              "      <td>Talladega County, Alabama</td>\n",
              "      <td>79828</td>\n",
              "      <td>*****</td>\n",
              "      <td>(X)</td>\n",
              "      <td>(X)</td>\n",
              "      <td>38489</td>\n",
              "      <td>450</td>\n",
              "      <td>(X)</td>\n",
              "      <td>(X)</td>\n",
              "      <td>41339</td>\n",
              "      <td>450</td>\n",
              "      <td>(X)</td>\n",
              "      <td>(X)</td>\n",
              "      <td>4250</td>\n",
              "      <td>201</td>\n",
              "      <td>5.3</td>\n",
              "      <td>0.2</td>\n",
              "      <td>2209</td>\n",
              "      <td>201</td>\n",
              "      <td>5.7</td>\n",
              "      <td>0.1</td>\n",
              "      <td>2041</td>\n",
              "      <td>201</td>\n",
              "      <td>4.9</td>\n",
              "      <td>0.1</td>\n",
              "      <td>4635</td>\n",
              "      <td>1305</td>\n",
              "      <td>5.8</td>\n",
              "      <td>1.6</td>\n",
              "      <td>2290</td>\n",
              "      <td>1023</td>\n",
              "      <td>5.9</td>\n",
              "      <td>2.7</td>\n",
              "      <td>2345</td>\n",
              "      <td>601</td>\n",
              "      <td>5.7</td>\n",
              "      <td>1.4</td>\n",
              "      <td>4782</td>\n",
              "      <td>1305</td>\n",
              "      <td>...</td>\n",
              "      <td>(X)</td>\n",
              "      <td>(X)</td>\n",
              "      <td>(X)</td>\n",
              "      <td>(X)</td>\n",
              "      <td>34.6</td>\n",
              "      <td>0.1</td>\n",
              "      <td>(X)</td>\n",
              "      <td>(X)</td>\n",
              "      <td>(X)</td>\n",
              "      <td>(X)</td>\n",
              "      <td>(X)</td>\n",
              "      <td>(X)</td>\n",
              "      <td>(X)</td>\n",
              "      <td>(X)</td>\n",
              "      <td>(X)</td>\n",
              "      <td>(X)</td>\n",
              "      <td>(X)</td>\n",
              "      <td>(X)</td>\n",
              "      <td>0.0</td>\n",
              "      <td>(X)</td>\n",
              "      <td>(X)</td>\n",
              "      <td>(X)</td>\n",
              "      <td>(X)</td>\n",
              "      <td>(X)</td>\n",
              "      <td>(X)</td>\n",
              "      <td>(X)</td>\n",
              "      <td>(X)</td>\n",
              "      <td>(X)</td>\n",
              "      <td>(X)</td>\n",
              "      <td>(X)</td>\n",
              "      <td>0.4</td>\n",
              "      <td>(X)</td>\n",
              "      <td>(X)</td>\n",
              "      <td>(X)</td>\n",
              "      <td>(X)</td>\n",
              "      <td>(X)</td>\n",
              "      <td>(X)</td>\n",
              "      <td>(X)</td>\n",
              "      <td>(X)</td>\n",
              "      <td>(X)</td>\n",
              "    </tr>\n",
              "    <tr>\n",
              "      <th>3</th>\n",
              "      <td>0500000US01125</td>\n",
              "      <td>Tuscaloosa County, Alabama</td>\n",
              "      <td>208911</td>\n",
              "      <td>*****</td>\n",
              "      <td>(X)</td>\n",
              "      <td>(X)</td>\n",
              "      <td>99576</td>\n",
              "      <td>877</td>\n",
              "      <td>(X)</td>\n",
              "      <td>(X)</td>\n",
              "      <td>109335</td>\n",
              "      <td>877</td>\n",
              "      <td>(X)</td>\n",
              "      <td>(X)</td>\n",
              "      <td>11789</td>\n",
              "      <td>507</td>\n",
              "      <td>5.6</td>\n",
              "      <td>0.2</td>\n",
              "      <td>5938</td>\n",
              "      <td>324</td>\n",
              "      <td>6.0</td>\n",
              "      <td>0.3</td>\n",
              "      <td>5851</td>\n",
              "      <td>302</td>\n",
              "      <td>5.4</td>\n",
              "      <td>0.3</td>\n",
              "      <td>11636</td>\n",
              "      <td>1466</td>\n",
              "      <td>5.6</td>\n",
              "      <td>0.7</td>\n",
              "      <td>6098</td>\n",
              "      <td>1135</td>\n",
              "      <td>6.1</td>\n",
              "      <td>1.1</td>\n",
              "      <td>5538</td>\n",
              "      <td>1050</td>\n",
              "      <td>5.1</td>\n",
              "      <td>1.0</td>\n",
              "      <td>12544</td>\n",
              "      <td>1573</td>\n",
              "      <td>...</td>\n",
              "      <td>(X)</td>\n",
              "      <td>(X)</td>\n",
              "      <td>(X)</td>\n",
              "      <td>(X)</td>\n",
              "      <td>32.0</td>\n",
              "      <td>0.2</td>\n",
              "      <td>(X)</td>\n",
              "      <td>(X)</td>\n",
              "      <td>(X)</td>\n",
              "      <td>(X)</td>\n",
              "      <td>(X)</td>\n",
              "      <td>(X)</td>\n",
              "      <td>(X)</td>\n",
              "      <td>(X)</td>\n",
              "      <td>(X)</td>\n",
              "      <td>(X)</td>\n",
              "      <td>(X)</td>\n",
              "      <td>(X)</td>\n",
              "      <td>0.1</td>\n",
              "      <td>(X)</td>\n",
              "      <td>(X)</td>\n",
              "      <td>(X)</td>\n",
              "      <td>(X)</td>\n",
              "      <td>(X)</td>\n",
              "      <td>(X)</td>\n",
              "      <td>(X)</td>\n",
              "      <td>(X)</td>\n",
              "      <td>(X)</td>\n",
              "      <td>(X)</td>\n",
              "      <td>(X)</td>\n",
              "      <td>9.2</td>\n",
              "      <td>(X)</td>\n",
              "      <td>(X)</td>\n",
              "      <td>(X)</td>\n",
              "      <td>(X)</td>\n",
              "      <td>(X)</td>\n",
              "      <td>(X)</td>\n",
              "      <td>(X)</td>\n",
              "      <td>(X)</td>\n",
              "      <td>(X)</td>\n",
              "    </tr>\n",
              "    <tr>\n",
              "      <th>4</th>\n",
              "      <td>0500000US04021</td>\n",
              "      <td>Pinal County, Arizona</td>\n",
              "      <td>447138</td>\n",
              "      <td>*****</td>\n",
              "      <td>(X)</td>\n",
              "      <td>(X)</td>\n",
              "      <td>233292</td>\n",
              "      <td>675</td>\n",
              "      <td>(X)</td>\n",
              "      <td>(X)</td>\n",
              "      <td>213846</td>\n",
              "      <td>675</td>\n",
              "      <td>(X)</td>\n",
              "      <td>(X)</td>\n",
              "      <td>25176</td>\n",
              "      <td>315</td>\n",
              "      <td>5.6</td>\n",
              "      <td>0.1</td>\n",
              "      <td>13241</td>\n",
              "      <td>251</td>\n",
              "      <td>5.7</td>\n",
              "      <td>0.1</td>\n",
              "      <td>11935</td>\n",
              "      <td>357</td>\n",
              "      <td>5.6</td>\n",
              "      <td>0.2</td>\n",
              "      <td>27911</td>\n",
              "      <td>2271</td>\n",
              "      <td>6.2</td>\n",
              "      <td>0.5</td>\n",
              "      <td>14190</td>\n",
              "      <td>1592</td>\n",
              "      <td>6.1</td>\n",
              "      <td>0.7</td>\n",
              "      <td>13721</td>\n",
              "      <td>1602</td>\n",
              "      <td>6.4</td>\n",
              "      <td>0.7</td>\n",
              "      <td>31371</td>\n",
              "      <td>2384</td>\n",
              "      <td>...</td>\n",
              "      <td>(X)</td>\n",
              "      <td>(X)</td>\n",
              "      <td>(X)</td>\n",
              "      <td>(X)</td>\n",
              "      <td>39.6</td>\n",
              "      <td>0.2</td>\n",
              "      <td>(X)</td>\n",
              "      <td>(X)</td>\n",
              "      <td>(X)</td>\n",
              "      <td>(X)</td>\n",
              "      <td>(X)</td>\n",
              "      <td>(X)</td>\n",
              "      <td>(X)</td>\n",
              "      <td>(X)</td>\n",
              "      <td>(X)</td>\n",
              "      <td>(X)</td>\n",
              "      <td>(X)</td>\n",
              "      <td>(X)</td>\n",
              "      <td>0.1</td>\n",
              "      <td>(X)</td>\n",
              "      <td>(X)</td>\n",
              "      <td>(X)</td>\n",
              "      <td>(X)</td>\n",
              "      <td>(X)</td>\n",
              "      <td>(X)</td>\n",
              "      <td>(X)</td>\n",
              "      <td>(X)</td>\n",
              "      <td>(X)</td>\n",
              "      <td>(X)</td>\n",
              "      <td>(X)</td>\n",
              "      <td>1.9</td>\n",
              "      <td>(X)</td>\n",
              "      <td>(X)</td>\n",
              "      <td>(X)</td>\n",
              "      <td>(X)</td>\n",
              "      <td>(X)</td>\n",
              "      <td>(X)</td>\n",
              "      <td>(X)</td>\n",
              "      <td>(X)</td>\n",
              "      <td>(X)</td>\n",
              "    </tr>\n",
              "  </tbody>\n",
              "</table>\n",
              "<p>5 rows × 458 columns</p>\n",
              "</div>"
            ],
            "text/plain": [
              "           GEO_ID  ...                                     S0101_C06_038M\n",
              "0              id  ...  Margin of Error!!Percent Female MOE!!PERCENT A...\n",
              "1  0500000US01117  ...                                                (X)\n",
              "2  0500000US01121  ...                                                (X)\n",
              "3  0500000US01125  ...                                                (X)\n",
              "4  0500000US04021  ...                                                (X)\n",
              "\n",
              "[5 rows x 458 columns]"
            ]
          },
          "metadata": {
            "tags": []
          },
          "execution_count": 75
        }
      ]
    },
    {
      "cell_type": "code",
      "metadata": {
        "id": "kHaqDVv5fs85",
        "colab_type": "code",
        "colab": {}
      },
      "source": [
        "# make the first row (Row 0) the column header names\n",
        "\n",
        "df_population.columns = df_population.iloc[0]"
      ],
      "execution_count": 0,
      "outputs": []
    },
    {
      "cell_type": "code",
      "metadata": {
        "id": "3oqFvrVOfwlw",
        "colab_type": "code",
        "colab": {}
      },
      "source": [
        "# remove the first row \n",
        "#(i.e. make the dataframe now all of the data after the first row)\n",
        "\n",
        "df_population = df_population[1:]"
      ],
      "execution_count": 0,
      "outputs": []
    },
    {
      "cell_type": "code",
      "metadata": {
        "id": "vGglDp6ygFBj",
        "colab_type": "code",
        "colab": {
          "base_uri": "https://localhost:8080/",
          "height": 1000
        },
        "outputId": "ae7933ef-ec6a-4d08-ec29-706dbe6ff360"
      },
      "source": [
        "# look at all columns in dataframe\n",
        "df_population.columns.tolist()"
      ],
      "execution_count": 78,
      "outputs": [
        {
          "output_type": "execute_result",
          "data": {
            "text/plain": [
              "['id',\n",
              " 'Geographic Area Name',\n",
              " 'Estimate!!Total!!Total population',\n",
              " 'Margin of Error!!Total MOE!!Total population',\n",
              " 'Estimate!!Percent!!Total population',\n",
              " 'Margin of Error!!Percent MOE!!Total population',\n",
              " 'Estimate!!Male!!Total population',\n",
              " 'Margin of Error!!Male MOE!!Total population',\n",
              " 'Estimate!!Percent Male!!Total population',\n",
              " 'Margin of Error!!Percent Male MOE!!Total population',\n",
              " 'Estimate!!Female!!Total population',\n",
              " 'Margin of Error!!Female MOE!!Total population',\n",
              " 'Estimate!!Percent Female!!Total population',\n",
              " 'Margin of Error!!Percent Female MOE!!Total population',\n",
              " 'Estimate!!Total!!Total population!!AGE!!Under 5 years',\n",
              " 'Margin of Error!!Total MOE!!Total population!!AGE!!Under 5 years',\n",
              " 'Estimate!!Percent!!Total population!!AGE!!Under 5 years',\n",
              " 'Margin of Error!!Percent MOE!!Total population!!AGE!!Under 5 years',\n",
              " 'Estimate!!Male!!Total population!!AGE!!Under 5 years',\n",
              " 'Margin of Error!!Male MOE!!Total population!!AGE!!Under 5 years',\n",
              " 'Estimate!!Percent Male!!Total population!!AGE!!Under 5 years',\n",
              " 'Margin of Error!!Percent Male MOE!!Total population!!AGE!!Under 5 years',\n",
              " 'Estimate!!Female!!Total population!!AGE!!Under 5 years',\n",
              " 'Margin of Error!!Female MOE!!Total population!!AGE!!Under 5 years',\n",
              " 'Estimate!!Percent Female!!Total population!!AGE!!Under 5 years',\n",
              " 'Margin of Error!!Percent Female MOE!!Total population!!AGE!!Under 5 years',\n",
              " 'Estimate!!Total!!Total population!!AGE!!5 to 9 years',\n",
              " 'Margin of Error!!Total MOE!!Total population!!AGE!!5 to 9 years',\n",
              " 'Estimate!!Percent!!Total population!!AGE!!5 to 9 years',\n",
              " 'Margin of Error!!Percent MOE!!Total population!!AGE!!5 to 9 years',\n",
              " 'Estimate!!Male!!Total population!!AGE!!5 to 9 years',\n",
              " 'Margin of Error!!Male MOE!!Total population!!AGE!!5 to 9 years',\n",
              " 'Estimate!!Percent Male!!Total population!!AGE!!5 to 9 years',\n",
              " 'Margin of Error!!Percent Male MOE!!Total population!!AGE!!5 to 9 years',\n",
              " 'Estimate!!Female!!Total population!!AGE!!5 to 9 years',\n",
              " 'Margin of Error!!Female MOE!!Total population!!AGE!!5 to 9 years',\n",
              " 'Estimate!!Percent Female!!Total population!!AGE!!5 to 9 years',\n",
              " 'Margin of Error!!Percent Female MOE!!Total population!!AGE!!5 to 9 years',\n",
              " 'Estimate!!Total!!Total population!!AGE!!10 to 14 years',\n",
              " 'Margin of Error!!Total MOE!!Total population!!AGE!!10 to 14 years',\n",
              " 'Estimate!!Percent!!Total population!!AGE!!10 to 14 years',\n",
              " 'Margin of Error!!Percent MOE!!Total population!!AGE!!10 to 14 years',\n",
              " 'Estimate!!Male!!Total population!!AGE!!10 to 14 years',\n",
              " 'Margin of Error!!Male MOE!!Total population!!AGE!!10 to 14 years',\n",
              " 'Estimate!!Percent Male!!Total population!!AGE!!10 to 14 years',\n",
              " 'Margin of Error!!Percent Male MOE!!Total population!!AGE!!10 to 14 years',\n",
              " 'Estimate!!Female!!Total population!!AGE!!10 to 14 years',\n",
              " 'Margin of Error!!Female MOE!!Total population!!AGE!!10 to 14 years',\n",
              " 'Estimate!!Percent Female!!Total population!!AGE!!10 to 14 years',\n",
              " 'Margin of Error!!Percent Female MOE!!Total population!!AGE!!10 to 14 years',\n",
              " 'Estimate!!Total!!Total population!!AGE!!15 to 19 years',\n",
              " 'Margin of Error!!Total MOE!!Total population!!AGE!!15 to 19 years',\n",
              " 'Estimate!!Percent!!Total population!!AGE!!15 to 19 years',\n",
              " 'Margin of Error!!Percent MOE!!Total population!!AGE!!15 to 19 years',\n",
              " 'Estimate!!Male!!Total population!!AGE!!15 to 19 years',\n",
              " 'Margin of Error!!Male MOE!!Total population!!AGE!!15 to 19 years',\n",
              " 'Estimate!!Percent Male!!Total population!!AGE!!15 to 19 years',\n",
              " 'Margin of Error!!Percent Male MOE!!Total population!!AGE!!15 to 19 years',\n",
              " 'Estimate!!Female!!Total population!!AGE!!15 to 19 years',\n",
              " 'Margin of Error!!Female MOE!!Total population!!AGE!!15 to 19 years',\n",
              " 'Estimate!!Percent Female!!Total population!!AGE!!15 to 19 years',\n",
              " 'Margin of Error!!Percent Female MOE!!Total population!!AGE!!15 to 19 years',\n",
              " 'Estimate!!Total!!Total population!!AGE!!20 to 24 years',\n",
              " 'Margin of Error!!Total MOE!!Total population!!AGE!!20 to 24 years',\n",
              " 'Estimate!!Percent!!Total population!!AGE!!20 to 24 years',\n",
              " 'Margin of Error!!Percent MOE!!Total population!!AGE!!20 to 24 years',\n",
              " 'Estimate!!Male!!Total population!!AGE!!20 to 24 years',\n",
              " 'Margin of Error!!Male MOE!!Total population!!AGE!!20 to 24 years',\n",
              " 'Estimate!!Percent Male!!Total population!!AGE!!20 to 24 years',\n",
              " 'Margin of Error!!Percent Male MOE!!Total population!!AGE!!20 to 24 years',\n",
              " 'Estimate!!Female!!Total population!!AGE!!20 to 24 years',\n",
              " 'Margin of Error!!Female MOE!!Total population!!AGE!!20 to 24 years',\n",
              " 'Estimate!!Percent Female!!Total population!!AGE!!20 to 24 years',\n",
              " 'Margin of Error!!Percent Female MOE!!Total population!!AGE!!20 to 24 years',\n",
              " 'Estimate!!Total!!Total population!!AGE!!25 to 29 years',\n",
              " 'Margin of Error!!Total MOE!!Total population!!AGE!!25 to 29 years',\n",
              " 'Estimate!!Percent!!Total population!!AGE!!25 to 29 years',\n",
              " 'Margin of Error!!Percent MOE!!Total population!!AGE!!25 to 29 years',\n",
              " 'Estimate!!Male!!Total population!!AGE!!25 to 29 years',\n",
              " 'Margin of Error!!Male MOE!!Total population!!AGE!!25 to 29 years',\n",
              " 'Estimate!!Percent Male!!Total population!!AGE!!25 to 29 years',\n",
              " 'Margin of Error!!Percent Male MOE!!Total population!!AGE!!25 to 29 years',\n",
              " 'Estimate!!Female!!Total population!!AGE!!25 to 29 years',\n",
              " 'Margin of Error!!Female MOE!!Total population!!AGE!!25 to 29 years',\n",
              " 'Estimate!!Percent Female!!Total population!!AGE!!25 to 29 years',\n",
              " 'Margin of Error!!Percent Female MOE!!Total population!!AGE!!25 to 29 years',\n",
              " 'Estimate!!Total!!Total population!!AGE!!30 to 34 years',\n",
              " 'Margin of Error!!Total MOE!!Total population!!AGE!!30 to 34 years',\n",
              " 'Estimate!!Percent!!Total population!!AGE!!30 to 34 years',\n",
              " 'Margin of Error!!Percent MOE!!Total population!!AGE!!30 to 34 years',\n",
              " 'Estimate!!Male!!Total population!!AGE!!30 to 34 years',\n",
              " 'Margin of Error!!Male MOE!!Total population!!AGE!!30 to 34 years',\n",
              " 'Estimate!!Percent Male!!Total population!!AGE!!30 to 34 years',\n",
              " 'Margin of Error!!Percent Male MOE!!Total population!!AGE!!30 to 34 years',\n",
              " 'Estimate!!Female!!Total population!!AGE!!30 to 34 years',\n",
              " 'Margin of Error!!Female MOE!!Total population!!AGE!!30 to 34 years',\n",
              " 'Estimate!!Percent Female!!Total population!!AGE!!30 to 34 years',\n",
              " 'Margin of Error!!Percent Female MOE!!Total population!!AGE!!30 to 34 years',\n",
              " 'Estimate!!Total!!Total population!!AGE!!35 to 39 years',\n",
              " 'Margin of Error!!Total MOE!!Total population!!AGE!!35 to 39 years',\n",
              " 'Estimate!!Percent!!Total population!!AGE!!35 to 39 years',\n",
              " 'Margin of Error!!Percent MOE!!Total population!!AGE!!35 to 39 years',\n",
              " 'Estimate!!Male!!Total population!!AGE!!35 to 39 years',\n",
              " 'Margin of Error!!Male MOE!!Total population!!AGE!!35 to 39 years',\n",
              " 'Estimate!!Percent Male!!Total population!!AGE!!35 to 39 years',\n",
              " 'Margin of Error!!Percent Male MOE!!Total population!!AGE!!35 to 39 years',\n",
              " 'Estimate!!Female!!Total population!!AGE!!35 to 39 years',\n",
              " 'Margin of Error!!Female MOE!!Total population!!AGE!!35 to 39 years',\n",
              " 'Estimate!!Percent Female!!Total population!!AGE!!35 to 39 years',\n",
              " 'Margin of Error!!Percent Female MOE!!Total population!!AGE!!35 to 39 years',\n",
              " 'Estimate!!Total!!Total population!!AGE!!40 to 44 years',\n",
              " 'Margin of Error!!Total MOE!!Total population!!AGE!!40 to 44 years',\n",
              " 'Estimate!!Percent!!Total population!!AGE!!40 to 44 years',\n",
              " 'Margin of Error!!Percent MOE!!Total population!!AGE!!40 to 44 years',\n",
              " 'Estimate!!Male!!Total population!!AGE!!40 to 44 years',\n",
              " 'Margin of Error!!Male MOE!!Total population!!AGE!!40 to 44 years',\n",
              " 'Estimate!!Percent Male!!Total population!!AGE!!40 to 44 years',\n",
              " 'Margin of Error!!Percent Male MOE!!Total population!!AGE!!40 to 44 years',\n",
              " 'Estimate!!Female!!Total population!!AGE!!40 to 44 years',\n",
              " 'Margin of Error!!Female MOE!!Total population!!AGE!!40 to 44 years',\n",
              " 'Estimate!!Percent Female!!Total population!!AGE!!40 to 44 years',\n",
              " 'Margin of Error!!Percent Female MOE!!Total population!!AGE!!40 to 44 years',\n",
              " 'Estimate!!Total!!Total population!!AGE!!45 to 49 years',\n",
              " 'Margin of Error!!Total MOE!!Total population!!AGE!!45 to 49 years',\n",
              " 'Estimate!!Percent!!Total population!!AGE!!45 to 49 years',\n",
              " 'Margin of Error!!Percent MOE!!Total population!!AGE!!45 to 49 years',\n",
              " 'Estimate!!Male!!Total population!!AGE!!45 to 49 years',\n",
              " 'Margin of Error!!Male MOE!!Total population!!AGE!!45 to 49 years',\n",
              " 'Estimate!!Percent Male!!Total population!!AGE!!45 to 49 years',\n",
              " 'Margin of Error!!Percent Male MOE!!Total population!!AGE!!45 to 49 years',\n",
              " 'Estimate!!Female!!Total population!!AGE!!45 to 49 years',\n",
              " 'Margin of Error!!Female MOE!!Total population!!AGE!!45 to 49 years',\n",
              " 'Estimate!!Percent Female!!Total population!!AGE!!45 to 49 years',\n",
              " 'Margin of Error!!Percent Female MOE!!Total population!!AGE!!45 to 49 years',\n",
              " 'Estimate!!Total!!Total population!!AGE!!50 to 54 years',\n",
              " 'Margin of Error!!Total MOE!!Total population!!AGE!!50 to 54 years',\n",
              " 'Estimate!!Percent!!Total population!!AGE!!50 to 54 years',\n",
              " 'Margin of Error!!Percent MOE!!Total population!!AGE!!50 to 54 years',\n",
              " 'Estimate!!Male!!Total population!!AGE!!50 to 54 years',\n",
              " 'Margin of Error!!Male MOE!!Total population!!AGE!!50 to 54 years',\n",
              " 'Estimate!!Percent Male!!Total population!!AGE!!50 to 54 years',\n",
              " 'Margin of Error!!Percent Male MOE!!Total population!!AGE!!50 to 54 years',\n",
              " 'Estimate!!Female!!Total population!!AGE!!50 to 54 years',\n",
              " 'Margin of Error!!Female MOE!!Total population!!AGE!!50 to 54 years',\n",
              " 'Estimate!!Percent Female!!Total population!!AGE!!50 to 54 years',\n",
              " 'Margin of Error!!Percent Female MOE!!Total population!!AGE!!50 to 54 years',\n",
              " 'Estimate!!Total!!Total population!!AGE!!55 to 59 years',\n",
              " 'Margin of Error!!Total MOE!!Total population!!AGE!!55 to 59 years',\n",
              " 'Estimate!!Percent!!Total population!!AGE!!55 to 59 years',\n",
              " 'Margin of Error!!Percent MOE!!Total population!!AGE!!55 to 59 years',\n",
              " 'Estimate!!Male!!Total population!!AGE!!55 to 59 years',\n",
              " 'Margin of Error!!Male MOE!!Total population!!AGE!!55 to 59 years',\n",
              " 'Estimate!!Percent Male!!Total population!!AGE!!55 to 59 years',\n",
              " 'Margin of Error!!Percent Male MOE!!Total population!!AGE!!55 to 59 years',\n",
              " 'Estimate!!Female!!Total population!!AGE!!55 to 59 years',\n",
              " 'Margin of Error!!Female MOE!!Total population!!AGE!!55 to 59 years',\n",
              " 'Estimate!!Percent Female!!Total population!!AGE!!55 to 59 years',\n",
              " 'Margin of Error!!Percent Female MOE!!Total population!!AGE!!55 to 59 years',\n",
              " 'Estimate!!Total!!Total population!!AGE!!60 to 64 years',\n",
              " 'Margin of Error!!Total MOE!!Total population!!AGE!!60 to 64 years',\n",
              " 'Estimate!!Percent!!Total population!!AGE!!60 to 64 years',\n",
              " 'Margin of Error!!Percent MOE!!Total population!!AGE!!60 to 64 years',\n",
              " 'Estimate!!Male!!Total population!!AGE!!60 to 64 years',\n",
              " 'Margin of Error!!Male MOE!!Total population!!AGE!!60 to 64 years',\n",
              " 'Estimate!!Percent Male!!Total population!!AGE!!60 to 64 years',\n",
              " 'Margin of Error!!Percent Male MOE!!Total population!!AGE!!60 to 64 years',\n",
              " 'Estimate!!Female!!Total population!!AGE!!60 to 64 years',\n",
              " 'Margin of Error!!Female MOE!!Total population!!AGE!!60 to 64 years',\n",
              " 'Estimate!!Percent Female!!Total population!!AGE!!60 to 64 years',\n",
              " 'Margin of Error!!Percent Female MOE!!Total population!!AGE!!60 to 64 years',\n",
              " 'Estimate!!Total!!Total population!!AGE!!65 to 69 years',\n",
              " 'Margin of Error!!Total MOE!!Total population!!AGE!!65 to 69 years',\n",
              " 'Estimate!!Percent!!Total population!!AGE!!65 to 69 years',\n",
              " 'Margin of Error!!Percent MOE!!Total population!!AGE!!65 to 69 years',\n",
              " 'Estimate!!Male!!Total population!!AGE!!65 to 69 years',\n",
              " 'Margin of Error!!Male MOE!!Total population!!AGE!!65 to 69 years',\n",
              " 'Estimate!!Percent Male!!Total population!!AGE!!65 to 69 years',\n",
              " 'Margin of Error!!Percent Male MOE!!Total population!!AGE!!65 to 69 years',\n",
              " 'Estimate!!Female!!Total population!!AGE!!65 to 69 years',\n",
              " 'Margin of Error!!Female MOE!!Total population!!AGE!!65 to 69 years',\n",
              " 'Estimate!!Percent Female!!Total population!!AGE!!65 to 69 years',\n",
              " 'Margin of Error!!Percent Female MOE!!Total population!!AGE!!65 to 69 years',\n",
              " 'Estimate!!Total!!Total population!!AGE!!70 to 74 years',\n",
              " 'Margin of Error!!Total MOE!!Total population!!AGE!!70 to 74 years',\n",
              " 'Estimate!!Percent!!Total population!!AGE!!70 to 74 years',\n",
              " 'Margin of Error!!Percent MOE!!Total population!!AGE!!70 to 74 years',\n",
              " 'Estimate!!Male!!Total population!!AGE!!70 to 74 years',\n",
              " 'Margin of Error!!Male MOE!!Total population!!AGE!!70 to 74 years',\n",
              " 'Estimate!!Percent Male!!Total population!!AGE!!70 to 74 years',\n",
              " 'Margin of Error!!Percent Male MOE!!Total population!!AGE!!70 to 74 years',\n",
              " 'Estimate!!Female!!Total population!!AGE!!70 to 74 years',\n",
              " 'Margin of Error!!Female MOE!!Total population!!AGE!!70 to 74 years',\n",
              " 'Estimate!!Percent Female!!Total population!!AGE!!70 to 74 years',\n",
              " 'Margin of Error!!Percent Female MOE!!Total population!!AGE!!70 to 74 years',\n",
              " 'Estimate!!Total!!Total population!!AGE!!75 to 79 years',\n",
              " 'Margin of Error!!Total MOE!!Total population!!AGE!!75 to 79 years',\n",
              " 'Estimate!!Percent!!Total population!!AGE!!75 to 79 years',\n",
              " 'Margin of Error!!Percent MOE!!Total population!!AGE!!75 to 79 years',\n",
              " 'Estimate!!Male!!Total population!!AGE!!75 to 79 years',\n",
              " 'Margin of Error!!Male MOE!!Total population!!AGE!!75 to 79 years',\n",
              " 'Estimate!!Percent Male!!Total population!!AGE!!75 to 79 years',\n",
              " 'Margin of Error!!Percent Male MOE!!Total population!!AGE!!75 to 79 years',\n",
              " 'Estimate!!Female!!Total population!!AGE!!75 to 79 years',\n",
              " 'Margin of Error!!Female MOE!!Total population!!AGE!!75 to 79 years',\n",
              " 'Estimate!!Percent Female!!Total population!!AGE!!75 to 79 years',\n",
              " 'Margin of Error!!Percent Female MOE!!Total population!!AGE!!75 to 79 years',\n",
              " 'Estimate!!Total!!Total population!!AGE!!80 to 84 years',\n",
              " 'Margin of Error!!Total MOE!!Total population!!AGE!!80 to 84 years',\n",
              " 'Estimate!!Percent!!Total population!!AGE!!80 to 84 years',\n",
              " 'Margin of Error!!Percent MOE!!Total population!!AGE!!80 to 84 years',\n",
              " 'Estimate!!Male!!Total population!!AGE!!80 to 84 years',\n",
              " 'Margin of Error!!Male MOE!!Total population!!AGE!!80 to 84 years',\n",
              " 'Estimate!!Percent Male!!Total population!!AGE!!80 to 84 years',\n",
              " 'Margin of Error!!Percent Male MOE!!Total population!!AGE!!80 to 84 years',\n",
              " 'Estimate!!Female!!Total population!!AGE!!80 to 84 years',\n",
              " 'Margin of Error!!Female MOE!!Total population!!AGE!!80 to 84 years',\n",
              " 'Estimate!!Percent Female!!Total population!!AGE!!80 to 84 years',\n",
              " 'Margin of Error!!Percent Female MOE!!Total population!!AGE!!80 to 84 years',\n",
              " 'Estimate!!Total!!Total population!!AGE!!85 years and over',\n",
              " 'Margin of Error!!Total MOE!!Total population!!AGE!!85 years and over',\n",
              " 'Estimate!!Percent!!Total population!!AGE!!85 years and over',\n",
              " 'Margin of Error!!Percent MOE!!Total population!!AGE!!85 years and over',\n",
              " 'Estimate!!Male!!Total population!!AGE!!85 years and over',\n",
              " 'Margin of Error!!Male MOE!!Total population!!AGE!!85 years and over',\n",
              " 'Estimate!!Percent Male!!Total population!!AGE!!85 years and over',\n",
              " 'Margin of Error!!Percent Male MOE!!Total population!!AGE!!85 years and over',\n",
              " 'Estimate!!Female!!Total population!!AGE!!85 years and over',\n",
              " 'Margin of Error!!Female MOE!!Total population!!AGE!!85 years and over',\n",
              " 'Estimate!!Percent Female!!Total population!!AGE!!85 years and over',\n",
              " 'Margin of Error!!Percent Female MOE!!Total population!!AGE!!85 years and over',\n",
              " 'Estimate!!Total!!Total population!!SELECTED AGE CATEGORIES!!5 to 14 years',\n",
              " 'Margin of Error!!Total MOE!!Total population!!SELECTED AGE CATEGORIES!!5 to 14 years',\n",
              " 'Estimate!!Percent!!Total population!!SELECTED AGE CATEGORIES!!5 to 14 years',\n",
              " 'Margin of Error!!Percent MOE!!Total population!!SELECTED AGE CATEGORIES!!5 to 14 years',\n",
              " 'Estimate!!Male!!Total population!!SELECTED AGE CATEGORIES!!5 to 14 years',\n",
              " 'Margin of Error!!Male MOE!!Total population!!SELECTED AGE CATEGORIES!!5 to 14 years',\n",
              " 'Estimate!!Percent Male!!Total population!!SELECTED AGE CATEGORIES!!5 to 14 years',\n",
              " 'Margin of Error!!Percent Male MOE!!Total population!!SELECTED AGE CATEGORIES!!5 to 14 years',\n",
              " 'Estimate!!Female!!Total population!!SELECTED AGE CATEGORIES!!5 to 14 years',\n",
              " 'Margin of Error!!Female MOE!!Total population!!SELECTED AGE CATEGORIES!!5 to 14 years',\n",
              " 'Estimate!!Percent Female!!Total population!!SELECTED AGE CATEGORIES!!5 to 14 years',\n",
              " 'Margin of Error!!Percent Female MOE!!Total population!!SELECTED AGE CATEGORIES!!5 to 14 years',\n",
              " 'Estimate!!Total!!Total population!!SELECTED AGE CATEGORIES!!15 to 17 years',\n",
              " 'Margin of Error!!Total MOE!!Total population!!SELECTED AGE CATEGORIES!!15 to 17 years',\n",
              " 'Estimate!!Percent!!Total population!!SELECTED AGE CATEGORIES!!15 to 17 years',\n",
              " 'Margin of Error!!Percent MOE!!Total population!!SELECTED AGE CATEGORIES!!15 to 17 years',\n",
              " 'Estimate!!Male!!Total population!!SELECTED AGE CATEGORIES!!15 to 17 years',\n",
              " 'Margin of Error!!Male MOE!!Total population!!SELECTED AGE CATEGORIES!!15 to 17 years',\n",
              " 'Estimate!!Percent Male!!Total population!!SELECTED AGE CATEGORIES!!15 to 17 years',\n",
              " 'Margin of Error!!Percent Male MOE!!Total population!!SELECTED AGE CATEGORIES!!15 to 17 years',\n",
              " 'Estimate!!Female!!Total population!!SELECTED AGE CATEGORIES!!15 to 17 years',\n",
              " 'Margin of Error!!Female MOE!!Total population!!SELECTED AGE CATEGORIES!!15 to 17 years',\n",
              " 'Estimate!!Percent Female!!Total population!!SELECTED AGE CATEGORIES!!15 to 17 years',\n",
              " 'Margin of Error!!Percent Female MOE!!Total population!!SELECTED AGE CATEGORIES!!15 to 17 years',\n",
              " 'Estimate!!Total!!Total population!!SELECTED AGE CATEGORIES!!Under 18 years',\n",
              " 'Margin of Error!!Total MOE!!Total population!!SELECTED AGE CATEGORIES!!Under 18 years',\n",
              " 'Estimate!!Percent!!Total population!!SELECTED AGE CATEGORIES!!Under 18 years',\n",
              " 'Margin of Error!!Percent MOE!!Total population!!SELECTED AGE CATEGORIES!!Under 18 years',\n",
              " 'Estimate!!Male!!Total population!!SELECTED AGE CATEGORIES!!Under 18 years',\n",
              " 'Margin of Error!!Male MOE!!Total population!!SELECTED AGE CATEGORIES!!Under 18 years',\n",
              " 'Estimate!!Percent Male!!Total population!!SELECTED AGE CATEGORIES!!Under 18 years',\n",
              " 'Margin of Error!!Percent Male MOE!!Total population!!SELECTED AGE CATEGORIES!!Under 18 years',\n",
              " 'Estimate!!Female!!Total population!!SELECTED AGE CATEGORIES!!Under 18 years',\n",
              " 'Margin of Error!!Female MOE!!Total population!!SELECTED AGE CATEGORIES!!Under 18 years',\n",
              " 'Estimate!!Percent Female!!Total population!!SELECTED AGE CATEGORIES!!Under 18 years',\n",
              " 'Margin of Error!!Percent Female MOE!!Total population!!SELECTED AGE CATEGORIES!!Under 18 years',\n",
              " 'Estimate!!Total!!Total population!!SELECTED AGE CATEGORIES!!18 to 24 years',\n",
              " 'Margin of Error!!Total MOE!!Total population!!SELECTED AGE CATEGORIES!!18 to 24 years',\n",
              " 'Estimate!!Percent!!Total population!!SELECTED AGE CATEGORIES!!18 to 24 years',\n",
              " 'Margin of Error!!Percent MOE!!Total population!!SELECTED AGE CATEGORIES!!18 to 24 years',\n",
              " 'Estimate!!Male!!Total population!!SELECTED AGE CATEGORIES!!18 to 24 years',\n",
              " 'Margin of Error!!Male MOE!!Total population!!SELECTED AGE CATEGORIES!!18 to 24 years',\n",
              " 'Estimate!!Percent Male!!Total population!!SELECTED AGE CATEGORIES!!18 to 24 years',\n",
              " 'Margin of Error!!Percent Male MOE!!Total population!!SELECTED AGE CATEGORIES!!18 to 24 years',\n",
              " 'Estimate!!Female!!Total population!!SELECTED AGE CATEGORIES!!18 to 24 years',\n",
              " 'Margin of Error!!Female MOE!!Total population!!SELECTED AGE CATEGORIES!!18 to 24 years',\n",
              " 'Estimate!!Percent Female!!Total population!!SELECTED AGE CATEGORIES!!18 to 24 years',\n",
              " 'Margin of Error!!Percent Female MOE!!Total population!!SELECTED AGE CATEGORIES!!18 to 24 years',\n",
              " 'Estimate!!Total!!Total population!!SELECTED AGE CATEGORIES!!15 to 44 years',\n",
              " 'Margin of Error!!Total MOE!!Total population!!SELECTED AGE CATEGORIES!!15 to 44 years',\n",
              " 'Estimate!!Percent!!Total population!!SELECTED AGE CATEGORIES!!15 to 44 years',\n",
              " 'Margin of Error!!Percent MOE!!Total population!!SELECTED AGE CATEGORIES!!15 to 44 years',\n",
              " 'Estimate!!Male!!Total population!!SELECTED AGE CATEGORIES!!15 to 44 years',\n",
              " 'Margin of Error!!Male MOE!!Total population!!SELECTED AGE CATEGORIES!!15 to 44 years',\n",
              " 'Estimate!!Percent Male!!Total population!!SELECTED AGE CATEGORIES!!15 to 44 years',\n",
              " 'Margin of Error!!Percent Male MOE!!Total population!!SELECTED AGE CATEGORIES!!15 to 44 years',\n",
              " 'Estimate!!Female!!Total population!!SELECTED AGE CATEGORIES!!15 to 44 years',\n",
              " 'Margin of Error!!Female MOE!!Total population!!SELECTED AGE CATEGORIES!!15 to 44 years',\n",
              " 'Estimate!!Percent Female!!Total population!!SELECTED AGE CATEGORIES!!15 to 44 years',\n",
              " 'Margin of Error!!Percent Female MOE!!Total population!!SELECTED AGE CATEGORIES!!15 to 44 years',\n",
              " 'Estimate!!Total!!Total population!!SELECTED AGE CATEGORIES!!16 years and over',\n",
              " 'Margin of Error!!Total MOE!!Total population!!SELECTED AGE CATEGORIES!!16 years and over',\n",
              " 'Estimate!!Percent!!Total population!!SELECTED AGE CATEGORIES!!16 years and over',\n",
              " 'Margin of Error!!Percent MOE!!Total population!!SELECTED AGE CATEGORIES!!16 years and over',\n",
              " 'Estimate!!Male!!Total population!!SELECTED AGE CATEGORIES!!16 years and over',\n",
              " 'Margin of Error!!Male MOE!!Total population!!SELECTED AGE CATEGORIES!!16 years and over',\n",
              " 'Estimate!!Percent Male!!Total population!!SELECTED AGE CATEGORIES!!16 years and over',\n",
              " 'Margin of Error!!Percent Male MOE!!Total population!!SELECTED AGE CATEGORIES!!16 years and over',\n",
              " 'Estimate!!Female!!Total population!!SELECTED AGE CATEGORIES!!16 years and over',\n",
              " 'Margin of Error!!Female MOE!!Total population!!SELECTED AGE CATEGORIES!!16 years and over',\n",
              " 'Estimate!!Percent Female!!Total population!!SELECTED AGE CATEGORIES!!16 years and over',\n",
              " 'Margin of Error!!Percent Female MOE!!Total population!!SELECTED AGE CATEGORIES!!16 years and over',\n",
              " 'Estimate!!Total!!Total population!!SELECTED AGE CATEGORIES!!18 years and over',\n",
              " 'Margin of Error!!Total MOE!!Total population!!SELECTED AGE CATEGORIES!!18 years and over',\n",
              " 'Estimate!!Percent!!Total population!!SELECTED AGE CATEGORIES!!18 years and over',\n",
              " 'Margin of Error!!Percent MOE!!Total population!!SELECTED AGE CATEGORIES!!18 years and over',\n",
              " 'Estimate!!Male!!Total population!!SELECTED AGE CATEGORIES!!18 years and over',\n",
              " 'Margin of Error!!Male MOE!!Total population!!SELECTED AGE CATEGORIES!!18 years and over',\n",
              " 'Estimate!!Percent Male!!Total population!!SELECTED AGE CATEGORIES!!18 years and over',\n",
              " 'Margin of Error!!Percent Male MOE!!Total population!!SELECTED AGE CATEGORIES!!18 years and over',\n",
              " 'Estimate!!Female!!Total population!!SELECTED AGE CATEGORIES!!18 years and over',\n",
              " 'Margin of Error!!Female MOE!!Total population!!SELECTED AGE CATEGORIES!!18 years and over',\n",
              " 'Estimate!!Percent Female!!Total population!!SELECTED AGE CATEGORIES!!18 years and over',\n",
              " 'Margin of Error!!Percent Female MOE!!Total population!!SELECTED AGE CATEGORIES!!18 years and over',\n",
              " 'Estimate!!Total!!Total population!!SELECTED AGE CATEGORIES!!21 years and over',\n",
              " 'Margin of Error!!Total MOE!!Total population!!SELECTED AGE CATEGORIES!!21 years and over',\n",
              " 'Estimate!!Percent!!Total population!!SELECTED AGE CATEGORIES!!21 years and over',\n",
              " 'Margin of Error!!Percent MOE!!Total population!!SELECTED AGE CATEGORIES!!21 years and over',\n",
              " 'Estimate!!Male!!Total population!!SELECTED AGE CATEGORIES!!21 years and over',\n",
              " 'Margin of Error!!Male MOE!!Total population!!SELECTED AGE CATEGORIES!!21 years and over',\n",
              " 'Estimate!!Percent Male!!Total population!!SELECTED AGE CATEGORIES!!21 years and over',\n",
              " 'Margin of Error!!Percent Male MOE!!Total population!!SELECTED AGE CATEGORIES!!21 years and over',\n",
              " 'Estimate!!Female!!Total population!!SELECTED AGE CATEGORIES!!21 years and over',\n",
              " 'Margin of Error!!Female MOE!!Total population!!SELECTED AGE CATEGORIES!!21 years and over',\n",
              " 'Estimate!!Percent Female!!Total population!!SELECTED AGE CATEGORIES!!21 years and over',\n",
              " 'Margin of Error!!Percent Female MOE!!Total population!!SELECTED AGE CATEGORIES!!21 years and over',\n",
              " 'Estimate!!Total!!Total population!!SELECTED AGE CATEGORIES!!60 years and over',\n",
              " 'Margin of Error!!Total MOE!!Total population!!SELECTED AGE CATEGORIES!!60 years and over',\n",
              " 'Estimate!!Percent!!Total population!!SELECTED AGE CATEGORIES!!60 years and over',\n",
              " 'Margin of Error!!Percent MOE!!Total population!!SELECTED AGE CATEGORIES!!60 years and over',\n",
              " 'Estimate!!Male!!Total population!!SELECTED AGE CATEGORIES!!60 years and over',\n",
              " 'Margin of Error!!Male MOE!!Total population!!SELECTED AGE CATEGORIES!!60 years and over',\n",
              " 'Estimate!!Percent Male!!Total population!!SELECTED AGE CATEGORIES!!60 years and over',\n",
              " 'Margin of Error!!Percent Male MOE!!Total population!!SELECTED AGE CATEGORIES!!60 years and over',\n",
              " 'Estimate!!Female!!Total population!!SELECTED AGE CATEGORIES!!60 years and over',\n",
              " 'Margin of Error!!Female MOE!!Total population!!SELECTED AGE CATEGORIES!!60 years and over',\n",
              " 'Estimate!!Percent Female!!Total population!!SELECTED AGE CATEGORIES!!60 years and over',\n",
              " 'Margin of Error!!Percent Female MOE!!Total population!!SELECTED AGE CATEGORIES!!60 years and over',\n",
              " 'Estimate!!Total!!Total population!!SELECTED AGE CATEGORIES!!62 years and over',\n",
              " 'Margin of Error!!Total MOE!!Total population!!SELECTED AGE CATEGORIES!!62 years and over',\n",
              " 'Estimate!!Percent!!Total population!!SELECTED AGE CATEGORIES!!62 years and over',\n",
              " 'Margin of Error!!Percent MOE!!Total population!!SELECTED AGE CATEGORIES!!62 years and over',\n",
              " 'Estimate!!Male!!Total population!!SELECTED AGE CATEGORIES!!62 years and over',\n",
              " 'Margin of Error!!Male MOE!!Total population!!SELECTED AGE CATEGORIES!!62 years and over',\n",
              " 'Estimate!!Percent Male!!Total population!!SELECTED AGE CATEGORIES!!62 years and over',\n",
              " 'Margin of Error!!Percent Male MOE!!Total population!!SELECTED AGE CATEGORIES!!62 years and over',\n",
              " 'Estimate!!Female!!Total population!!SELECTED AGE CATEGORIES!!62 years and over',\n",
              " 'Margin of Error!!Female MOE!!Total population!!SELECTED AGE CATEGORIES!!62 years and over',\n",
              " 'Estimate!!Percent Female!!Total population!!SELECTED AGE CATEGORIES!!62 years and over',\n",
              " 'Margin of Error!!Percent Female MOE!!Total population!!SELECTED AGE CATEGORIES!!62 years and over',\n",
              " 'Estimate!!Total!!Total population!!SELECTED AGE CATEGORIES!!65 years and over',\n",
              " 'Margin of Error!!Total MOE!!Total population!!SELECTED AGE CATEGORIES!!65 years and over',\n",
              " 'Estimate!!Percent!!Total population!!SELECTED AGE CATEGORIES!!65 years and over',\n",
              " 'Margin of Error!!Percent MOE!!Total population!!SELECTED AGE CATEGORIES!!65 years and over',\n",
              " 'Estimate!!Male!!Total population!!SELECTED AGE CATEGORIES!!65 years and over',\n",
              " 'Margin of Error!!Male MOE!!Total population!!SELECTED AGE CATEGORIES!!65 years and over',\n",
              " 'Estimate!!Percent Male!!Total population!!SELECTED AGE CATEGORIES!!65 years and over',\n",
              " 'Margin of Error!!Percent Male MOE!!Total population!!SELECTED AGE CATEGORIES!!65 years and over',\n",
              " 'Estimate!!Female!!Total population!!SELECTED AGE CATEGORIES!!65 years and over',\n",
              " 'Margin of Error!!Female MOE!!Total population!!SELECTED AGE CATEGORIES!!65 years and over',\n",
              " 'Estimate!!Percent Female!!Total population!!SELECTED AGE CATEGORIES!!65 years and over',\n",
              " 'Margin of Error!!Percent Female MOE!!Total population!!SELECTED AGE CATEGORIES!!65 years and over',\n",
              " 'Estimate!!Total!!Total population!!SELECTED AGE CATEGORIES!!75 years and over',\n",
              " 'Margin of Error!!Total MOE!!Total population!!SELECTED AGE CATEGORIES!!75 years and over',\n",
              " 'Estimate!!Percent!!Total population!!SELECTED AGE CATEGORIES!!75 years and over',\n",
              " 'Margin of Error!!Percent MOE!!Total population!!SELECTED AGE CATEGORIES!!75 years and over',\n",
              " 'Estimate!!Male!!Total population!!SELECTED AGE CATEGORIES!!75 years and over',\n",
              " 'Margin of Error!!Male MOE!!Total population!!SELECTED AGE CATEGORIES!!75 years and over',\n",
              " 'Estimate!!Percent Male!!Total population!!SELECTED AGE CATEGORIES!!75 years and over',\n",
              " 'Margin of Error!!Percent Male MOE!!Total population!!SELECTED AGE CATEGORIES!!75 years and over',\n",
              " 'Estimate!!Female!!Total population!!SELECTED AGE CATEGORIES!!75 years and over',\n",
              " 'Margin of Error!!Female MOE!!Total population!!SELECTED AGE CATEGORIES!!75 years and over',\n",
              " 'Estimate!!Percent Female!!Total population!!SELECTED AGE CATEGORIES!!75 years and over',\n",
              " 'Margin of Error!!Percent Female MOE!!Total population!!SELECTED AGE CATEGORIES!!75 years and over',\n",
              " 'Estimate!!Total!!Total population!!SUMMARY INDICATORS!!Median age (years)',\n",
              " 'Margin of Error!!Total MOE!!Total population!!SUMMARY INDICATORS!!Median age (years)',\n",
              " 'Estimate!!Percent!!Total population!!SUMMARY INDICATORS!!Median age (years)',\n",
              " 'Margin of Error!!Percent MOE!!Total population!!SUMMARY INDICATORS!!Median age (years)',\n",
              " 'Estimate!!Male!!Total population!!SUMMARY INDICATORS!!Median age (years)',\n",
              " 'Margin of Error!!Male MOE!!Total population!!SUMMARY INDICATORS!!Median age (years)',\n",
              " 'Estimate!!Percent Male!!Total population!!SUMMARY INDICATORS!!Median age (years)',\n",
              " 'Margin of Error!!Percent Male MOE!!Total population!!SUMMARY INDICATORS!!Median age (years)',\n",
              " 'Estimate!!Female!!Total population!!SUMMARY INDICATORS!!Median age (years)',\n",
              " 'Margin of Error!!Female MOE!!Total population!!SUMMARY INDICATORS!!Median age (years)',\n",
              " 'Estimate!!Percent Female!!Total population!!SUMMARY INDICATORS!!Median age (years)',\n",
              " 'Margin of Error!!Percent Female MOE!!Total population!!SUMMARY INDICATORS!!Median age (years)',\n",
              " 'Estimate!!Total!!Total population!!SUMMARY INDICATORS!!Sex ratio (males per 100 females)',\n",
              " 'Margin of Error!!Total MOE!!Total population!!SUMMARY INDICATORS!!Sex ratio (males per 100 females)',\n",
              " 'Estimate!!Percent!!Total population!!SUMMARY INDICATORS!!Sex ratio (males per 100 females)',\n",
              " 'Margin of Error!!Percent MOE!!Total population!!SUMMARY INDICATORS!!Sex ratio (males per 100 females)',\n",
              " 'Estimate!!Male!!Total population!!SUMMARY INDICATORS!!Sex ratio (males per 100 females)',\n",
              " 'Margin of Error!!Male MOE!!Total population!!SUMMARY INDICATORS!!Sex ratio (males per 100 females)',\n",
              " 'Estimate!!Percent Male!!Total population!!SUMMARY INDICATORS!!Sex ratio (males per 100 females)',\n",
              " 'Margin of Error!!Percent Male MOE!!Total population!!SUMMARY INDICATORS!!Sex ratio (males per 100 females)',\n",
              " 'Estimate!!Female!!Total population!!SUMMARY INDICATORS!!Sex ratio (males per 100 females)',\n",
              " 'Margin of Error!!Female MOE!!Total population!!SUMMARY INDICATORS!!Sex ratio (males per 100 females)',\n",
              " 'Estimate!!Percent Female!!Total population!!SUMMARY INDICATORS!!Sex ratio (males per 100 females)',\n",
              " 'Margin of Error!!Percent Female MOE!!Total population!!SUMMARY INDICATORS!!Sex ratio (males per 100 females)',\n",
              " 'Estimate!!Total!!Total population!!SUMMARY INDICATORS!!Age dependency ratio',\n",
              " 'Margin of Error!!Total MOE!!Total population!!SUMMARY INDICATORS!!Age dependency ratio',\n",
              " 'Estimate!!Percent!!Total population!!SUMMARY INDICATORS!!Age dependency ratio',\n",
              " 'Margin of Error!!Percent MOE!!Total population!!SUMMARY INDICATORS!!Age dependency ratio',\n",
              " 'Estimate!!Male!!Total population!!SUMMARY INDICATORS!!Age dependency ratio',\n",
              " 'Margin of Error!!Male MOE!!Total population!!SUMMARY INDICATORS!!Age dependency ratio',\n",
              " 'Estimate!!Percent Male!!Total population!!SUMMARY INDICATORS!!Age dependency ratio',\n",
              " 'Margin of Error!!Percent Male MOE!!Total population!!SUMMARY INDICATORS!!Age dependency ratio',\n",
              " 'Estimate!!Female!!Total population!!SUMMARY INDICATORS!!Age dependency ratio',\n",
              " 'Margin of Error!!Female MOE!!Total population!!SUMMARY INDICATORS!!Age dependency ratio',\n",
              " 'Estimate!!Percent Female!!Total population!!SUMMARY INDICATORS!!Age dependency ratio',\n",
              " 'Margin of Error!!Percent Female MOE!!Total population!!SUMMARY INDICATORS!!Age dependency ratio',\n",
              " 'Estimate!!Total!!Total population!!SUMMARY INDICATORS!!Old-age dependency ratio',\n",
              " 'Margin of Error!!Total MOE!!Total population!!SUMMARY INDICATORS!!Old-age dependency ratio',\n",
              " 'Estimate!!Percent!!Total population!!SUMMARY INDICATORS!!Old-age dependency ratio',\n",
              " 'Margin of Error!!Percent MOE!!Total population!!SUMMARY INDICATORS!!Old-age dependency ratio',\n",
              " 'Estimate!!Male!!Total population!!SUMMARY INDICATORS!!Old-age dependency ratio',\n",
              " 'Margin of Error!!Male MOE!!Total population!!SUMMARY INDICATORS!!Old-age dependency ratio',\n",
              " 'Estimate!!Percent Male!!Total population!!SUMMARY INDICATORS!!Old-age dependency ratio',\n",
              " 'Margin of Error!!Percent Male MOE!!Total population!!SUMMARY INDICATORS!!Old-age dependency ratio',\n",
              " 'Estimate!!Female!!Total population!!SUMMARY INDICATORS!!Old-age dependency ratio',\n",
              " 'Margin of Error!!Female MOE!!Total population!!SUMMARY INDICATORS!!Old-age dependency ratio',\n",
              " 'Estimate!!Percent Female!!Total population!!SUMMARY INDICATORS!!Old-age dependency ratio',\n",
              " 'Margin of Error!!Percent Female MOE!!Total population!!SUMMARY INDICATORS!!Old-age dependency ratio',\n",
              " 'Estimate!!Total!!Total population!!SUMMARY INDICATORS!!Child dependency ratio',\n",
              " 'Margin of Error!!Total MOE!!Total population!!SUMMARY INDICATORS!!Child dependency ratio',\n",
              " 'Estimate!!Percent!!Total population!!SUMMARY INDICATORS!!Child dependency ratio',\n",
              " 'Margin of Error!!Percent MOE!!Total population!!SUMMARY INDICATORS!!Child dependency ratio',\n",
              " 'Estimate!!Male!!Total population!!SUMMARY INDICATORS!!Child dependency ratio',\n",
              " 'Margin of Error!!Male MOE!!Total population!!SUMMARY INDICATORS!!Child dependency ratio',\n",
              " 'Estimate!!Percent Male!!Total population!!SUMMARY INDICATORS!!Child dependency ratio',\n",
              " 'Margin of Error!!Percent Male MOE!!Total population!!SUMMARY INDICATORS!!Child dependency ratio',\n",
              " 'Estimate!!Female!!Total population!!SUMMARY INDICATORS!!Child dependency ratio',\n",
              " 'Margin of Error!!Female MOE!!Total population!!SUMMARY INDICATORS!!Child dependency ratio',\n",
              " 'Estimate!!Percent Female!!Total population!!SUMMARY INDICATORS!!Child dependency ratio',\n",
              " 'Margin of Error!!Percent Female MOE!!Total population!!SUMMARY INDICATORS!!Child dependency ratio',\n",
              " 'Estimate!!Total!!PERCENT ALLOCATED!!Sex',\n",
              " 'Margin of Error!!Total MOE!!PERCENT ALLOCATED!!Sex',\n",
              " 'Estimate!!Percent!!PERCENT ALLOCATED!!Sex',\n",
              " 'Margin of Error!!Percent MOE!!PERCENT ALLOCATED!!Sex',\n",
              " 'Estimate!!Male!!PERCENT ALLOCATED!!Sex',\n",
              " 'Margin of Error!!Male MOE!!PERCENT ALLOCATED!!Sex',\n",
              " 'Estimate!!Percent Male!!PERCENT ALLOCATED!!Sex',\n",
              " 'Margin of Error!!Percent Male MOE!!PERCENT ALLOCATED!!Sex',\n",
              " 'Estimate!!Female!!PERCENT ALLOCATED!!Sex',\n",
              " 'Margin of Error!!Female MOE!!PERCENT ALLOCATED!!Sex',\n",
              " 'Estimate!!Percent Female!!PERCENT ALLOCATED!!Sex',\n",
              " 'Margin of Error!!Percent Female MOE!!PERCENT ALLOCATED!!Sex',\n",
              " 'Estimate!!Total!!PERCENT ALLOCATED!!Age',\n",
              " 'Margin of Error!!Total MOE!!PERCENT ALLOCATED!!Age',\n",
              " 'Estimate!!Percent!!PERCENT ALLOCATED!!Age',\n",
              " 'Margin of Error!!Percent MOE!!PERCENT ALLOCATED!!Age',\n",
              " 'Estimate!!Male!!PERCENT ALLOCATED!!Age',\n",
              " 'Margin of Error!!Male MOE!!PERCENT ALLOCATED!!Age',\n",
              " 'Estimate!!Percent Male!!PERCENT ALLOCATED!!Age',\n",
              " 'Margin of Error!!Percent Male MOE!!PERCENT ALLOCATED!!Age',\n",
              " 'Estimate!!Female!!PERCENT ALLOCATED!!Age',\n",
              " 'Margin of Error!!Female MOE!!PERCENT ALLOCATED!!Age',\n",
              " 'Estimate!!Percent Female!!PERCENT ALLOCATED!!Age',\n",
              " 'Margin of Error!!Percent Female MOE!!PERCENT ALLOCATED!!Age']"
            ]
          },
          "metadata": {
            "tags": []
          },
          "execution_count": 78
        }
      ]
    },
    {
      "cell_type": "code",
      "metadata": {
        "id": "s-OCZRITgLtU",
        "colab_type": "code",
        "colab": {}
      },
      "source": [
        "# make a list of all columns that start with \"Margin of Error\"\n",
        "\n",
        "margin_error = df_population.columns.str.startswith(\"Margin of Error!!\")"
      ],
      "execution_count": 0,
      "outputs": []
    },
    {
      "cell_type": "code",
      "metadata": {
        "id": "gbw9p7-7gROx",
        "colab_type": "code",
        "colab": {}
      },
      "source": [
        "# keeep only NOT true values for margin of error\n",
        "df_pop_values = df_population.loc[:, ~margin_error]"
      ],
      "execution_count": 0,
      "outputs": []
    },
    {
      "cell_type": "code",
      "metadata": {
        "id": "MObuiQ8DgUo7",
        "colab_type": "code",
        "colab": {}
      },
      "source": [
        "# remove columns that have a (X) value \n",
        "\n",
        "df_us_pop = df_pop_values.drop(columns=df_pop_values.columns[(df_pop_values == '(X)').any()])"
      ],
      "execution_count": 0,
      "outputs": []
    },
    {
      "cell_type": "code",
      "metadata": {
        "id": "8kMJ2tbZgftX",
        "colab_type": "code",
        "colab": {}
      },
      "source": [
        "# strip \"Estimate!!\" from columns because it's on the outside of the name\n",
        "df_us_pop.columns = df_us_pop.columns.str.strip(\"Estimate!!\")"
      ],
      "execution_count": 0,
      "outputs": []
    },
    {
      "cell_type": "code",
      "metadata": {
        "id": "aBSyD1eqgi6k",
        "colab_type": "code",
        "colab": {}
      },
      "source": [
        "# remove !!Total population from column headers by replacing with nothing\n",
        "df_us_pop.columns = df_us_pop.columns.str.replace(\"!!Total population\", \"\")"
      ],
      "execution_count": 0,
      "outputs": []
    },
    {
      "cell_type": "code",
      "metadata": {
        "id": "Hy_hKfQ7goSk",
        "colab_type": "code",
        "colab": {}
      },
      "source": [
        "# make list of columns we want to keep for analysis\n",
        "\n",
        "uspop_col = ['d',\n",
        "             'Geographic Area N',\n",
        "             'Total',\n",
        "             'Male',\n",
        "             'Female',\n",
        "             'Total!!SELECTED AGE CATEGORIES!!Under 18 year',\n",
        "             'Male!!SELECTED AGE CATEGORIES!!Under 18 year',\n",
        "             'Female!!SELECTED AGE CATEGORIES!!Under 18 year',\n",
        "             'Total!!SELECTED AGE CATEGORIES!!60 years and over',\n",
        "             'Male!!SELECTED AGE CATEGORIES!!60 years and over',\n",
        "             'Female!!SELECTED AGE CATEGORIES!!60 years and over',\n",
        "             'Total!!SUMMARY INDICATORS!!Median age (years)',\n",
        "             'Total!!SUMMARY INDICATORS!!Sex ratio (males per 100 females)',\n",
        "             'Total!!SUMMARY INDICATORS!!Age dependency ratio',\n",
        "             'Total!!SUMMARY INDICATORS!!Old-age dependency ratio',\n",
        "             'Total!!SUMMARY INDICATORS!!Child dependency ratio',\n",
        "            ]"
      ],
      "execution_count": 0,
      "outputs": []
    },
    {
      "cell_type": "code",
      "metadata": {
        "id": "TtkviXOmgtqE",
        "colab_type": "code",
        "colab": {}
      },
      "source": [
        "# make new dataframe with only new column subset\n",
        "df_us_pop_filter = df_us_pop.filter(items = uspop_col)"
      ],
      "execution_count": 0,
      "outputs": []
    },
    {
      "cell_type": "code",
      "metadata": {
        "id": "DcDc8F7agwo8",
        "colab_type": "code",
        "colab": {}
      },
      "source": [
        "# remove \"!!SELECTED AGE CATEGORIES!!\" from column headers\n",
        "df_us_pop_filter.columns = df_us_pop_filter.columns.str.replace(\"!!SELECTED AGE CATEGORIES!!\", \" \")\n",
        "\n",
        "# remove \"TOTAL!!!SUMMARY INDICATORS!!\" from column headers\n",
        "df_us_pop_filter.columns = df_us_pop_filter.columns.str.replace(\"Total!!SUMMARY INDICATORS!!\", \"\")"
      ],
      "execution_count": 0,
      "outputs": []
    },
    {
      "cell_type": "code",
      "metadata": {
        "id": "0l88Nk7GhK4E",
        "colab_type": "code",
        "colab": {}
      },
      "source": [
        "# re-import state data\n",
        "df_states = pd.read_csv(\"state-geocodes-v2018.csv\", skiprows = 5)"
      ],
      "execution_count": 0,
      "outputs": []
    },
    {
      "cell_type": "code",
      "metadata": {
        "id": "qPDEF4xvhP8C",
        "colab_type": "code",
        "colab": {}
      },
      "source": [
        "# re-import county data\n",
        "df_county = pd.read_csv(\"all-geocodes-v2018.csv\", skiprows = 4)"
      ],
      "execution_count": 0,
      "outputs": []
    },
    {
      "cell_type": "code",
      "metadata": {
        "id": "49RiKjfShdZH",
        "colab_type": "code",
        "colab": {}
      },
      "source": [
        "# remove if county code is 0 (entire united states)\n",
        "\n",
        "df_county = df_county[df_county[\"County Code (FIPS)\"] != 0]"
      ],
      "execution_count": 0,
      "outputs": []
    },
    {
      "cell_type": "code",
      "metadata": {
        "id": "C7ceeeyLhjJ5",
        "colab_type": "code",
        "colab": {}
      },
      "source": [
        "# convert state and county fips columns to strings\n",
        "\n",
        "df_county[[\"State Code (FIPS)\", \"County Code (FIPS)\"]] = df_county[[\"State Code (FIPS)\", \"County Code (FIPS)\"]].astype(str)"
      ],
      "execution_count": 0,
      "outputs": []
    },
    {
      "cell_type": "code",
      "metadata": {
        "id": "jCwRgl0EhkPj",
        "colab_type": "code",
        "colab": {}
      },
      "source": [
        "# add leading zeros for a two digit value in state fips\n",
        "df_county[\"State Code (FIPS)\"] = df_county[\"State Code (FIPS)\"].str.zfill(2)\n",
        "\n",
        "# add leading zeros for three digit value in county fips\n",
        "df_county[\"County Code (FIPS)\"] = df_county[\"County Code (FIPS)\"].str.zfill(3)"
      ],
      "execution_count": 0,
      "outputs": []
    },
    {
      "cell_type": "code",
      "metadata": {
        "id": "CqJqsEfAhnkq",
        "colab_type": "code",
        "colab": {}
      },
      "source": [
        "# make full county fips number\n",
        "df_county[\"full_county_fips\"] = df_county[\"State Code (FIPS)\"] + df_county[\"County Code (FIPS)\"]"
      ],
      "execution_count": 0,
      "outputs": []
    },
    {
      "cell_type": "code",
      "metadata": {
        "id": "EvLoQEROiQLf",
        "colab_type": "code",
        "colab": {}
      },
      "source": [
        "# convert state fips code to string\n",
        "df_states[\"State (FIPS)\"] = df_states[\"State (FIPS)\"].astype(str)\n",
        "\n",
        "# add preceding zeros to make 2-digit FIPS codes\n",
        "df_states[\"State (FIPS)\"] = df_states[\"State (FIPS)\"].str.zfill(2)"
      ],
      "execution_count": 0,
      "outputs": []
    },
    {
      "cell_type": "code",
      "metadata": {
        "id": "EoWqr95mibuE",
        "colab_type": "code",
        "colab": {}
      },
      "source": [
        "# merge state name onto county fips dataframe\n",
        "df_county = pd.merge(df_county, \n",
        "                     df_states[[\"State (FIPS)\", \"Name\"]], \n",
        "                     how = \"left\", \n",
        "                     left_on = \"State Code (FIPS)\", \n",
        "                     right_on = \"State (FIPS)\")"
      ],
      "execution_count": 0,
      "outputs": []
    },
    {
      "cell_type": "code",
      "metadata": {
        "id": "Hyk_0r43iey9",
        "colab_type": "code",
        "colab": {}
      },
      "source": [
        "# create column of county state and name\n",
        "df_county[\"county_state_name\"] = df_county[\"Area Name (including legal/statistical area description)\"] + \", \" + df_county[\"Name\"]"
      ],
      "execution_count": 0,
      "outputs": []
    },
    {
      "cell_type": "code",
      "metadata": {
        "id": "MfzCKEnziiWT",
        "colab_type": "code",
        "colab": {}
      },
      "source": [
        "# merge full county fips name and number to population dataframe\n",
        "df_county_pop = pd.merge(df_us_pop_filter,\n",
        "                         df_county[[\"county_state_name\", \"full_county_fips\"]],\n",
        "                         how = \"left\",\n",
        "                         left_on = \"Geographic Area N\",\n",
        "                         right_on = \"county_state_name\"\n",
        "                        )"
      ],
      "execution_count": 0,
      "outputs": []
    },
    {
      "cell_type": "code",
      "metadata": {
        "id": "C_YqZiaZimW0",
        "colab_type": "code",
        "colab": {
          "base_uri": "https://localhost:8080/",
          "height": 476
        },
        "outputId": "c7ce0c6d-0463-4381-afa8-8dd26bed64b3"
      },
      "source": [
        "df_county_pop.info()"
      ],
      "execution_count": 96,
      "outputs": [
        {
          "output_type": "stream",
          "text": [
            "<class 'pandas.core.frame.DataFrame'>\n",
            "Int64Index: 827 entries, 0 to 837\n",
            "Data columns (total 20 columns):\n",
            " #   Column                             Non-Null Count  Dtype  \n",
            "---  ------                             --------------  -----  \n",
            " 0   d                                  827 non-null    object \n",
            " 1   Geographic Area N                  827 non-null    object \n",
            " 2   Total                              827 non-null    int64  \n",
            " 3   Male                               827 non-null    int64  \n",
            " 4   Female                             827 non-null    int64  \n",
            " 5   Total Under 18 year                827 non-null    int64  \n",
            " 6   Male Under 18 year                 827 non-null    int64  \n",
            " 7   Female Under 18 year               827 non-null    int64  \n",
            " 8   Total 60 years and over            827 non-null    int64  \n",
            " 9   Male 60 years and over             827 non-null    int64  \n",
            " 10  Female 60 years and over           827 non-null    int64  \n",
            " 11  Median age (years)                 827 non-null    float64\n",
            " 12  Sex ratio (males per 100 females)  827 non-null    float64\n",
            " 13  Age dependency ratio               827 non-null    float64\n",
            " 14  Old-age dependency ratio           827 non-null    float64\n",
            " 15  Child dependency ratio             827 non-null    float64\n",
            " 16  county_state_name                  827 non-null    object \n",
            " 17  full_county_fips                   827 non-null    object \n",
            " 18  percent_under18                    827 non-null    float64\n",
            " 19  percent_over60                     827 non-null    float64\n",
            "dtypes: float64(7), int64(9), object(4)\n",
            "memory usage: 135.7+ KB\n"
          ],
          "name": "stdout"
        }
      ]
    },
    {
      "cell_type": "code",
      "metadata": {
        "id": "fSU06bGIip3e",
        "colab_type": "code",
        "colab": {}
      },
      "source": [
        "# remove rows that have null values in the county, state name and fips number\n",
        "df_county_pop = df_county_pop[df_county_pop[\"full_county_fips\"].notnull()]"
      ],
      "execution_count": 0,
      "outputs": []
    },
    {
      "cell_type": "code",
      "metadata": {
        "id": "CnWYVg4XiwHk",
        "colab_type": "code",
        "colab": {}
      },
      "source": [
        "# make list of columns to convert to integers to use in calculations later\n",
        "\n",
        "int_list = [\n",
        " 'Total',\n",
        " 'Male',\n",
        " 'Female',\n",
        " 'Total Under 18 year',\n",
        " 'Male Under 18 year',\n",
        " 'Female Under 18 year',\n",
        " 'Total 60 years and over',\n",
        " 'Male 60 years and over',\n",
        " 'Female 60 years and over']"
      ],
      "execution_count": 0,
      "outputs": []
    },
    {
      "cell_type": "code",
      "metadata": {
        "id": "Nl3a9LXXixR8",
        "colab_type": "code",
        "colab": {}
      },
      "source": [
        "# columns to convert to floats\n",
        "float_list = [ \n",
        "    'Median age (years)',\n",
        "    'Sex ratio (males per 100 females)',\n",
        "    'Age dependency ratio',\n",
        "    'Old-age dependency ratio',\n",
        "    'Child dependency ratio']"
      ],
      "execution_count": 0,
      "outputs": []
    },
    {
      "cell_type": "code",
      "metadata": {
        "id": "YAVdVlUDizti",
        "colab_type": "code",
        "colab": {}
      },
      "source": [
        "# convert columns in int_list to integers\n",
        "df_county_pop[int_list] = df_county_pop[int_list].astype(int)\n",
        "df_county_pop[float_list] = df_county_pop[float_list].astype(float)"
      ],
      "execution_count": 0,
      "outputs": []
    },
    {
      "cell_type": "code",
      "metadata": {
        "id": "V1Nrmj9wi4Zi",
        "colab_type": "code",
        "colab": {}
      },
      "source": [
        "# percentage of pop under 18 yo\n",
        "df_county_pop[\"percent_under18\"] = (df_county_pop[\"Total Under 18 year\"]/df_county_pop[\"Total\"])*100"
      ],
      "execution_count": 0,
      "outputs": []
    },
    {
      "cell_type": "code",
      "metadata": {
        "id": "U9QCu6dmi7Pu",
        "colab_type": "code",
        "colab": {}
      },
      "source": [
        "# percentage of county residents over 60 years old\n",
        "df_county_pop[\"percent_over60\"] = (df_county_pop[\"Total 60 years and over\"]/df_county_pop[\"Total\"])*100"
      ],
      "execution_count": 0,
      "outputs": []
    },
    {
      "cell_type": "code",
      "metadata": {
        "id": "2ghYbi20i__0",
        "colab_type": "code",
        "colab": {}
      },
      "source": [
        "# remove values in hospital df with \"NOT AVAILABLE\" values\n",
        "\n",
        "df_hospitals= df_hospitals[df_hospitals[\"COUNTYFIPS\"] != \"NOT AVAILABLE\"]"
      ],
      "execution_count": 0,
      "outputs": []
    },
    {
      "cell_type": "code",
      "metadata": {
        "id": "aUrVRV2fjBRz",
        "colab_type": "code",
        "colab": {}
      },
      "source": [
        "# remove nulls from countyfips column\n",
        "df_hospitals = df_hospitals[df_hospitals[\"COUNTYFIPS\"].notnull()]"
      ],
      "execution_count": 0,
      "outputs": []
    },
    {
      "cell_type": "code",
      "metadata": {
        "id": "w0zCT5_8jDoh",
        "colab_type": "code",
        "colab": {}
      },
      "source": [
        "# remove if beds is -999\n",
        "df_county_hospitals = df_hospitals[df_hospitals[\"BEDS\"] != -999]"
      ],
      "execution_count": 0,
      "outputs": []
    },
    {
      "cell_type": "code",
      "metadata": {
        "id": "mKX5NQdyjMNs",
        "colab_type": "code",
        "colab": {}
      },
      "source": [
        "# calculate number of hospitals, beds per county\n",
        "# create an aggregated table for these values\n",
        "\n",
        "df_county_hospitals = df_hospitals.groupby(\"COUNTYFIPS\").agg({\"BEDS\": \"sum\", \n",
        "                                                                \"NAME\": \"count\"}).reset_index()"
      ],
      "execution_count": 0,
      "outputs": []
    },
    {
      "cell_type": "code",
      "metadata": {
        "id": "qRGdUAHijVBc",
        "colab_type": "code",
        "colab": {}
      },
      "source": [
        "# rename \"NAME\" to hospital_count and \"BEDS\" to hospital_bed_count\n",
        "\n",
        "df_county_hospitals = df_county_hospitals.rename(columns = {\"NAME\": \"hospital_count\",\n",
        "                                                           \"BEDS\": \"hospital_bed_count\"})"
      ],
      "execution_count": 0,
      "outputs": []
    },
    {
      "cell_type": "code",
      "metadata": {
        "id": "20jPXlPTjY8J",
        "colab_type": "code",
        "colab": {}
      },
      "source": [
        "# merge hospital data onto county population data\n",
        "\n",
        "df_county_health = pd.merge(df_county_pop,\n",
        "                           df_county_hospitals,\n",
        "                           how = \"left\",\n",
        "                           left_on = \"full_county_fips\",\n",
        "                           right_on = \"COUNTYFIPS\")"
      ],
      "execution_count": 0,
      "outputs": []
    },
    {
      "cell_type": "code",
      "metadata": {
        "id": "pkcKpD0Fjbr0",
        "colab_type": "code",
        "colab": {}
      },
      "source": [
        "# we're missing 10 county matches, so we'll delete these for now\n",
        "df_county_health = df_county_health[df_county_health[\"COUNTYFIPS\"].notnull()]"
      ],
      "execution_count": 0,
      "outputs": []
    },
    {
      "cell_type": "code",
      "metadata": {
        "id": "jrDC83Y_jeVO",
        "colab_type": "code",
        "colab": {}
      },
      "source": [
        "# export county health information to csv\n",
        "df_county_health.to_csv(\"us_county_population_hospital_data_2018.csv\")"
      ],
      "execution_count": 0,
      "outputs": []
    },
    {
      "cell_type": "code",
      "metadata": {
        "id": "y1jX-0oYj9tc",
        "colab_type": "code",
        "colab": {}
      },
      "source": [
        "# sort county data by 18 under population \n",
        "df_total_pop = df_county_health.sort_values(by = \"Total\", ascending = False)"
      ],
      "execution_count": 0,
      "outputs": []
    },
    {
      "cell_type": "code",
      "metadata": {
        "id": "zAYyT_dCkAjX",
        "colab_type": "code",
        "colab": {}
      },
      "source": [
        "# top 20 \n",
        "df_total_top20 = df_total_pop.head(20)"
      ],
      "execution_count": 0,
      "outputs": []
    },
    {
      "cell_type": "code",
      "metadata": {
        "id": "Y65yRgrfkCgS",
        "colab_type": "code",
        "colab": {}
      },
      "source": [
        "# make a graph to show percent of largest 18 under population \n",
        "bar_total_pop = px.bar(df_total_top20,\n",
        "                   x = \"Geographic Area N\",\n",
        "                   y = \"Total\",\n",
        "                   title = \"US Counties with the Highest Total Population\",\n",
        "                   labels = {\"Geographic Area N\": \"County, State Name\", \"Total\": \"Total Population\"})"
      ],
      "execution_count": 0,
      "outputs": []
    },
    {
      "cell_type": "code",
      "metadata": {
        "id": "hDutJQpokN7O",
        "colab_type": "code",
        "colab": {
          "base_uri": "https://localhost:8080/",
          "height": 542
        },
        "outputId": "cba48729-6a13-4888-de4b-cc5393b300d9"
      },
      "source": [
        "bar_total_pop"
      ],
      "execution_count": 114,
      "outputs": [
        {
          "output_type": "display_data",
          "data": {
            "text/html": [
              "<html>\n",
              "<head><meta charset=\"utf-8\" /></head>\n",
              "<body>\n",
              "    <div>\n",
              "            <script src=\"https://cdnjs.cloudflare.com/ajax/libs/mathjax/2.7.5/MathJax.js?config=TeX-AMS-MML_SVG\"></script><script type=\"text/javascript\">if (window.MathJax) {MathJax.Hub.Config({SVG: {font: \"STIX-Web\"}});}</script>\n",
              "                <script type=\"text/javascript\">window.PlotlyConfig = {MathJaxConfig: 'local'};</script>\n",
              "        <script src=\"https://cdn.plot.ly/plotly-latest.min.js\"></script>    \n",
              "            <div id=\"9dadb321-9db4-49fe-9812-63ec5e3e1c30\" class=\"plotly-graph-div\" style=\"height:525px; width:100%;\"></div>\n",
              "            <script type=\"text/javascript\">\n",
              "                \n",
              "                    window.PLOTLYENV=window.PLOTLYENV || {};\n",
              "                    \n",
              "                if (document.getElementById(\"9dadb321-9db4-49fe-9812-63ec5e3e1c30\")) {\n",
              "                    Plotly.newPlot(\n",
              "                        '9dadb321-9db4-49fe-9812-63ec5e3e1c30',\n",
              "                        [{\"alignmentgroup\": \"True\", \"hoverlabel\": {\"namelength\": 0}, \"hovertemplate\": \"County, State Name=%{x}<br>Total Population=%{y}\", \"legendgroup\": \"\", \"marker\": {\"color\": \"#636efa\"}, \"name\": \"\", \"offsetgroup\": \"\", \"orientation\": \"v\", \"showlegend\": false, \"textposition\": \"auto\", \"type\": \"bar\", \"x\": [\"Los Angeles County, California\", \"Cook County, Illinois\", \"Harris County, Texas\", \"Maricopa County, Arizona\", \"San Diego County, California\", \"Orange County, California\", \"Miami-Dade County, Florida\", \"Dallas County, Texas\", \"Kings County, New York\", \"Riverside County, California\", \"Queens County, New York\", \"King County, Washington\", \"Clark County, Nevada\", \"San Bernardino County, California\", \"Tarrant County, Texas\", \"Bexar County, Texas\", \"Broward County, Florida\", \"Santa Clara County, California\", \"Wayne County, Michigan\", \"Alameda County, California\"], \"xaxis\": \"x\", \"y\": [10105518, 5180493, 4698619, 4410824, 3343364, 3185968, 2761581, 2637772, 2582830, 2450758, 2278906, 2233163, 2231647, 2171603, 2084931, 1986049, 1951260, 1937570, 1753893, 1666753], \"yaxis\": \"y\"}],\n",
              "                        {\"barmode\": \"relative\", \"legend\": {\"tracegroupgap\": 0}, \"template\": {\"data\": {\"bar\": [{\"error_x\": {\"color\": \"#2a3f5f\"}, \"error_y\": {\"color\": \"#2a3f5f\"}, \"marker\": {\"line\": {\"color\": \"#E5ECF6\", \"width\": 0.5}}, \"type\": \"bar\"}], \"barpolar\": [{\"marker\": {\"line\": {\"color\": \"#E5ECF6\", \"width\": 0.5}}, \"type\": \"barpolar\"}], \"carpet\": [{\"aaxis\": {\"endlinecolor\": \"#2a3f5f\", \"gridcolor\": \"white\", \"linecolor\": \"white\", \"minorgridcolor\": \"white\", \"startlinecolor\": \"#2a3f5f\"}, \"baxis\": {\"endlinecolor\": \"#2a3f5f\", \"gridcolor\": \"white\", \"linecolor\": \"white\", \"minorgridcolor\": \"white\", \"startlinecolor\": \"#2a3f5f\"}, \"type\": \"carpet\"}], \"choropleth\": [{\"colorbar\": {\"outlinewidth\": 0, \"ticks\": \"\"}, \"type\": \"choropleth\"}], \"contour\": [{\"colorbar\": {\"outlinewidth\": 0, \"ticks\": \"\"}, \"colorscale\": [[0.0, \"#0d0887\"], [0.1111111111111111, \"#46039f\"], [0.2222222222222222, \"#7201a8\"], [0.3333333333333333, \"#9c179e\"], [0.4444444444444444, \"#bd3786\"], [0.5555555555555556, \"#d8576b\"], [0.6666666666666666, \"#ed7953\"], [0.7777777777777778, \"#fb9f3a\"], [0.8888888888888888, \"#fdca26\"], [1.0, \"#f0f921\"]], \"type\": \"contour\"}], \"contourcarpet\": [{\"colorbar\": {\"outlinewidth\": 0, \"ticks\": \"\"}, \"type\": \"contourcarpet\"}], \"heatmap\": [{\"colorbar\": {\"outlinewidth\": 0, \"ticks\": \"\"}, \"colorscale\": [[0.0, \"#0d0887\"], [0.1111111111111111, \"#46039f\"], [0.2222222222222222, \"#7201a8\"], [0.3333333333333333, \"#9c179e\"], [0.4444444444444444, \"#bd3786\"], [0.5555555555555556, \"#d8576b\"], [0.6666666666666666, \"#ed7953\"], [0.7777777777777778, \"#fb9f3a\"], [0.8888888888888888, \"#fdca26\"], [1.0, \"#f0f921\"]], \"type\": \"heatmap\"}], \"heatmapgl\": [{\"colorbar\": {\"outlinewidth\": 0, \"ticks\": \"\"}, \"colorscale\": [[0.0, \"#0d0887\"], [0.1111111111111111, \"#46039f\"], [0.2222222222222222, \"#7201a8\"], [0.3333333333333333, \"#9c179e\"], [0.4444444444444444, \"#bd3786\"], [0.5555555555555556, \"#d8576b\"], [0.6666666666666666, \"#ed7953\"], [0.7777777777777778, \"#fb9f3a\"], [0.8888888888888888, \"#fdca26\"], [1.0, \"#f0f921\"]], \"type\": \"heatmapgl\"}], \"histogram\": [{\"marker\": {\"colorbar\": {\"outlinewidth\": 0, \"ticks\": \"\"}}, \"type\": \"histogram\"}], \"histogram2d\": [{\"colorbar\": {\"outlinewidth\": 0, \"ticks\": \"\"}, \"colorscale\": [[0.0, \"#0d0887\"], [0.1111111111111111, \"#46039f\"], [0.2222222222222222, \"#7201a8\"], [0.3333333333333333, \"#9c179e\"], [0.4444444444444444, \"#bd3786\"], [0.5555555555555556, \"#d8576b\"], [0.6666666666666666, \"#ed7953\"], [0.7777777777777778, \"#fb9f3a\"], [0.8888888888888888, \"#fdca26\"], [1.0, \"#f0f921\"]], \"type\": \"histogram2d\"}], \"histogram2dcontour\": [{\"colorbar\": {\"outlinewidth\": 0, \"ticks\": \"\"}, \"colorscale\": [[0.0, \"#0d0887\"], [0.1111111111111111, \"#46039f\"], [0.2222222222222222, \"#7201a8\"], [0.3333333333333333, \"#9c179e\"], [0.4444444444444444, \"#bd3786\"], [0.5555555555555556, \"#d8576b\"], [0.6666666666666666, \"#ed7953\"], [0.7777777777777778, \"#fb9f3a\"], [0.8888888888888888, \"#fdca26\"], [1.0, \"#f0f921\"]], \"type\": \"histogram2dcontour\"}], \"mesh3d\": [{\"colorbar\": {\"outlinewidth\": 0, \"ticks\": \"\"}, \"type\": \"mesh3d\"}], \"parcoords\": [{\"line\": {\"colorbar\": {\"outlinewidth\": 0, \"ticks\": \"\"}}, \"type\": \"parcoords\"}], \"pie\": [{\"automargin\": true, \"type\": \"pie\"}], \"scatter\": [{\"marker\": {\"colorbar\": {\"outlinewidth\": 0, \"ticks\": \"\"}}, \"type\": \"scatter\"}], \"scatter3d\": [{\"line\": {\"colorbar\": {\"outlinewidth\": 0, \"ticks\": \"\"}}, \"marker\": {\"colorbar\": {\"outlinewidth\": 0, \"ticks\": \"\"}}, \"type\": \"scatter3d\"}], \"scattercarpet\": [{\"marker\": {\"colorbar\": {\"outlinewidth\": 0, \"ticks\": \"\"}}, \"type\": \"scattercarpet\"}], \"scattergeo\": [{\"marker\": {\"colorbar\": {\"outlinewidth\": 0, \"ticks\": \"\"}}, \"type\": \"scattergeo\"}], \"scattergl\": [{\"marker\": {\"colorbar\": {\"outlinewidth\": 0, \"ticks\": \"\"}}, \"type\": \"scattergl\"}], \"scattermapbox\": [{\"marker\": {\"colorbar\": {\"outlinewidth\": 0, \"ticks\": \"\"}}, \"type\": \"scattermapbox\"}], \"scatterpolar\": [{\"marker\": {\"colorbar\": {\"outlinewidth\": 0, \"ticks\": \"\"}}, \"type\": \"scatterpolar\"}], \"scatterpolargl\": [{\"marker\": {\"colorbar\": {\"outlinewidth\": 0, \"ticks\": \"\"}}, \"type\": \"scatterpolargl\"}], \"scatterternary\": [{\"marker\": {\"colorbar\": {\"outlinewidth\": 0, \"ticks\": \"\"}}, \"type\": \"scatterternary\"}], \"surface\": [{\"colorbar\": {\"outlinewidth\": 0, \"ticks\": \"\"}, \"colorscale\": [[0.0, \"#0d0887\"], [0.1111111111111111, \"#46039f\"], [0.2222222222222222, \"#7201a8\"], [0.3333333333333333, \"#9c179e\"], [0.4444444444444444, \"#bd3786\"], [0.5555555555555556, \"#d8576b\"], [0.6666666666666666, \"#ed7953\"], [0.7777777777777778, \"#fb9f3a\"], [0.8888888888888888, \"#fdca26\"], [1.0, \"#f0f921\"]], \"type\": \"surface\"}], \"table\": [{\"cells\": {\"fill\": {\"color\": \"#EBF0F8\"}, \"line\": {\"color\": \"white\"}}, \"header\": {\"fill\": {\"color\": \"#C8D4E3\"}, \"line\": {\"color\": \"white\"}}, \"type\": \"table\"}]}, \"layout\": {\"annotationdefaults\": {\"arrowcolor\": \"#2a3f5f\", \"arrowhead\": 0, \"arrowwidth\": 1}, \"coloraxis\": {\"colorbar\": {\"outlinewidth\": 0, \"ticks\": \"\"}}, \"colorscale\": {\"diverging\": [[0, \"#8e0152\"], [0.1, \"#c51b7d\"], [0.2, \"#de77ae\"], [0.3, \"#f1b6da\"], [0.4, \"#fde0ef\"], [0.5, \"#f7f7f7\"], [0.6, \"#e6f5d0\"], [0.7, \"#b8e186\"], [0.8, \"#7fbc41\"], [0.9, \"#4d9221\"], [1, \"#276419\"]], \"sequential\": [[0.0, \"#0d0887\"], [0.1111111111111111, \"#46039f\"], [0.2222222222222222, \"#7201a8\"], [0.3333333333333333, \"#9c179e\"], [0.4444444444444444, \"#bd3786\"], [0.5555555555555556, \"#d8576b\"], [0.6666666666666666, \"#ed7953\"], [0.7777777777777778, \"#fb9f3a\"], [0.8888888888888888, \"#fdca26\"], [1.0, \"#f0f921\"]], \"sequentialminus\": [[0.0, \"#0d0887\"], [0.1111111111111111, \"#46039f\"], [0.2222222222222222, \"#7201a8\"], [0.3333333333333333, \"#9c179e\"], [0.4444444444444444, \"#bd3786\"], [0.5555555555555556, \"#d8576b\"], [0.6666666666666666, \"#ed7953\"], [0.7777777777777778, \"#fb9f3a\"], [0.8888888888888888, \"#fdca26\"], [1.0, \"#f0f921\"]]}, \"colorway\": [\"#636efa\", \"#EF553B\", \"#00cc96\", \"#ab63fa\", \"#FFA15A\", \"#19d3f3\", \"#FF6692\", \"#B6E880\", \"#FF97FF\", \"#FECB52\"], \"font\": {\"color\": \"#2a3f5f\"}, \"geo\": {\"bgcolor\": \"white\", \"lakecolor\": \"white\", \"landcolor\": \"#E5ECF6\", \"showlakes\": true, \"showland\": true, \"subunitcolor\": \"white\"}, \"hoverlabel\": {\"align\": \"left\"}, \"hovermode\": \"closest\", \"mapbox\": {\"style\": \"light\"}, \"paper_bgcolor\": \"white\", \"plot_bgcolor\": \"#E5ECF6\", \"polar\": {\"angularaxis\": {\"gridcolor\": \"white\", \"linecolor\": \"white\", \"ticks\": \"\"}, \"bgcolor\": \"#E5ECF6\", \"radialaxis\": {\"gridcolor\": \"white\", \"linecolor\": \"white\", \"ticks\": \"\"}}, \"scene\": {\"xaxis\": {\"backgroundcolor\": \"#E5ECF6\", \"gridcolor\": \"white\", \"gridwidth\": 2, \"linecolor\": \"white\", \"showbackground\": true, \"ticks\": \"\", \"zerolinecolor\": \"white\"}, \"yaxis\": {\"backgroundcolor\": \"#E5ECF6\", \"gridcolor\": \"white\", \"gridwidth\": 2, \"linecolor\": \"white\", \"showbackground\": true, \"ticks\": \"\", \"zerolinecolor\": \"white\"}, \"zaxis\": {\"backgroundcolor\": \"#E5ECF6\", \"gridcolor\": \"white\", \"gridwidth\": 2, \"linecolor\": \"white\", \"showbackground\": true, \"ticks\": \"\", \"zerolinecolor\": \"white\"}}, \"shapedefaults\": {\"line\": {\"color\": \"#2a3f5f\"}}, \"ternary\": {\"aaxis\": {\"gridcolor\": \"white\", \"linecolor\": \"white\", \"ticks\": \"\"}, \"baxis\": {\"gridcolor\": \"white\", \"linecolor\": \"white\", \"ticks\": \"\"}, \"bgcolor\": \"#E5ECF6\", \"caxis\": {\"gridcolor\": \"white\", \"linecolor\": \"white\", \"ticks\": \"\"}}, \"title\": {\"x\": 0.05}, \"xaxis\": {\"automargin\": true, \"gridcolor\": \"white\", \"linecolor\": \"white\", \"ticks\": \"\", \"title\": {\"standoff\": 15}, \"zerolinecolor\": \"white\", \"zerolinewidth\": 2}, \"yaxis\": {\"automargin\": true, \"gridcolor\": \"white\", \"linecolor\": \"white\", \"ticks\": \"\", \"title\": {\"standoff\": 15}, \"zerolinecolor\": \"white\", \"zerolinewidth\": 2}}}, \"title\": {\"text\": \"US Counties with the Highest Total Population\"}, \"xaxis\": {\"anchor\": \"y\", \"domain\": [0.0, 1.0], \"title\": {\"text\": \"County, State Name\"}}, \"yaxis\": {\"anchor\": \"x\", \"domain\": [0.0, 1.0], \"title\": {\"text\": \"Total Population\"}}},\n",
              "                        {\"responsive\": true}\n",
              "                    ).then(function(){\n",
              "                            \n",
              "var gd = document.getElementById('9dadb321-9db4-49fe-9812-63ec5e3e1c30');\n",
              "var x = new MutationObserver(function (mutations, observer) {{\n",
              "        var display = window.getComputedStyle(gd).display;\n",
              "        if (!display || display === 'none') {{\n",
              "            console.log([gd, 'removed!']);\n",
              "            Plotly.purge(gd);\n",
              "            observer.disconnect();\n",
              "        }}\n",
              "}});\n",
              "\n",
              "// Listen for the removal of the full notebook cells\n",
              "var notebookContainer = gd.closest('#notebook-container');\n",
              "if (notebookContainer) {{\n",
              "    x.observe(notebookContainer, {childList: true});\n",
              "}}\n",
              "\n",
              "// Listen for the clearing of the current output cell\n",
              "var outputEl = gd.closest('.output');\n",
              "if (outputEl) {{\n",
              "    x.observe(outputEl, {childList: true});\n",
              "}}\n",
              "\n",
              "                        })\n",
              "                };\n",
              "                \n",
              "            </script>\n",
              "        </div>\n",
              "</body>\n",
              "</html>"
            ]
          },
          "metadata": {
            "tags": []
          }
        }
      ]
    },
    {
      "cell_type": "code",
      "metadata": {
        "id": "xrNM6XF6lAFG",
        "colab_type": "code",
        "colab": {
          "base_uri": "https://localhost:8080/",
          "height": 443
        },
        "outputId": "a6b3432b-9815-444f-9fee-7a27d20c8628"
      },
      "source": [
        "bubble_u18_o60 = px.scatter(df_county_health,\n",
        "                            x = \"percent_over60\",\n",
        "                            y = \"percent_under18\",\n",
        "                            size = \"hospital_bed_count\",\n",
        "                            hover_data = ['Geographic Area N',\"Total\"],\n",
        "                            title = \"Percentage of Population Under 18 and Over 60 in US Counties\",\n",
        "                            labels = {\"Geographic Area N\": \"County, State Name\",\n",
        "                                      \"Total\": \"Total Population\",\n",
        "                                      \"percent_over60\": \"Percent of County Population over 60 years old\",\n",
        "                                      \"percent_under18\": \"Percent of County Population under 18 years old\"})"
      ],
      "execution_count": 115,
      "outputs": [
        {
          "output_type": "error",
          "ename": "ValueError",
          "evalue": "ignored",
          "traceback": [
            "\u001b[0;31m---------------------------------------------------------------------------\u001b[0m",
            "\u001b[0;31mValueError\u001b[0m                                Traceback (most recent call last)",
            "\u001b[0;32m<ipython-input-115-deaaa1c6baf1>\u001b[0m in \u001b[0;36m<module>\u001b[0;34m()\u001b[0m\n\u001b[1;32m      8\u001b[0m                                       \u001b[0;34m\"Total\"\u001b[0m\u001b[0;34m:\u001b[0m \u001b[0;34m\"Total Population\"\u001b[0m\u001b[0;34m,\u001b[0m\u001b[0;34m\u001b[0m\u001b[0;34m\u001b[0m\u001b[0m\n\u001b[1;32m      9\u001b[0m                                       \u001b[0;34m\"percent_over60\"\u001b[0m\u001b[0;34m:\u001b[0m \u001b[0;34m\"Percent of County Population over 60 years old\"\u001b[0m\u001b[0;34m,\u001b[0m\u001b[0;34m\u001b[0m\u001b[0;34m\u001b[0m\u001b[0m\n\u001b[0;32m---> 10\u001b[0;31m                                       \"percent_under18\": \"Percent of County Population under 18 years old\"})\n\u001b[0m",
            "\u001b[0;32m/usr/local/lib/python3.6/dist-packages/plotly/express/_chart_types.py\u001b[0m in \u001b[0;36mscatter\u001b[0;34m(data_frame, x, y, color, symbol, size, hover_name, hover_data, custom_data, text, facet_row, facet_col, facet_col_wrap, error_x, error_x_minus, error_y, error_y_minus, animation_frame, animation_group, category_orders, labels, color_discrete_sequence, color_discrete_map, color_continuous_scale, range_color, color_continuous_midpoint, symbol_sequence, symbol_map, opacity, size_max, marginal_x, marginal_y, trendline, trendline_color_override, log_x, log_y, range_x, range_y, render_mode, title, template, width, height)\u001b[0m\n\u001b[1;32m     53\u001b[0m     \u001b[0mmark\u001b[0m \u001b[0;32min\u001b[0m \u001b[0;36m2\u001b[0m\u001b[0mD\u001b[0m \u001b[0mspace\u001b[0m\u001b[0;34m.\u001b[0m\u001b[0;34m\u001b[0m\u001b[0;34m\u001b[0m\u001b[0m\n\u001b[1;32m     54\u001b[0m     \"\"\"\n\u001b[0;32m---> 55\u001b[0;31m     \u001b[0;32mreturn\u001b[0m \u001b[0mmake_figure\u001b[0m\u001b[0;34m(\u001b[0m\u001b[0margs\u001b[0m\u001b[0;34m=\u001b[0m\u001b[0mlocals\u001b[0m\u001b[0;34m(\u001b[0m\u001b[0;34m)\u001b[0m\u001b[0;34m,\u001b[0m \u001b[0mconstructor\u001b[0m\u001b[0;34m=\u001b[0m\u001b[0mgo\u001b[0m\u001b[0;34m.\u001b[0m\u001b[0mScatter\u001b[0m\u001b[0;34m)\u001b[0m\u001b[0;34m\u001b[0m\u001b[0;34m\u001b[0m\u001b[0m\n\u001b[0m\u001b[1;32m     56\u001b[0m \u001b[0;34m\u001b[0m\u001b[0m\n\u001b[1;32m     57\u001b[0m \u001b[0;34m\u001b[0m\u001b[0m\n",
            "\u001b[0;32m/usr/local/lib/python3.6/dist-packages/plotly/express/_core.py\u001b[0m in \u001b[0;36mmake_figure\u001b[0;34m(args, constructor, trace_patch, layout_patch)\u001b[0m\n\u001b[1;32m   1317\u001b[0m                 \u001b[0margs\u001b[0m\u001b[0;34m,\u001b[0m \u001b[0mtrace_spec\u001b[0m\u001b[0;34m,\u001b[0m \u001b[0mgroup\u001b[0m\u001b[0;34m,\u001b[0m \u001b[0mmapping_labels\u001b[0m\u001b[0;34m.\u001b[0m\u001b[0mcopy\u001b[0m\u001b[0;34m(\u001b[0m\u001b[0;34m)\u001b[0m\u001b[0;34m,\u001b[0m \u001b[0msizeref\u001b[0m\u001b[0;34m\u001b[0m\u001b[0;34m\u001b[0m\u001b[0m\n\u001b[1;32m   1318\u001b[0m             )\n\u001b[0;32m-> 1319\u001b[0;31m             \u001b[0mtrace\u001b[0m\u001b[0;34m.\u001b[0m\u001b[0mupdate\u001b[0m\u001b[0;34m(\u001b[0m\u001b[0mpatch\u001b[0m\u001b[0;34m)\u001b[0m\u001b[0;34m\u001b[0m\u001b[0;34m\u001b[0m\u001b[0m\n\u001b[0m\u001b[1;32m   1320\u001b[0m             \u001b[0;32mif\u001b[0m \u001b[0mfit_results\u001b[0m \u001b[0;32mis\u001b[0m \u001b[0;32mnot\u001b[0m \u001b[0;32mNone\u001b[0m\u001b[0;34m:\u001b[0m\u001b[0;34m\u001b[0m\u001b[0;34m\u001b[0m\u001b[0m\n\u001b[1;32m   1321\u001b[0m                 \u001b[0mtrendline_rows\u001b[0m\u001b[0;34m.\u001b[0m\u001b[0mappend\u001b[0m\u001b[0;34m(\u001b[0m\u001b[0mmapping_labels\u001b[0m\u001b[0;34m.\u001b[0m\u001b[0mcopy\u001b[0m\u001b[0;34m(\u001b[0m\u001b[0;34m)\u001b[0m\u001b[0;34m)\u001b[0m\u001b[0;34m\u001b[0m\u001b[0;34m\u001b[0m\u001b[0m\n",
            "\u001b[0;32m/usr/local/lib/python3.6/dist-packages/plotly/basedatatypes.py\u001b[0m in \u001b[0;36mupdate\u001b[0;34m(self, dict1, overwrite, **kwargs)\u001b[0m\n\u001b[1;32m   3697\u001b[0m                 \u001b[0mBaseFigure\u001b[0m\u001b[0;34m.\u001b[0m\u001b[0m_perform_update\u001b[0m\u001b[0;34m(\u001b[0m\u001b[0mself\u001b[0m\u001b[0;34m,\u001b[0m \u001b[0mkwargs\u001b[0m\u001b[0;34m,\u001b[0m \u001b[0moverwrite\u001b[0m\u001b[0;34m=\u001b[0m\u001b[0moverwrite\u001b[0m\u001b[0;34m)\u001b[0m\u001b[0;34m\u001b[0m\u001b[0;34m\u001b[0m\u001b[0m\n\u001b[1;32m   3698\u001b[0m         \u001b[0;32melse\u001b[0m\u001b[0;34m:\u001b[0m\u001b[0;34m\u001b[0m\u001b[0;34m\u001b[0m\u001b[0m\n\u001b[0;32m-> 3699\u001b[0;31m             \u001b[0mBaseFigure\u001b[0m\u001b[0;34m.\u001b[0m\u001b[0m_perform_update\u001b[0m\u001b[0;34m(\u001b[0m\u001b[0mself\u001b[0m\u001b[0;34m,\u001b[0m \u001b[0mdict1\u001b[0m\u001b[0;34m,\u001b[0m \u001b[0moverwrite\u001b[0m\u001b[0;34m=\u001b[0m\u001b[0moverwrite\u001b[0m\u001b[0;34m)\u001b[0m\u001b[0;34m\u001b[0m\u001b[0;34m\u001b[0m\u001b[0m\n\u001b[0m\u001b[1;32m   3700\u001b[0m             \u001b[0mBaseFigure\u001b[0m\u001b[0;34m.\u001b[0m\u001b[0m_perform_update\u001b[0m\u001b[0;34m(\u001b[0m\u001b[0mself\u001b[0m\u001b[0;34m,\u001b[0m \u001b[0mkwargs\u001b[0m\u001b[0;34m,\u001b[0m \u001b[0moverwrite\u001b[0m\u001b[0;34m=\u001b[0m\u001b[0moverwrite\u001b[0m\u001b[0;34m)\u001b[0m\u001b[0;34m\u001b[0m\u001b[0;34m\u001b[0m\u001b[0m\n\u001b[1;32m   3701\u001b[0m \u001b[0;34m\u001b[0m\u001b[0m\n",
            "\u001b[0;32m/usr/local/lib/python3.6/dist-packages/plotly/basedatatypes.py\u001b[0m in \u001b[0;36m_perform_update\u001b[0;34m(plotly_obj, update_obj, overwrite)\u001b[0m\n\u001b[1;32m   2896\u001b[0m                     \u001b[0;31m# Update compound objects recursively\u001b[0m\u001b[0;34m\u001b[0m\u001b[0;34m\u001b[0m\u001b[0;34m\u001b[0m\u001b[0m\n\u001b[1;32m   2897\u001b[0m                     \u001b[0;31m# plotly_obj[key].update(val)\u001b[0m\u001b[0;34m\u001b[0m\u001b[0;34m\u001b[0m\u001b[0;34m\u001b[0m\u001b[0m\n\u001b[0;32m-> 2898\u001b[0;31m                     \u001b[0mBaseFigure\u001b[0m\u001b[0;34m.\u001b[0m\u001b[0m_perform_update\u001b[0m\u001b[0;34m(\u001b[0m\u001b[0mplotly_obj\u001b[0m\u001b[0;34m[\u001b[0m\u001b[0mkey\u001b[0m\u001b[0;34m]\u001b[0m\u001b[0;34m,\u001b[0m \u001b[0mval\u001b[0m\u001b[0;34m)\u001b[0m\u001b[0;34m\u001b[0m\u001b[0;34m\u001b[0m\u001b[0m\n\u001b[0m\u001b[1;32m   2899\u001b[0m                 \u001b[0;32melif\u001b[0m \u001b[0misinstance\u001b[0m\u001b[0;34m(\u001b[0m\u001b[0mvalidator\u001b[0m\u001b[0;34m,\u001b[0m \u001b[0mCompoundArrayValidator\u001b[0m\u001b[0;34m)\u001b[0m\u001b[0;34m:\u001b[0m\u001b[0;34m\u001b[0m\u001b[0;34m\u001b[0m\u001b[0m\n\u001b[1;32m   2900\u001b[0m                     \u001b[0;32mif\u001b[0m \u001b[0mplotly_obj\u001b[0m\u001b[0;34m[\u001b[0m\u001b[0mkey\u001b[0m\u001b[0;34m]\u001b[0m\u001b[0;34m:\u001b[0m\u001b[0;34m\u001b[0m\u001b[0;34m\u001b[0m\u001b[0m\n",
            "\u001b[0;32m/usr/local/lib/python3.6/dist-packages/plotly/basedatatypes.py\u001b[0m in \u001b[0;36m_perform_update\u001b[0;34m(plotly_obj, update_obj, overwrite)\u001b[0m\n\u001b[1;32m   2917\u001b[0m                 \u001b[0;32melse\u001b[0m\u001b[0;34m:\u001b[0m\u001b[0;34m\u001b[0m\u001b[0;34m\u001b[0m\u001b[0m\n\u001b[1;32m   2918\u001b[0m                     \u001b[0;31m# Assign non-compound value\u001b[0m\u001b[0;34m\u001b[0m\u001b[0;34m\u001b[0m\u001b[0;34m\u001b[0m\u001b[0m\n\u001b[0;32m-> 2919\u001b[0;31m                     \u001b[0mplotly_obj\u001b[0m\u001b[0;34m[\u001b[0m\u001b[0mkey\u001b[0m\u001b[0;34m]\u001b[0m \u001b[0;34m=\u001b[0m \u001b[0mval\u001b[0m\u001b[0;34m\u001b[0m\u001b[0;34m\u001b[0m\u001b[0m\n\u001b[0m\u001b[1;32m   2920\u001b[0m \u001b[0;34m\u001b[0m\u001b[0m\n\u001b[1;32m   2921\u001b[0m         \u001b[0;32melif\u001b[0m \u001b[0misinstance\u001b[0m\u001b[0;34m(\u001b[0m\u001b[0mplotly_obj\u001b[0m\u001b[0;34m,\u001b[0m \u001b[0mtuple\u001b[0m\u001b[0;34m)\u001b[0m\u001b[0;34m:\u001b[0m\u001b[0;34m\u001b[0m\u001b[0;34m\u001b[0m\u001b[0m\n",
            "\u001b[0;32m/usr/local/lib/python3.6/dist-packages/plotly/basedatatypes.py\u001b[0m in \u001b[0;36m__setitem__\u001b[0;34m(self, prop, value)\u001b[0m\n\u001b[1;32m   3488\u001b[0m             \u001b[0;31m# ### Handle simple property ###\u001b[0m\u001b[0;34m\u001b[0m\u001b[0;34m\u001b[0m\u001b[0;34m\u001b[0m\u001b[0m\n\u001b[1;32m   3489\u001b[0m             \u001b[0;32melse\u001b[0m\u001b[0;34m:\u001b[0m\u001b[0;34m\u001b[0m\u001b[0;34m\u001b[0m\u001b[0m\n\u001b[0;32m-> 3490\u001b[0;31m                 \u001b[0mself\u001b[0m\u001b[0;34m.\u001b[0m\u001b[0m_set_prop\u001b[0m\u001b[0;34m(\u001b[0m\u001b[0mprop\u001b[0m\u001b[0;34m,\u001b[0m \u001b[0mvalue\u001b[0m\u001b[0;34m)\u001b[0m\u001b[0;34m\u001b[0m\u001b[0;34m\u001b[0m\u001b[0m\n\u001b[0m\u001b[1;32m   3491\u001b[0m \u001b[0;34m\u001b[0m\u001b[0m\n\u001b[1;32m   3492\u001b[0m         \u001b[0;31m# Handle non-scalar case\u001b[0m\u001b[0;34m\u001b[0m\u001b[0;34m\u001b[0m\u001b[0;34m\u001b[0m\u001b[0m\n",
            "\u001b[0;32m/usr/local/lib/python3.6/dist-packages/plotly/basedatatypes.py\u001b[0m in \u001b[0;36m_set_prop\u001b[0;34m(self, prop, val)\u001b[0m\n\u001b[1;32m   3775\u001b[0m                 \u001b[0;32mreturn\u001b[0m\u001b[0;34m\u001b[0m\u001b[0;34m\u001b[0m\u001b[0m\n\u001b[1;32m   3776\u001b[0m             \u001b[0;32melse\u001b[0m\u001b[0;34m:\u001b[0m\u001b[0;34m\u001b[0m\u001b[0;34m\u001b[0m\u001b[0m\n\u001b[0;32m-> 3777\u001b[0;31m                 \u001b[0;32mraise\u001b[0m \u001b[0merr\u001b[0m\u001b[0;34m\u001b[0m\u001b[0;34m\u001b[0m\u001b[0m\n\u001b[0m\u001b[1;32m   3778\u001b[0m \u001b[0;34m\u001b[0m\u001b[0m\n\u001b[1;32m   3779\u001b[0m         \u001b[0;31m# val is None\u001b[0m\u001b[0;34m\u001b[0m\u001b[0;34m\u001b[0m\u001b[0;34m\u001b[0m\u001b[0m\n",
            "\u001b[0;32m/usr/local/lib/python3.6/dist-packages/plotly/basedatatypes.py\u001b[0m in \u001b[0;36m_set_prop\u001b[0;34m(self, prop, val)\u001b[0m\n\u001b[1;32m   3770\u001b[0m         \u001b[0mvalidator\u001b[0m \u001b[0;34m=\u001b[0m \u001b[0mself\u001b[0m\u001b[0;34m.\u001b[0m\u001b[0m_validators\u001b[0m\u001b[0;34m.\u001b[0m\u001b[0mget\u001b[0m\u001b[0;34m(\u001b[0m\u001b[0mprop\u001b[0m\u001b[0;34m)\u001b[0m\u001b[0;34m\u001b[0m\u001b[0;34m\u001b[0m\u001b[0m\n\u001b[1;32m   3771\u001b[0m         \u001b[0;32mtry\u001b[0m\u001b[0;34m:\u001b[0m\u001b[0;34m\u001b[0m\u001b[0;34m\u001b[0m\u001b[0m\n\u001b[0;32m-> 3772\u001b[0;31m             \u001b[0mval\u001b[0m \u001b[0;34m=\u001b[0m \u001b[0mvalidator\u001b[0m\u001b[0;34m.\u001b[0m\u001b[0mvalidate_coerce\u001b[0m\u001b[0;34m(\u001b[0m\u001b[0mval\u001b[0m\u001b[0;34m)\u001b[0m\u001b[0;34m\u001b[0m\u001b[0;34m\u001b[0m\u001b[0m\n\u001b[0m\u001b[1;32m   3773\u001b[0m         \u001b[0;32mexcept\u001b[0m \u001b[0mValueError\u001b[0m \u001b[0;32mas\u001b[0m \u001b[0merr\u001b[0m\u001b[0;34m:\u001b[0m\u001b[0;34m\u001b[0m\u001b[0;34m\u001b[0m\u001b[0m\n\u001b[1;32m   3774\u001b[0m             \u001b[0;32mif\u001b[0m \u001b[0mself\u001b[0m\u001b[0;34m.\u001b[0m\u001b[0m_skip_invalid\u001b[0m\u001b[0;34m:\u001b[0m\u001b[0;34m\u001b[0m\u001b[0;34m\u001b[0m\u001b[0m\n",
            "\u001b[0;32m/usr/local/lib/python3.6/dist-packages/_plotly_utils/basevalidators.py\u001b[0m in \u001b[0;36mvalidate_coerce\u001b[0;34m(self, v)\u001b[0m\n\u001b[1;32m    759\u001b[0m                     ].tolist()\n\u001b[1;32m    760\u001b[0m \u001b[0;34m\u001b[0m\u001b[0m\n\u001b[0;32m--> 761\u001b[0;31m                     \u001b[0mself\u001b[0m\u001b[0;34m.\u001b[0m\u001b[0mraise_invalid_elements\u001b[0m\u001b[0;34m(\u001b[0m\u001b[0msome_invalid_els\u001b[0m\u001b[0;34m)\u001b[0m\u001b[0;34m\u001b[0m\u001b[0;34m\u001b[0m\u001b[0m\n\u001b[0m\u001b[1;32m    762\u001b[0m \u001b[0;34m\u001b[0m\u001b[0m\n\u001b[1;32m    763\u001b[0m             \u001b[0mv\u001b[0m \u001b[0;34m=\u001b[0m \u001b[0mv_array\u001b[0m  \u001b[0;31m# Always numeric numpy array\u001b[0m\u001b[0;34m\u001b[0m\u001b[0;34m\u001b[0m\u001b[0m\n",
            "\u001b[0;32m/usr/local/lib/python3.6/dist-packages/_plotly_utils/basevalidators.py\u001b[0m in \u001b[0;36mraise_invalid_elements\u001b[0;34m(self, invalid_els)\u001b[0m\n\u001b[1;32m    296\u001b[0m                     \u001b[0mpname\u001b[0m\u001b[0;34m=\u001b[0m\u001b[0mself\u001b[0m\u001b[0;34m.\u001b[0m\u001b[0mparent_name\u001b[0m\u001b[0;34m,\u001b[0m\u001b[0;34m\u001b[0m\u001b[0;34m\u001b[0m\u001b[0m\n\u001b[1;32m    297\u001b[0m                     \u001b[0minvalid\u001b[0m\u001b[0;34m=\u001b[0m\u001b[0minvalid_els\u001b[0m\u001b[0;34m[\u001b[0m\u001b[0;34m:\u001b[0m\u001b[0;36m10\u001b[0m\u001b[0;34m]\u001b[0m\u001b[0;34m,\u001b[0m\u001b[0;34m\u001b[0m\u001b[0;34m\u001b[0m\u001b[0m\n\u001b[0;32m--> 298\u001b[0;31m                     \u001b[0mvalid_clr_desc\u001b[0m\u001b[0;34m=\u001b[0m\u001b[0mself\u001b[0m\u001b[0;34m.\u001b[0m\u001b[0mdescription\u001b[0m\u001b[0;34m(\u001b[0m\u001b[0;34m)\u001b[0m\u001b[0;34m,\u001b[0m\u001b[0;34m\u001b[0m\u001b[0;34m\u001b[0m\u001b[0m\n\u001b[0m\u001b[1;32m    299\u001b[0m                 )\n\u001b[1;32m    300\u001b[0m             )\n",
            "\u001b[0;31mValueError\u001b[0m: \n    Invalid element(s) received for the 'size' property of scatter.marker\n        Invalid elements include: [-2064.0, -3747.0, -575.0, -640.0, -461.0, -1906.0, -980.0, -1216.0, -2157.0, -918.0]\n\n    The 'size' property is a number and may be specified as:\n      - An int or float in the interval [0, inf]\n      - A tuple, list, or one-dimensional numpy array of the above"
          ]
        }
      ]
    },
    {
      "cell_type": "code",
      "metadata": {
        "id": "8jBXSrKbkuye",
        "colab_type": "code",
        "colab": {}
      },
      "source": [
        "# make a column to standardize hospital bed count\n",
        "# number of hospital beds per 1,000 people\n",
        "df_county_health[\"hospitalbeds_per10000\"] = (df_county_health[\"hospital_bed_count\"]/df_county_health[\"Total\"])*1000"
      ],
      "execution_count": 0,
      "outputs": []
    },
    {
      "cell_type": "code",
      "metadata": {
        "id": "xne1Xc75k0yu",
        "colab_type": "code",
        "colab": {
          "base_uri": "https://localhost:8080/",
          "height": 1000
        },
        "outputId": "900fe510-f67d-4b0d-c143-47d1da075821"
      },
      "source": [
        "# make a graph to show percent of largest 18 under population \n",
        "bubble_u18_o60 = px.scatter(df_county_health,\n",
        "                            x = \"percent_over60\",\n",
        "                            y = \"percent_under18\",\n",
        "                            size = \"hospital_bed_count\",\n",
        "                            hover_data = ['Geographic Area N',\"Total\"],\n",
        "                            title = \"Percentage of Population Under 18 and Over 60 in US Counties\",\n",
        "                            labels = {\"Geographic Area N\": \"County, State Name\",\n",
        "                                      \"Total\": \"Total Population\",\n",
        "                                      \"percent_over60\": \"Percent of County Population over 60 years old\",\n",
        "                                      \"percent_under18\": \"Percent of County Population under 18 years old\"})"
      ],
      "execution_count": 116,
      "outputs": [
        {
          "output_type": "error",
          "ename": "ValueError",
          "evalue": "ignored",
          "traceback": [
            "\u001b[0;31m---------------------------------------------------------------------------\u001b[0m",
            "\u001b[0;31mValueError\u001b[0m                                Traceback (most recent call last)",
            "\u001b[0;32m<ipython-input-116-deaaa1c6baf1>\u001b[0m in \u001b[0;36m<module>\u001b[0;34m()\u001b[0m\n\u001b[1;32m      8\u001b[0m                                       \u001b[0;34m\"Total\"\u001b[0m\u001b[0;34m:\u001b[0m \u001b[0;34m\"Total Population\"\u001b[0m\u001b[0;34m,\u001b[0m\u001b[0;34m\u001b[0m\u001b[0;34m\u001b[0m\u001b[0m\n\u001b[1;32m      9\u001b[0m                                       \u001b[0;34m\"percent_over60\"\u001b[0m\u001b[0;34m:\u001b[0m \u001b[0;34m\"Percent of County Population over 60 years old\"\u001b[0m\u001b[0;34m,\u001b[0m\u001b[0;34m\u001b[0m\u001b[0;34m\u001b[0m\u001b[0m\n\u001b[0;32m---> 10\u001b[0;31m                                       \"percent_under18\": \"Percent of County Population under 18 years old\"})\n\u001b[0m",
            "\u001b[0;32m/usr/local/lib/python3.6/dist-packages/plotly/express/_chart_types.py\u001b[0m in \u001b[0;36mscatter\u001b[0;34m(data_frame, x, y, color, symbol, size, hover_name, hover_data, custom_data, text, facet_row, facet_col, facet_col_wrap, error_x, error_x_minus, error_y, error_y_minus, animation_frame, animation_group, category_orders, labels, color_discrete_sequence, color_discrete_map, color_continuous_scale, range_color, color_continuous_midpoint, symbol_sequence, symbol_map, opacity, size_max, marginal_x, marginal_y, trendline, trendline_color_override, log_x, log_y, range_x, range_y, render_mode, title, template, width, height)\u001b[0m\n\u001b[1;32m     53\u001b[0m     \u001b[0mmark\u001b[0m \u001b[0;32min\u001b[0m \u001b[0;36m2\u001b[0m\u001b[0mD\u001b[0m \u001b[0mspace\u001b[0m\u001b[0;34m.\u001b[0m\u001b[0;34m\u001b[0m\u001b[0;34m\u001b[0m\u001b[0m\n\u001b[1;32m     54\u001b[0m     \"\"\"\n\u001b[0;32m---> 55\u001b[0;31m     \u001b[0;32mreturn\u001b[0m \u001b[0mmake_figure\u001b[0m\u001b[0;34m(\u001b[0m\u001b[0margs\u001b[0m\u001b[0;34m=\u001b[0m\u001b[0mlocals\u001b[0m\u001b[0;34m(\u001b[0m\u001b[0;34m)\u001b[0m\u001b[0;34m,\u001b[0m \u001b[0mconstructor\u001b[0m\u001b[0;34m=\u001b[0m\u001b[0mgo\u001b[0m\u001b[0;34m.\u001b[0m\u001b[0mScatter\u001b[0m\u001b[0;34m)\u001b[0m\u001b[0;34m\u001b[0m\u001b[0;34m\u001b[0m\u001b[0m\n\u001b[0m\u001b[1;32m     56\u001b[0m \u001b[0;34m\u001b[0m\u001b[0m\n\u001b[1;32m     57\u001b[0m \u001b[0;34m\u001b[0m\u001b[0m\n",
            "\u001b[0;32m/usr/local/lib/python3.6/dist-packages/plotly/express/_core.py\u001b[0m in \u001b[0;36mmake_figure\u001b[0;34m(args, constructor, trace_patch, layout_patch)\u001b[0m\n\u001b[1;32m   1317\u001b[0m                 \u001b[0margs\u001b[0m\u001b[0;34m,\u001b[0m \u001b[0mtrace_spec\u001b[0m\u001b[0;34m,\u001b[0m \u001b[0mgroup\u001b[0m\u001b[0;34m,\u001b[0m \u001b[0mmapping_labels\u001b[0m\u001b[0;34m.\u001b[0m\u001b[0mcopy\u001b[0m\u001b[0;34m(\u001b[0m\u001b[0;34m)\u001b[0m\u001b[0;34m,\u001b[0m \u001b[0msizeref\u001b[0m\u001b[0;34m\u001b[0m\u001b[0;34m\u001b[0m\u001b[0m\n\u001b[1;32m   1318\u001b[0m             )\n\u001b[0;32m-> 1319\u001b[0;31m             \u001b[0mtrace\u001b[0m\u001b[0;34m.\u001b[0m\u001b[0mupdate\u001b[0m\u001b[0;34m(\u001b[0m\u001b[0mpatch\u001b[0m\u001b[0;34m)\u001b[0m\u001b[0;34m\u001b[0m\u001b[0;34m\u001b[0m\u001b[0m\n\u001b[0m\u001b[1;32m   1320\u001b[0m             \u001b[0;32mif\u001b[0m \u001b[0mfit_results\u001b[0m \u001b[0;32mis\u001b[0m \u001b[0;32mnot\u001b[0m \u001b[0;32mNone\u001b[0m\u001b[0;34m:\u001b[0m\u001b[0;34m\u001b[0m\u001b[0;34m\u001b[0m\u001b[0m\n\u001b[1;32m   1321\u001b[0m                 \u001b[0mtrendline_rows\u001b[0m\u001b[0;34m.\u001b[0m\u001b[0mappend\u001b[0m\u001b[0;34m(\u001b[0m\u001b[0mmapping_labels\u001b[0m\u001b[0;34m.\u001b[0m\u001b[0mcopy\u001b[0m\u001b[0;34m(\u001b[0m\u001b[0;34m)\u001b[0m\u001b[0;34m)\u001b[0m\u001b[0;34m\u001b[0m\u001b[0;34m\u001b[0m\u001b[0m\n",
            "\u001b[0;32m/usr/local/lib/python3.6/dist-packages/plotly/basedatatypes.py\u001b[0m in \u001b[0;36mupdate\u001b[0;34m(self, dict1, overwrite, **kwargs)\u001b[0m\n\u001b[1;32m   3697\u001b[0m                 \u001b[0mBaseFigure\u001b[0m\u001b[0;34m.\u001b[0m\u001b[0m_perform_update\u001b[0m\u001b[0;34m(\u001b[0m\u001b[0mself\u001b[0m\u001b[0;34m,\u001b[0m \u001b[0mkwargs\u001b[0m\u001b[0;34m,\u001b[0m \u001b[0moverwrite\u001b[0m\u001b[0;34m=\u001b[0m\u001b[0moverwrite\u001b[0m\u001b[0;34m)\u001b[0m\u001b[0;34m\u001b[0m\u001b[0;34m\u001b[0m\u001b[0m\n\u001b[1;32m   3698\u001b[0m         \u001b[0;32melse\u001b[0m\u001b[0;34m:\u001b[0m\u001b[0;34m\u001b[0m\u001b[0;34m\u001b[0m\u001b[0m\n\u001b[0;32m-> 3699\u001b[0;31m             \u001b[0mBaseFigure\u001b[0m\u001b[0;34m.\u001b[0m\u001b[0m_perform_update\u001b[0m\u001b[0;34m(\u001b[0m\u001b[0mself\u001b[0m\u001b[0;34m,\u001b[0m \u001b[0mdict1\u001b[0m\u001b[0;34m,\u001b[0m \u001b[0moverwrite\u001b[0m\u001b[0;34m=\u001b[0m\u001b[0moverwrite\u001b[0m\u001b[0;34m)\u001b[0m\u001b[0;34m\u001b[0m\u001b[0;34m\u001b[0m\u001b[0m\n\u001b[0m\u001b[1;32m   3700\u001b[0m             \u001b[0mBaseFigure\u001b[0m\u001b[0;34m.\u001b[0m\u001b[0m_perform_update\u001b[0m\u001b[0;34m(\u001b[0m\u001b[0mself\u001b[0m\u001b[0;34m,\u001b[0m \u001b[0mkwargs\u001b[0m\u001b[0;34m,\u001b[0m \u001b[0moverwrite\u001b[0m\u001b[0;34m=\u001b[0m\u001b[0moverwrite\u001b[0m\u001b[0;34m)\u001b[0m\u001b[0;34m\u001b[0m\u001b[0;34m\u001b[0m\u001b[0m\n\u001b[1;32m   3701\u001b[0m \u001b[0;34m\u001b[0m\u001b[0m\n",
            "\u001b[0;32m/usr/local/lib/python3.6/dist-packages/plotly/basedatatypes.py\u001b[0m in \u001b[0;36m_perform_update\u001b[0;34m(plotly_obj, update_obj, overwrite)\u001b[0m\n\u001b[1;32m   2896\u001b[0m                     \u001b[0;31m# Update compound objects recursively\u001b[0m\u001b[0;34m\u001b[0m\u001b[0;34m\u001b[0m\u001b[0;34m\u001b[0m\u001b[0m\n\u001b[1;32m   2897\u001b[0m                     \u001b[0;31m# plotly_obj[key].update(val)\u001b[0m\u001b[0;34m\u001b[0m\u001b[0;34m\u001b[0m\u001b[0;34m\u001b[0m\u001b[0m\n\u001b[0;32m-> 2898\u001b[0;31m                     \u001b[0mBaseFigure\u001b[0m\u001b[0;34m.\u001b[0m\u001b[0m_perform_update\u001b[0m\u001b[0;34m(\u001b[0m\u001b[0mplotly_obj\u001b[0m\u001b[0;34m[\u001b[0m\u001b[0mkey\u001b[0m\u001b[0;34m]\u001b[0m\u001b[0;34m,\u001b[0m \u001b[0mval\u001b[0m\u001b[0;34m)\u001b[0m\u001b[0;34m\u001b[0m\u001b[0;34m\u001b[0m\u001b[0m\n\u001b[0m\u001b[1;32m   2899\u001b[0m                 \u001b[0;32melif\u001b[0m \u001b[0misinstance\u001b[0m\u001b[0;34m(\u001b[0m\u001b[0mvalidator\u001b[0m\u001b[0;34m,\u001b[0m \u001b[0mCompoundArrayValidator\u001b[0m\u001b[0;34m)\u001b[0m\u001b[0;34m:\u001b[0m\u001b[0;34m\u001b[0m\u001b[0;34m\u001b[0m\u001b[0m\n\u001b[1;32m   2900\u001b[0m                     \u001b[0;32mif\u001b[0m \u001b[0mplotly_obj\u001b[0m\u001b[0;34m[\u001b[0m\u001b[0mkey\u001b[0m\u001b[0;34m]\u001b[0m\u001b[0;34m:\u001b[0m\u001b[0;34m\u001b[0m\u001b[0;34m\u001b[0m\u001b[0m\n",
            "\u001b[0;32m/usr/local/lib/python3.6/dist-packages/plotly/basedatatypes.py\u001b[0m in \u001b[0;36m_perform_update\u001b[0;34m(plotly_obj, update_obj, overwrite)\u001b[0m\n\u001b[1;32m   2917\u001b[0m                 \u001b[0;32melse\u001b[0m\u001b[0;34m:\u001b[0m\u001b[0;34m\u001b[0m\u001b[0;34m\u001b[0m\u001b[0m\n\u001b[1;32m   2918\u001b[0m                     \u001b[0;31m# Assign non-compound value\u001b[0m\u001b[0;34m\u001b[0m\u001b[0;34m\u001b[0m\u001b[0;34m\u001b[0m\u001b[0m\n\u001b[0;32m-> 2919\u001b[0;31m                     \u001b[0mplotly_obj\u001b[0m\u001b[0;34m[\u001b[0m\u001b[0mkey\u001b[0m\u001b[0;34m]\u001b[0m \u001b[0;34m=\u001b[0m \u001b[0mval\u001b[0m\u001b[0;34m\u001b[0m\u001b[0;34m\u001b[0m\u001b[0m\n\u001b[0m\u001b[1;32m   2920\u001b[0m \u001b[0;34m\u001b[0m\u001b[0m\n\u001b[1;32m   2921\u001b[0m         \u001b[0;32melif\u001b[0m \u001b[0misinstance\u001b[0m\u001b[0;34m(\u001b[0m\u001b[0mplotly_obj\u001b[0m\u001b[0;34m,\u001b[0m \u001b[0mtuple\u001b[0m\u001b[0;34m)\u001b[0m\u001b[0;34m:\u001b[0m\u001b[0;34m\u001b[0m\u001b[0;34m\u001b[0m\u001b[0m\n",
            "\u001b[0;32m/usr/local/lib/python3.6/dist-packages/plotly/basedatatypes.py\u001b[0m in \u001b[0;36m__setitem__\u001b[0;34m(self, prop, value)\u001b[0m\n\u001b[1;32m   3488\u001b[0m             \u001b[0;31m# ### Handle simple property ###\u001b[0m\u001b[0;34m\u001b[0m\u001b[0;34m\u001b[0m\u001b[0;34m\u001b[0m\u001b[0m\n\u001b[1;32m   3489\u001b[0m             \u001b[0;32melse\u001b[0m\u001b[0;34m:\u001b[0m\u001b[0;34m\u001b[0m\u001b[0;34m\u001b[0m\u001b[0m\n\u001b[0;32m-> 3490\u001b[0;31m                 \u001b[0mself\u001b[0m\u001b[0;34m.\u001b[0m\u001b[0m_set_prop\u001b[0m\u001b[0;34m(\u001b[0m\u001b[0mprop\u001b[0m\u001b[0;34m,\u001b[0m \u001b[0mvalue\u001b[0m\u001b[0;34m)\u001b[0m\u001b[0;34m\u001b[0m\u001b[0;34m\u001b[0m\u001b[0m\n\u001b[0m\u001b[1;32m   3491\u001b[0m \u001b[0;34m\u001b[0m\u001b[0m\n\u001b[1;32m   3492\u001b[0m         \u001b[0;31m# Handle non-scalar case\u001b[0m\u001b[0;34m\u001b[0m\u001b[0;34m\u001b[0m\u001b[0;34m\u001b[0m\u001b[0m\n",
            "\u001b[0;32m/usr/local/lib/python3.6/dist-packages/plotly/basedatatypes.py\u001b[0m in \u001b[0;36m_set_prop\u001b[0;34m(self, prop, val)\u001b[0m\n\u001b[1;32m   3775\u001b[0m                 \u001b[0;32mreturn\u001b[0m\u001b[0;34m\u001b[0m\u001b[0;34m\u001b[0m\u001b[0m\n\u001b[1;32m   3776\u001b[0m             \u001b[0;32melse\u001b[0m\u001b[0;34m:\u001b[0m\u001b[0;34m\u001b[0m\u001b[0;34m\u001b[0m\u001b[0m\n\u001b[0;32m-> 3777\u001b[0;31m                 \u001b[0;32mraise\u001b[0m \u001b[0merr\u001b[0m\u001b[0;34m\u001b[0m\u001b[0;34m\u001b[0m\u001b[0m\n\u001b[0m\u001b[1;32m   3778\u001b[0m \u001b[0;34m\u001b[0m\u001b[0m\n\u001b[1;32m   3779\u001b[0m         \u001b[0;31m# val is None\u001b[0m\u001b[0;34m\u001b[0m\u001b[0;34m\u001b[0m\u001b[0;34m\u001b[0m\u001b[0m\n",
            "\u001b[0;32m/usr/local/lib/python3.6/dist-packages/plotly/basedatatypes.py\u001b[0m in \u001b[0;36m_set_prop\u001b[0;34m(self, prop, val)\u001b[0m\n\u001b[1;32m   3770\u001b[0m         \u001b[0mvalidator\u001b[0m \u001b[0;34m=\u001b[0m \u001b[0mself\u001b[0m\u001b[0;34m.\u001b[0m\u001b[0m_validators\u001b[0m\u001b[0;34m.\u001b[0m\u001b[0mget\u001b[0m\u001b[0;34m(\u001b[0m\u001b[0mprop\u001b[0m\u001b[0;34m)\u001b[0m\u001b[0;34m\u001b[0m\u001b[0;34m\u001b[0m\u001b[0m\n\u001b[1;32m   3771\u001b[0m         \u001b[0;32mtry\u001b[0m\u001b[0;34m:\u001b[0m\u001b[0;34m\u001b[0m\u001b[0;34m\u001b[0m\u001b[0m\n\u001b[0;32m-> 3772\u001b[0;31m             \u001b[0mval\u001b[0m \u001b[0;34m=\u001b[0m \u001b[0mvalidator\u001b[0m\u001b[0;34m.\u001b[0m\u001b[0mvalidate_coerce\u001b[0m\u001b[0;34m(\u001b[0m\u001b[0mval\u001b[0m\u001b[0;34m)\u001b[0m\u001b[0;34m\u001b[0m\u001b[0;34m\u001b[0m\u001b[0m\n\u001b[0m\u001b[1;32m   3773\u001b[0m         \u001b[0;32mexcept\u001b[0m \u001b[0mValueError\u001b[0m \u001b[0;32mas\u001b[0m \u001b[0merr\u001b[0m\u001b[0;34m:\u001b[0m\u001b[0;34m\u001b[0m\u001b[0;34m\u001b[0m\u001b[0m\n\u001b[1;32m   3774\u001b[0m             \u001b[0;32mif\u001b[0m \u001b[0mself\u001b[0m\u001b[0;34m.\u001b[0m\u001b[0m_skip_invalid\u001b[0m\u001b[0;34m:\u001b[0m\u001b[0;34m\u001b[0m\u001b[0;34m\u001b[0m\u001b[0m\n",
            "\u001b[0;32m/usr/local/lib/python3.6/dist-packages/_plotly_utils/basevalidators.py\u001b[0m in \u001b[0;36mvalidate_coerce\u001b[0;34m(self, v)\u001b[0m\n\u001b[1;32m    759\u001b[0m                     ].tolist()\n\u001b[1;32m    760\u001b[0m \u001b[0;34m\u001b[0m\u001b[0m\n\u001b[0;32m--> 761\u001b[0;31m                     \u001b[0mself\u001b[0m\u001b[0;34m.\u001b[0m\u001b[0mraise_invalid_elements\u001b[0m\u001b[0;34m(\u001b[0m\u001b[0msome_invalid_els\u001b[0m\u001b[0;34m)\u001b[0m\u001b[0;34m\u001b[0m\u001b[0;34m\u001b[0m\u001b[0m\n\u001b[0m\u001b[1;32m    762\u001b[0m \u001b[0;34m\u001b[0m\u001b[0m\n\u001b[1;32m    763\u001b[0m             \u001b[0mv\u001b[0m \u001b[0;34m=\u001b[0m \u001b[0mv_array\u001b[0m  \u001b[0;31m# Always numeric numpy array\u001b[0m\u001b[0;34m\u001b[0m\u001b[0;34m\u001b[0m\u001b[0m\n",
            "\u001b[0;32m/usr/local/lib/python3.6/dist-packages/_plotly_utils/basevalidators.py\u001b[0m in \u001b[0;36mraise_invalid_elements\u001b[0;34m(self, invalid_els)\u001b[0m\n\u001b[1;32m    296\u001b[0m                     \u001b[0mpname\u001b[0m\u001b[0;34m=\u001b[0m\u001b[0mself\u001b[0m\u001b[0;34m.\u001b[0m\u001b[0mparent_name\u001b[0m\u001b[0;34m,\u001b[0m\u001b[0;34m\u001b[0m\u001b[0;34m\u001b[0m\u001b[0m\n\u001b[1;32m    297\u001b[0m                     \u001b[0minvalid\u001b[0m\u001b[0;34m=\u001b[0m\u001b[0minvalid_els\u001b[0m\u001b[0;34m[\u001b[0m\u001b[0;34m:\u001b[0m\u001b[0;36m10\u001b[0m\u001b[0;34m]\u001b[0m\u001b[0;34m,\u001b[0m\u001b[0;34m\u001b[0m\u001b[0;34m\u001b[0m\u001b[0m\n\u001b[0;32m--> 298\u001b[0;31m                     \u001b[0mvalid_clr_desc\u001b[0m\u001b[0;34m=\u001b[0m\u001b[0mself\u001b[0m\u001b[0;34m.\u001b[0m\u001b[0mdescription\u001b[0m\u001b[0;34m(\u001b[0m\u001b[0;34m)\u001b[0m\u001b[0;34m,\u001b[0m\u001b[0;34m\u001b[0m\u001b[0;34m\u001b[0m\u001b[0m\n\u001b[0m\u001b[1;32m    299\u001b[0m                 )\n\u001b[1;32m    300\u001b[0m             )\n",
            "\u001b[0;31mValueError\u001b[0m: \n    Invalid element(s) received for the 'size' property of scatter.marker\n        Invalid elements include: [-2064.0, -3747.0, -575.0, -640.0, -461.0, -1906.0, -980.0, -1216.0, -2157.0, -918.0]\n\n    The 'size' property is a number and may be specified as:\n      - An int or float in the interval [0, inf]\n      - A tuple, list, or one-dimensional numpy array of the above"
          ]
        }
      ]
    },
    {
      "cell_type": "code",
      "metadata": {
        "id": "cG-GfE6-lEnw",
        "colab_type": "code",
        "colab": {}
      },
      "source": [
        "# create a new dataframe that only includes the most recent coronavirus data\n",
        "df_covid_apr10 = df_covid[df_covid[\"date\"]== \"2020-04-10\"]"
      ],
      "execution_count": 0,
      "outputs": []
    },
    {
      "cell_type": "code",
      "metadata": {
        "id": "3qE-r8OelMzu",
        "colab_type": "code",
        "colab": {}
      },
      "source": [
        "# first, remove null values from fips\n",
        "df_covid_apr10 = df_covid_apr10[df_covid_apr10[\"fips\"].notnull()]\n",
        "\n",
        "# convert fips number to int and then string\n",
        "df_covid_apr10[\"fips\"] = df_covid_apr10[\"fips\"].astype(int)\n",
        "df_covid_apr10[\"fips\"] = df_covid_apr10[\"fips\"].astype(str)"
      ],
      "execution_count": 0,
      "outputs": []
    },
    {
      "cell_type": "code",
      "metadata": {
        "id": "CrVBJSYplPK3",
        "colab_type": "code",
        "colab": {}
      },
      "source": [
        "# adding preceding zeros so that the FIPS code includes 5 digits\n",
        "df_covid_apr10[\"fips\"] = df_covid_apr10[\"fips\"].str.zfill(5)"
      ],
      "execution_count": 0,
      "outputs": []
    },
    {
      "cell_type": "code",
      "metadata": {
        "id": "w81WIK1clRsG",
        "colab_type": "code",
        "colab": {}
      },
      "source": [
        "# merge covid data to df_county_health data\n",
        "df_county_health = pd.merge(df_county_health,\n",
        "                           df_covid_apr10[[\"fips\", \"cases\", \"deaths\"]],\n",
        "                           how = \"left\",\n",
        "                           left_on = \"full_county_fips\",\n",
        "                           right_on = \"fips\")"
      ],
      "execution_count": 0,
      "outputs": []
    },
    {
      "cell_type": "code",
      "metadata": {
        "id": "yAhiBbItlUek",
        "colab_type": "code",
        "colab": {}
      },
      "source": [
        "# make two more columns that show number of cases/deaths per 1000 people\n",
        "df_county_health[\"cases_per1000\"] = (df_county_health[\"cases\"]/df_county_health[\"Total\"])*1000\n",
        "df_county_health[\"deaths_per1000\"] = (df_county_health[\"deaths\"]/df_county_health[\"Total\"])*1000"
      ],
      "execution_count": 0,
      "outputs": []
    },
    {
      "cell_type": "code",
      "metadata": {
        "id": "VfkG1VXjlW2G",
        "colab_type": "code",
        "colab": {}
      },
      "source": [
        "# correlation table\n",
        "covid_corr = df_county_health.corr()"
      ],
      "execution_count": 0,
      "outputs": []
    },
    {
      "cell_type": "code",
      "metadata": {
        "id": "VMWPg_pOlZlc",
        "colab_type": "code",
        "colab": {}
      },
      "source": [
        "# make an annotated heatmap\n",
        "county_covid19_heatmap = ff.create_annotated_heatmap(z = covid_corr.values, \n",
        "                                       x=list(covid_corr.columns), \n",
        "                                       y=list(covid_corr.index), \n",
        "                                       annotation_text=covid_corr.round(2).values, \n",
        "                                       showscale = True \n",
        "                                       )"
      ],
      "execution_count": 0,
      "outputs": []
    },
    {
      "cell_type": "code",
      "metadata": {
        "id": "QCXsIUMsla7q",
        "colab_type": "code",
        "colab": {
          "base_uri": "https://localhost:8080/",
          "height": 542
        },
        "outputId": "bc718363-0ee3-4ae6-890f-940e219f3224"
      },
      "source": [
        "county_covid19_heatmap\n"
      ],
      "execution_count": 69,
      "outputs": [
        {
          "output_type": "display_data",
          "data": {
            "text/html": [
              "<html>\n",
              "<head><meta charset=\"utf-8\" /></head>\n",
              "<body>\n",
              "    <div>\n",
              "            <script src=\"https://cdnjs.cloudflare.com/ajax/libs/mathjax/2.7.5/MathJax.js?config=TeX-AMS-MML_SVG\"></script><script type=\"text/javascript\">if (window.MathJax) {MathJax.Hub.Config({SVG: {font: \"STIX-Web\"}});}</script>\n",
              "                <script type=\"text/javascript\">window.PlotlyConfig = {MathJaxConfig: 'local'};</script>\n",
              "        <script src=\"https://cdn.plot.ly/plotly-latest.min.js\"></script>    \n",
              "            <div id=\"b43f2a27-9b63-4030-bfac-d2600d5b9377\" class=\"plotly-graph-div\" style=\"height:525px; width:100%;\"></div>\n",
              "            <script type=\"text/javascript\">\n",
              "                \n",
              "                    window.PLOTLYENV=window.PLOTLYENV || {};\n",
              "                    \n",
              "                if (document.getElementById(\"b43f2a27-9b63-4030-bfac-d2600d5b9377\")) {\n",
              "                    Plotly.newPlot(\n",
              "                        'b43f2a27-9b63-4030-bfac-d2600d5b9377',\n",
              "                        [{\"colorscale\": [[0.0, \"#0d0887\"], [0.1111111111111111, \"#46039f\"], [0.2222222222222222, \"#7201a8\"], [0.3333333333333333, \"#9c179e\"], [0.4444444444444444, \"#bd3786\"], [0.5555555555555556, \"#d8576b\"], [0.6666666666666666, \"#ed7953\"], [0.7777777777777778, \"#fb9f3a\"], [0.8888888888888888, \"#fdca26\"], [1.0, \"#f0f921\"]], \"reversescale\": false, \"showscale\": true, \"type\": \"heatmap\", \"x\": [\"Total\", \"Male\", \"Female\", \"Total Under 18 year\", \"Male Under 18 year\", \"Female Under 18 year\", \"Total 60 years and over\", \"Male 60 years and over\", \"Female 60 years and over\", \"Median age (years)\", \"Sex ratio (males per 100 females)\", \"Age dependency ratio\", \"Old-age dependency ratio\", \"Child dependency ratio\", \"percent_under18\", \"percent_over60\", \"hospital_bed_count\", \"hospital_count\", \"hospitalbeds_per10000\", \"cases\", \"deaths\", \"cases_per1000\", \"deaths_per1000\"], \"y\": [\"Total\", \"Male\", \"Female\", \"Total Under 18 year\", \"Male Under 18 year\", \"Female Under 18 year\", \"Total 60 years and over\", \"Male 60 years and over\", \"Female 60 years and over\", \"Median age (years)\", \"Sex ratio (males per 100 females)\", \"Age dependency ratio\", \"Old-age dependency ratio\", \"Child dependency ratio\", \"percent_under18\", \"percent_over60\", \"hospital_bed_count\", \"hospital_count\", \"hospitalbeds_per10000\", \"cases\", \"deaths\", \"cases_per1000\", \"deaths_per1000\"], \"z\": [[1.0, 0.9998562532838466, 0.9998655758777497, 0.9930534938305541, 0.9930578841364044, 0.9929856734760335, 0.9863991689505778, 0.9860101736515914, 0.9860120152506345, -0.11608778058227864, -0.08456979711163082, -0.1645941713931113, -0.15436849056488638, -0.02383190744329817, 0.04280202342652614, -0.17724115523958417, 0.6584572613659792, 0.9118488132525446, 0.04161931139418763, 0.48157073120573146, 0.4226157931503558, 0.1415343084077931, 0.1284028880522202], [0.9998562532838466, 1.0, 0.9994438532423116, 0.9934385749889586, 0.9934751891383355, 0.9933371055713816, 0.9853247219969667, 0.985340044651529, 0.9846116356121164, -0.11773360677077939, -0.07533209622229291, -0.16483939318829613, -0.1556808119652178, -0.021994734296272724, 0.044868745374794725, -0.1789865760488131, 0.6560461150276037, 0.9111121859832316, 0.04065801897087326, 0.4778058808164797, 0.41892776383398933, 0.1387077893305531, 0.12542158282451815], [0.9998655758777497, 0.9994438532423116, 1.0, 0.9924095758555896, 0.9923828034871103, 0.9923743137514697, 0.9871684802357283, 0.9863886030764127, 0.9870966195907578, -0.11446447262183639, -0.09347982140725486, -0.1643120289066249, -0.15305722510126235, -0.025601995469822215, 0.04079173463186242, -0.17550481486374983, 0.6606088728756814, 0.9123118266722483, 0.042537531471677756, 0.4851148346031738, 0.4260985428022417, 0.14424419397241803, 0.131265832512263], [0.9930534938305541, 0.9934385749889586, 0.9924095758555896, 1.0, 0.9999701347115866, 0.9999674818878054, 0.9671767892076228, 0.9676124073661794, 0.9661370016321418, -0.1509347732338526, -0.07212982525690224, -0.1556339125190993, -0.1835802686760414, 0.04233910898407921, 0.11109112039566936, -0.2153700384904762, 0.6380291151445536, 0.9130504300788242, 0.036733340886033666, 0.46220605311467183, 0.40375019733423106, 0.13163184415070056, 0.1186380789062534], [0.9930578841364044, 0.9934751891383355, 0.9923828034871103, 0.9999701347115866, 1.0, 0.999875291572539, 0.9672023610373445, 0.9676733681752738, 0.9661339602931588, -0.1507449914902512, -0.07013929955782096, -0.15562364366287243, -0.1836751429118393, 0.04252156476052573, 0.11123548622628492, -0.2153311290049828, 0.6380987108523507, 0.9125341221203482, 0.03657462543710916, 0.4621045325632465, 0.403692520660978, 0.13161773980230634, 0.1185943390241262], [0.9929856734760335, 0.9933371055713816, 0.9923743137514697, 0.9999674818878054, 0.999875291572539, 1.0, 0.9670885144860679, 0.967487177646201, 0.966078650043761, -0.15112319259255, -0.0742022812257979, -0.1556347167261631, -0.1834695797927338, 0.042146026050089054, 0.11093340485407652, -0.21539692417893955, 0.6379158635701819, 0.913531036275454, 0.036896616096357894, 0.46228216380126136, 0.4037843278496243, 0.1316380672938039, 0.11867606649286337], [0.9863991689505778, 0.9853247219969667, 0.9871684802357283, 0.9671767892076228, 0.9672023610373445, 0.9670885144860679, 1.0, 0.9995132033654991, 0.9996821995644805, -0.025812590263659622, -0.11406368426489782, -0.10349555179665379, -0.06388898283057558, -0.07217978667678719, -0.030618558125956416, -0.0786742138409452, 0.6535776771598433, 0.8924618379762442, 0.04734833701938285, 0.5091752315005509, 0.45576127396080085, 0.16408397569859928, 0.15476297759769894], [0.9860101736515914, 0.985340044651529, 0.9863886030764127, 0.9676124073661794, 0.9676733681752738, 0.967487177646201, 0.9995132033654991, 1.0, 0.9984090668175053, -0.021427465135195896, -0.10490488167334219, -0.09820221724158534, -0.05928042361015108, -0.07079031168527433, -0.0308436565441552, -0.07464311458014652, 0.6477344624774658, 0.8913761425158928, 0.045855976936884243, 0.5023694014231272, 0.449650462343358, 0.15943982227971393, 0.15044930478362517], [0.9860120152506345, 0.9846116356121164, 0.9870966195907578, 0.9661370016321418, 0.9661339602931588, 0.966078650043761, 0.9996821995644805, 0.9984090668175053, 1.0, -0.029337500234116656, -0.12138305943161035, -0.10769906906061505, -0.06756735418616314, -0.07325117944188099, -0.030414900096920796, -0.08187547192731755, 0.6578343219865224, 0.8927044342968848, 0.048520521615095485, 0.514424491503175, 0.4604752554496013, 0.16776711318628146, 0.1581827216112152], [-0.11608778058227864, -0.11773360677077939, -0.11446447262183639, -0.1509347732338526, -0.1507449914902512, -0.15112319259255, -0.025812590263659622, -0.021427465135195896, -0.029337500234116656, 1.0, -0.15455379582248555, 0.6612361385757599, 0.8509685318054839, -0.302029132003401, -0.5407762177256293, 0.9163833069198978, -0.025573078019927024, -0.14243078811039162, 0.022302639782434037, -0.007840288932181494, 0.007529653467926359, 0.013484956432701579, 0.03756920166273495], [-0.08456979711163082, -0.07533209622229291, -0.09347982140725486, -0.07212982525690224, -0.07013929955782096, -0.0742022812257979, -0.11406368426489782, -0.10490488167334219, -0.12138305943161035, -0.15455379582248555, 1.0, -0.09638570947572853, -0.1324510074219126, 0.05867439235372254, 0.09638498074586299, -0.1529766599421735, -0.09813062616684358, -0.1064508619014463, -0.03767418895306281, -0.10513803013009707, -0.1082864895686249, -0.13682470267363045, -0.17493196571501288], [-0.1645941713931113, -0.16483939318829613, -0.1643120289066249, -0.1556339125190993, -0.15562364366287243, -0.1556347167261631, -0.10349555179665379, -0.09820221724158534, -0.10769906906061505, 0.6612361385757599, -0.09638570947572853, 1.0, 0.8356279344983776, 0.32144289949422433, 0.0212009547430635, 0.7224999582236429, -0.09512646402871579, -0.16348466269785608, -0.028042365174809736, -0.09755094591327297, -0.07762715130747237, -0.06058598426112931, -0.0290706065990343], [-0.15436849056488638, -0.1556808119652178, -0.15305722510126235, -0.1835802686760414, -0.1836751429118393, -0.1834695797927338, -0.06388898283057558, -0.05928042361015108, -0.06756735418616314, 0.8509685318054839, -0.1324510074219126, 0.8356279344983776, 1.0, -0.2515129650056959, -0.5285903827614101, 0.952590043274754, -0.05466162103953402, -0.156682271543272, 0.021645893848663885, -0.07108339240933922, -0.05266510596236115, -0.04975821653059907, -0.014322826096745603], [-0.02383190744329817, -0.021994734296272724, -0.025601995469822215, 0.04233910898407921, 0.04252156476052573, 0.042146026050089054, -0.07217978667678719, -0.07079031168527433, -0.07325117944188099, -0.302029132003401, 0.05867439235372254, 0.32144289949422433, -0.2515129650056959, 1.0, 0.9486434460933462, -0.3692332148935938, -0.07366106045229169, -0.017708342913952797, -0.08665789142534754, -0.04905869407661787, -0.04570868134855109, -0.020633972978529883, -0.026444329542316337], [0.04280202342652614, 0.044868745374794725, 0.04079173463186242, 0.11109112039566936, 0.11123548622628492, 0.11093340485407652, -0.030618558125956416, -0.0308436565441552, -0.030414900096920796, -0.5407762177256293, 0.09638498074586299, 0.0212009547430635, -0.5285903827614101, 0.9486434460933462, 1.0, -0.6349339781663604, -0.039655504733826175, 0.04787427430773763, -0.07990678809766792, -0.015421852601448733, -0.018361026880530255, -0.0020171098292860257, -0.015426442227398673], [-0.17724115523958417, -0.1789865760488131, -0.17550481486374983, -0.2153700384904762, -0.2153311290049828, -0.21539692417893955, -0.0786742138409452, -0.07464311458014652, -0.08187547192731755, 0.9163833069198978, -0.1529766599421735, 0.7224999582236429, 0.952590043274754, -0.3692332148935938, -0.6349339781663604, 1.0, -0.06005100636952965, -0.17524502347545687, 0.022928341409255232, -0.06641034659884855, -0.04530852431560862, -0.03878728137763144, -0.0054681915342568565], [0.6584572613659792, 0.6560461150276037, 0.6606088728756814, 0.6380291151445536, 0.6380987108523507, 0.6379158635701819, 0.6535776771598433, 0.6477344624774658, 0.6578343219865224, -0.025573078019927024, -0.09813062616684358, -0.09512646402871579, -0.05466162103953402, -0.07366106045229169, -0.039655504733826175, -0.06005100636952965, 1.0, 0.577356397514318, 0.48577570792194746, 0.3543267656155283, 0.3061076455578831, 0.05116425201905238, 0.049006771406791494], [0.9118488132525446, 0.9111121859832316, 0.9123118266722483, 0.9130504300788242, 0.9125341221203482, 0.913531036275454, 0.8924618379762442, 0.8913761425158928, 0.8927044342968848, -0.14243078811039162, -0.1064508619014463, -0.16348466269785608, -0.156682271543272, -0.017708342913952797, 0.04787427430773763, -0.17524502347545687, 0.577356397514318, 1.0, -0.005474888612069509, 0.43902228228394935, 0.3818897224051103, 0.14628978959986105, 0.12962658413028882], [0.04161931139418763, 0.04065801897087326, 0.042537531471677756, 0.036733340886033666, 0.03657462543710916, 0.036896616096357894, 0.04734833701938285, 0.045855976936884243, 0.048520521615095485, 0.022302639782434037, -0.03767418895306281, -0.028042365174809736, 0.021645893848663885, -0.08665789142534754, -0.07990678809766792, 0.022928341409255232, 0.48577570792194746, -0.005474888612069509, 1.0, 0.019158243487627034, 0.018565500567247224, -0.03955723243084606, -0.021224429702914414], [0.48157073120573146, 0.4778058808164797, 0.4851148346031738, 0.46220605311467183, 0.4621045325632465, 0.46228216380126136, 0.5091752315005509, 0.5023694014231272, 0.514424491503175, -0.007840288932181494, -0.10513803013009707, -0.09755094591327297, -0.07108339240933922, -0.04905869407661787, -0.015421852601448733, -0.06641034659884855, 0.3543267656155283, 0.43902228228394935, 0.019158243487627034, 1.0, 0.9322469516999027, 0.7726675712078763, 0.6894026122513334], [0.4226157931503558, 0.41892776383398933, 0.4260985428022417, 0.40375019733423106, 0.403692520660978, 0.4037843278496243, 0.45576127396080085, 0.449650462343358, 0.4604752554496013, 0.007529653467926359, -0.1082864895686249, -0.07762715130747237, -0.05266510596236115, -0.04570868134855109, -0.018361026880530255, -0.04530852431560862, 0.3061076455578831, 0.3818897224051103, 0.018565500567247224, 0.9322469516999027, 1.0, 0.700274787745466, 0.7433823066987048], [0.1415343084077931, 0.1387077893305531, 0.14424419397241803, 0.13163184415070056, 0.13161773980230634, 0.1316380672938039, 0.16408397569859928, 0.15943982227971393, 0.16776711318628146, 0.013484956432701579, -0.13682470267363045, -0.06058598426112931, -0.04975821653059907, -0.020633972978529883, -0.0020171098292860257, -0.03878728137763144, 0.05116425201905238, 0.14628978959986105, -0.03955723243084606, 0.7726675712078763, 0.700274787745466, 1.0, 0.8807938925146281], [0.1284028880522202, 0.12542158282451815, 0.131265832512263, 0.1186380789062534, 0.1185943390241262, 0.11867606649286337, 0.15476297759769894, 0.15044930478362517, 0.1581827216112152, 0.03756920166273495, -0.17493196571501288, -0.0290706065990343, -0.014322826096745603, -0.026444329542316337, -0.015426442227398673, -0.0054681915342568565, 0.049006771406791494, 0.12962658413028882, -0.021224429702914414, 0.6894026122513334, 0.7433823066987048, 0.8807938925146281, 1.0]]}],\n",
              "                        {\"annotations\": [{\"font\": {\"color\": \"#000000\"}, \"showarrow\": false, \"text\": \"1.0\", \"x\": \"Total\", \"xref\": \"x\", \"y\": \"Total\", \"yref\": \"y\"}, {\"font\": {\"color\": \"#000000\"}, \"showarrow\": false, \"text\": \"1.0\", \"x\": \"Male\", \"xref\": \"x\", \"y\": \"Total\", \"yref\": \"y\"}, {\"font\": {\"color\": \"#000000\"}, \"showarrow\": false, \"text\": \"1.0\", \"x\": \"Female\", \"xref\": \"x\", \"y\": \"Total\", \"yref\": \"y\"}, {\"font\": {\"color\": \"#000000\"}, \"showarrow\": false, \"text\": \"0.99\", \"x\": \"Total Under 18 year\", \"xref\": \"x\", \"y\": \"Total\", \"yref\": \"y\"}, {\"font\": {\"color\": \"#000000\"}, \"showarrow\": false, \"text\": \"0.99\", \"x\": \"Male Under 18 year\", \"xref\": \"x\", \"y\": \"Total\", \"yref\": \"y\"}, {\"font\": {\"color\": \"#000000\"}, \"showarrow\": false, \"text\": \"0.99\", \"x\": \"Female Under 18 year\", \"xref\": \"x\", \"y\": \"Total\", \"yref\": \"y\"}, {\"font\": {\"color\": \"#000000\"}, \"showarrow\": false, \"text\": \"0.99\", \"x\": \"Total 60 years and over\", \"xref\": \"x\", \"y\": \"Total\", \"yref\": \"y\"}, {\"font\": {\"color\": \"#000000\"}, \"showarrow\": false, \"text\": \"0.99\", \"x\": \"Male 60 years and over\", \"xref\": \"x\", \"y\": \"Total\", \"yref\": \"y\"}, {\"font\": {\"color\": \"#000000\"}, \"showarrow\": false, \"text\": \"0.99\", \"x\": \"Female 60 years and over\", \"xref\": \"x\", \"y\": \"Total\", \"yref\": \"y\"}, {\"font\": {\"color\": \"#FFFFFF\"}, \"showarrow\": false, \"text\": \"-0.12\", \"x\": \"Median age (years)\", \"xref\": \"x\", \"y\": \"Total\", \"yref\": \"y\"}, {\"font\": {\"color\": \"#FFFFFF\"}, \"showarrow\": false, \"text\": \"-0.08\", \"x\": \"Sex ratio (males per 100 females)\", \"xref\": \"x\", \"y\": \"Total\", \"yref\": \"y\"}, {\"font\": {\"color\": \"#FFFFFF\"}, \"showarrow\": false, \"text\": \"-0.16\", \"x\": \"Age dependency ratio\", \"xref\": \"x\", \"y\": \"Total\", \"yref\": \"y\"}, {\"font\": {\"color\": \"#FFFFFF\"}, \"showarrow\": false, \"text\": \"-0.15\", \"x\": \"Old-age dependency ratio\", \"xref\": \"x\", \"y\": \"Total\", \"yref\": \"y\"}, {\"font\": {\"color\": \"#FFFFFF\"}, \"showarrow\": false, \"text\": \"-0.02\", \"x\": \"Child dependency ratio\", \"xref\": \"x\", \"y\": \"Total\", \"yref\": \"y\"}, {\"font\": {\"color\": \"#FFFFFF\"}, \"showarrow\": false, \"text\": \"0.04\", \"x\": \"percent_under18\", \"xref\": \"x\", \"y\": \"Total\", \"yref\": \"y\"}, {\"font\": {\"color\": \"#FFFFFF\"}, \"showarrow\": false, \"text\": \"-0.18\", \"x\": \"percent_over60\", \"xref\": \"x\", \"y\": \"Total\", \"yref\": \"y\"}, {\"font\": {\"color\": \"#000000\"}, \"showarrow\": false, \"text\": \"0.66\", \"x\": \"hospital_bed_count\", \"xref\": \"x\", \"y\": \"Total\", \"yref\": \"y\"}, {\"font\": {\"color\": \"#000000\"}, \"showarrow\": false, \"text\": \"0.91\", \"x\": \"hospital_count\", \"xref\": \"x\", \"y\": \"Total\", \"yref\": \"y\"}, {\"font\": {\"color\": \"#FFFFFF\"}, \"showarrow\": false, \"text\": \"0.04\", \"x\": \"hospitalbeds_per10000\", \"xref\": \"x\", \"y\": \"Total\", \"yref\": \"y\"}, {\"font\": {\"color\": \"#000000\"}, \"showarrow\": false, \"text\": \"0.48\", \"x\": \"cases\", \"xref\": \"x\", \"y\": \"Total\", \"yref\": \"y\"}, {\"font\": {\"color\": \"#000000\"}, \"showarrow\": false, \"text\": \"0.42\", \"x\": \"deaths\", \"xref\": \"x\", \"y\": \"Total\", \"yref\": \"y\"}, {\"font\": {\"color\": \"#FFFFFF\"}, \"showarrow\": false, \"text\": \"0.14\", \"x\": \"cases_per1000\", \"xref\": \"x\", \"y\": \"Total\", \"yref\": \"y\"}, {\"font\": {\"color\": \"#FFFFFF\"}, \"showarrow\": false, \"text\": \"0.13\", \"x\": \"deaths_per1000\", \"xref\": \"x\", \"y\": \"Total\", \"yref\": \"y\"}, {\"font\": {\"color\": \"#000000\"}, \"showarrow\": false, \"text\": \"1.0\", \"x\": \"Total\", \"xref\": \"x\", \"y\": \"Male\", \"yref\": \"y\"}, {\"font\": {\"color\": \"#000000\"}, \"showarrow\": false, \"text\": \"1.0\", \"x\": \"Male\", \"xref\": \"x\", \"y\": \"Male\", \"yref\": \"y\"}, {\"font\": {\"color\": \"#000000\"}, \"showarrow\": false, \"text\": \"1.0\", \"x\": \"Female\", \"xref\": \"x\", \"y\": \"Male\", \"yref\": \"y\"}, {\"font\": {\"color\": \"#000000\"}, \"showarrow\": false, \"text\": \"0.99\", \"x\": \"Total Under 18 year\", \"xref\": \"x\", \"y\": \"Male\", \"yref\": \"y\"}, {\"font\": {\"color\": \"#000000\"}, \"showarrow\": false, \"text\": \"0.99\", \"x\": \"Male Under 18 year\", \"xref\": \"x\", \"y\": \"Male\", \"yref\": \"y\"}, {\"font\": {\"color\": \"#000000\"}, \"showarrow\": false, \"text\": \"0.99\", \"x\": \"Female Under 18 year\", \"xref\": \"x\", \"y\": \"Male\", \"yref\": \"y\"}, {\"font\": {\"color\": \"#000000\"}, \"showarrow\": false, \"text\": \"0.99\", \"x\": \"Total 60 years and over\", \"xref\": \"x\", \"y\": \"Male\", \"yref\": \"y\"}, {\"font\": {\"color\": \"#000000\"}, \"showarrow\": false, \"text\": \"0.99\", \"x\": \"Male 60 years and over\", \"xref\": \"x\", \"y\": \"Male\", \"yref\": \"y\"}, {\"font\": {\"color\": \"#000000\"}, \"showarrow\": false, \"text\": \"0.98\", \"x\": \"Female 60 years and over\", \"xref\": \"x\", \"y\": \"Male\", \"yref\": \"y\"}, {\"font\": {\"color\": \"#FFFFFF\"}, \"showarrow\": false, \"text\": \"-0.12\", \"x\": \"Median age (years)\", \"xref\": \"x\", \"y\": \"Male\", \"yref\": \"y\"}, {\"font\": {\"color\": \"#FFFFFF\"}, \"showarrow\": false, \"text\": \"-0.08\", \"x\": \"Sex ratio (males per 100 females)\", \"xref\": \"x\", \"y\": \"Male\", \"yref\": \"y\"}, {\"font\": {\"color\": \"#FFFFFF\"}, \"showarrow\": false, \"text\": \"-0.16\", \"x\": \"Age dependency ratio\", \"xref\": \"x\", \"y\": \"Male\", \"yref\": \"y\"}, {\"font\": {\"color\": \"#FFFFFF\"}, \"showarrow\": false, \"text\": \"-0.16\", \"x\": \"Old-age dependency ratio\", \"xref\": \"x\", \"y\": \"Male\", \"yref\": \"y\"}, {\"font\": {\"color\": \"#FFFFFF\"}, \"showarrow\": false, \"text\": \"-0.02\", \"x\": \"Child dependency ratio\", \"xref\": \"x\", \"y\": \"Male\", \"yref\": \"y\"}, {\"font\": {\"color\": \"#FFFFFF\"}, \"showarrow\": false, \"text\": \"0.04\", \"x\": \"percent_under18\", \"xref\": \"x\", \"y\": \"Male\", \"yref\": \"y\"}, {\"font\": {\"color\": \"#FFFFFF\"}, \"showarrow\": false, \"text\": \"-0.18\", \"x\": \"percent_over60\", \"xref\": \"x\", \"y\": \"Male\", \"yref\": \"y\"}, {\"font\": {\"color\": \"#000000\"}, \"showarrow\": false, \"text\": \"0.66\", \"x\": \"hospital_bed_count\", \"xref\": \"x\", \"y\": \"Male\", \"yref\": \"y\"}, {\"font\": {\"color\": \"#000000\"}, \"showarrow\": false, \"text\": \"0.91\", \"x\": \"hospital_count\", \"xref\": \"x\", \"y\": \"Male\", \"yref\": \"y\"}, {\"font\": {\"color\": \"#FFFFFF\"}, \"showarrow\": false, \"text\": \"0.04\", \"x\": \"hospitalbeds_per10000\", \"xref\": \"x\", \"y\": \"Male\", \"yref\": \"y\"}, {\"font\": {\"color\": \"#000000\"}, \"showarrow\": false, \"text\": \"0.48\", \"x\": \"cases\", \"xref\": \"x\", \"y\": \"Male\", \"yref\": \"y\"}, {\"font\": {\"color\": \"#000000\"}, \"showarrow\": false, \"text\": \"0.42\", \"x\": \"deaths\", \"xref\": \"x\", \"y\": \"Male\", \"yref\": \"y\"}, {\"font\": {\"color\": \"#FFFFFF\"}, \"showarrow\": false, \"text\": \"0.14\", \"x\": \"cases_per1000\", \"xref\": \"x\", \"y\": \"Male\", \"yref\": \"y\"}, {\"font\": {\"color\": \"#FFFFFF\"}, \"showarrow\": false, \"text\": \"0.13\", \"x\": \"deaths_per1000\", \"xref\": \"x\", \"y\": \"Male\", \"yref\": \"y\"}, {\"font\": {\"color\": \"#000000\"}, \"showarrow\": false, \"text\": \"1.0\", \"x\": \"Total\", \"xref\": \"x\", \"y\": \"Female\", \"yref\": \"y\"}, {\"font\": {\"color\": \"#000000\"}, \"showarrow\": false, \"text\": \"1.0\", \"x\": \"Male\", \"xref\": \"x\", \"y\": \"Female\", \"yref\": \"y\"}, {\"font\": {\"color\": \"#000000\"}, \"showarrow\": false, \"text\": \"1.0\", \"x\": \"Female\", \"xref\": \"x\", \"y\": \"Female\", \"yref\": \"y\"}, {\"font\": {\"color\": \"#000000\"}, \"showarrow\": false, \"text\": \"0.99\", \"x\": \"Total Under 18 year\", \"xref\": \"x\", \"y\": \"Female\", \"yref\": \"y\"}, {\"font\": {\"color\": \"#000000\"}, \"showarrow\": false, \"text\": \"0.99\", \"x\": \"Male Under 18 year\", \"xref\": \"x\", \"y\": \"Female\", \"yref\": \"y\"}, {\"font\": {\"color\": \"#000000\"}, \"showarrow\": false, \"text\": \"0.99\", \"x\": \"Female Under 18 year\", \"xref\": \"x\", \"y\": \"Female\", \"yref\": \"y\"}, {\"font\": {\"color\": \"#000000\"}, \"showarrow\": false, \"text\": \"0.99\", \"x\": \"Total 60 years and over\", \"xref\": \"x\", \"y\": \"Female\", \"yref\": \"y\"}, {\"font\": {\"color\": \"#000000\"}, \"showarrow\": false, \"text\": \"0.99\", \"x\": \"Male 60 years and over\", \"xref\": \"x\", \"y\": \"Female\", \"yref\": \"y\"}, {\"font\": {\"color\": \"#000000\"}, \"showarrow\": false, \"text\": \"0.99\", \"x\": \"Female 60 years and over\", \"xref\": \"x\", \"y\": \"Female\", \"yref\": \"y\"}, {\"font\": {\"color\": \"#FFFFFF\"}, \"showarrow\": false, \"text\": \"-0.11\", \"x\": \"Median age (years)\", \"xref\": \"x\", \"y\": \"Female\", \"yref\": \"y\"}, {\"font\": {\"color\": \"#FFFFFF\"}, \"showarrow\": false, \"text\": \"-0.09\", \"x\": \"Sex ratio (males per 100 females)\", \"xref\": \"x\", \"y\": \"Female\", \"yref\": \"y\"}, {\"font\": {\"color\": \"#FFFFFF\"}, \"showarrow\": false, \"text\": \"-0.16\", \"x\": \"Age dependency ratio\", \"xref\": \"x\", \"y\": \"Female\", \"yref\": \"y\"}, {\"font\": {\"color\": \"#FFFFFF\"}, \"showarrow\": false, \"text\": \"-0.15\", \"x\": \"Old-age dependency ratio\", \"xref\": \"x\", \"y\": \"Female\", \"yref\": \"y\"}, {\"font\": {\"color\": \"#FFFFFF\"}, \"showarrow\": false, \"text\": \"-0.03\", \"x\": \"Child dependency ratio\", \"xref\": \"x\", \"y\": \"Female\", \"yref\": \"y\"}, {\"font\": {\"color\": \"#FFFFFF\"}, \"showarrow\": false, \"text\": \"0.04\", \"x\": \"percent_under18\", \"xref\": \"x\", \"y\": \"Female\", \"yref\": \"y\"}, {\"font\": {\"color\": \"#FFFFFF\"}, \"showarrow\": false, \"text\": \"-0.18\", \"x\": \"percent_over60\", \"xref\": \"x\", \"y\": \"Female\", \"yref\": \"y\"}, {\"font\": {\"color\": \"#000000\"}, \"showarrow\": false, \"text\": \"0.66\", \"x\": \"hospital_bed_count\", \"xref\": \"x\", \"y\": \"Female\", \"yref\": \"y\"}, {\"font\": {\"color\": \"#000000\"}, \"showarrow\": false, \"text\": \"0.91\", \"x\": \"hospital_count\", \"xref\": \"x\", \"y\": \"Female\", \"yref\": \"y\"}, {\"font\": {\"color\": \"#FFFFFF\"}, \"showarrow\": false, \"text\": \"0.04\", \"x\": \"hospitalbeds_per10000\", \"xref\": \"x\", \"y\": \"Female\", \"yref\": \"y\"}, {\"font\": {\"color\": \"#000000\"}, \"showarrow\": false, \"text\": \"0.49\", \"x\": \"cases\", \"xref\": \"x\", \"y\": \"Female\", \"yref\": \"y\"}, {\"font\": {\"color\": \"#000000\"}, \"showarrow\": false, \"text\": \"0.43\", \"x\": \"deaths\", \"xref\": \"x\", \"y\": \"Female\", \"yref\": \"y\"}, {\"font\": {\"color\": \"#FFFFFF\"}, \"showarrow\": false, \"text\": \"0.14\", \"x\": \"cases_per1000\", \"xref\": \"x\", \"y\": \"Female\", \"yref\": \"y\"}, {\"font\": {\"color\": \"#FFFFFF\"}, \"showarrow\": false, \"text\": \"0.13\", \"x\": \"deaths_per1000\", \"xref\": \"x\", \"y\": \"Female\", \"yref\": \"y\"}, {\"font\": {\"color\": \"#000000\"}, \"showarrow\": false, \"text\": \"0.99\", \"x\": \"Total\", \"xref\": \"x\", \"y\": \"Total Under 18 year\", \"yref\": \"y\"}, {\"font\": {\"color\": \"#000000\"}, \"showarrow\": false, \"text\": \"0.99\", \"x\": \"Male\", \"xref\": \"x\", \"y\": \"Total Under 18 year\", \"yref\": \"y\"}, {\"font\": {\"color\": \"#000000\"}, \"showarrow\": false, \"text\": \"0.99\", \"x\": \"Female\", \"xref\": \"x\", \"y\": \"Total Under 18 year\", \"yref\": \"y\"}, {\"font\": {\"color\": \"#000000\"}, \"showarrow\": false, \"text\": \"1.0\", \"x\": \"Total Under 18 year\", \"xref\": \"x\", \"y\": \"Total Under 18 year\", \"yref\": \"y\"}, {\"font\": {\"color\": \"#000000\"}, \"showarrow\": false, \"text\": \"1.0\", \"x\": \"Male Under 18 year\", \"xref\": \"x\", \"y\": \"Total Under 18 year\", \"yref\": \"y\"}, {\"font\": {\"color\": \"#000000\"}, \"showarrow\": false, \"text\": \"1.0\", \"x\": \"Female Under 18 year\", \"xref\": \"x\", \"y\": \"Total Under 18 year\", \"yref\": \"y\"}, {\"font\": {\"color\": \"#000000\"}, \"showarrow\": false, \"text\": \"0.97\", \"x\": \"Total 60 years and over\", \"xref\": \"x\", \"y\": \"Total Under 18 year\", \"yref\": \"y\"}, {\"font\": {\"color\": \"#000000\"}, \"showarrow\": false, \"text\": \"0.97\", \"x\": \"Male 60 years and over\", \"xref\": \"x\", \"y\": \"Total Under 18 year\", \"yref\": \"y\"}, {\"font\": {\"color\": \"#000000\"}, \"showarrow\": false, \"text\": \"0.97\", \"x\": \"Female 60 years and over\", \"xref\": \"x\", \"y\": \"Total Under 18 year\", \"yref\": \"y\"}, {\"font\": {\"color\": \"#FFFFFF\"}, \"showarrow\": false, \"text\": \"-0.15\", \"x\": \"Median age (years)\", \"xref\": \"x\", \"y\": \"Total Under 18 year\", \"yref\": \"y\"}, {\"font\": {\"color\": \"#FFFFFF\"}, \"showarrow\": false, \"text\": \"-0.07\", \"x\": \"Sex ratio (males per 100 females)\", \"xref\": \"x\", \"y\": \"Total Under 18 year\", \"yref\": \"y\"}, {\"font\": {\"color\": \"#FFFFFF\"}, \"showarrow\": false, \"text\": \"-0.16\", \"x\": \"Age dependency ratio\", \"xref\": \"x\", \"y\": \"Total Under 18 year\", \"yref\": \"y\"}, {\"font\": {\"color\": \"#FFFFFF\"}, \"showarrow\": false, \"text\": \"-0.18\", \"x\": \"Old-age dependency ratio\", \"xref\": \"x\", \"y\": \"Total Under 18 year\", \"yref\": \"y\"}, {\"font\": {\"color\": \"#FFFFFF\"}, \"showarrow\": false, \"text\": \"0.04\", \"x\": \"Child dependency ratio\", \"xref\": \"x\", \"y\": \"Total Under 18 year\", \"yref\": \"y\"}, {\"font\": {\"color\": \"#FFFFFF\"}, \"showarrow\": false, \"text\": \"0.11\", \"x\": \"percent_under18\", \"xref\": \"x\", \"y\": \"Total Under 18 year\", \"yref\": \"y\"}, {\"font\": {\"color\": \"#FFFFFF\"}, \"showarrow\": false, \"text\": \"-0.22\", \"x\": \"percent_over60\", \"xref\": \"x\", \"y\": \"Total Under 18 year\", \"yref\": \"y\"}, {\"font\": {\"color\": \"#000000\"}, \"showarrow\": false, \"text\": \"0.64\", \"x\": \"hospital_bed_count\", \"xref\": \"x\", \"y\": \"Total Under 18 year\", \"yref\": \"y\"}, {\"font\": {\"color\": \"#000000\"}, \"showarrow\": false, \"text\": \"0.91\", \"x\": \"hospital_count\", \"xref\": \"x\", \"y\": \"Total Under 18 year\", \"yref\": \"y\"}, {\"font\": {\"color\": \"#FFFFFF\"}, \"showarrow\": false, \"text\": \"0.04\", \"x\": \"hospitalbeds_per10000\", \"xref\": \"x\", \"y\": \"Total Under 18 year\", \"yref\": \"y\"}, {\"font\": {\"color\": \"#000000\"}, \"showarrow\": false, \"text\": \"0.46\", \"x\": \"cases\", \"xref\": \"x\", \"y\": \"Total Under 18 year\", \"yref\": \"y\"}, {\"font\": {\"color\": \"#000000\"}, \"showarrow\": false, \"text\": \"0.4\", \"x\": \"deaths\", \"xref\": \"x\", \"y\": \"Total Under 18 year\", \"yref\": \"y\"}, {\"font\": {\"color\": \"#FFFFFF\"}, \"showarrow\": false, \"text\": \"0.13\", \"x\": \"cases_per1000\", \"xref\": \"x\", \"y\": \"Total Under 18 year\", \"yref\": \"y\"}, {\"font\": {\"color\": \"#FFFFFF\"}, \"showarrow\": false, \"text\": \"0.12\", \"x\": \"deaths_per1000\", \"xref\": \"x\", \"y\": \"Total Under 18 year\", \"yref\": \"y\"}, {\"font\": {\"color\": \"#000000\"}, \"showarrow\": false, \"text\": \"0.99\", \"x\": \"Total\", \"xref\": \"x\", \"y\": \"Male Under 18 year\", \"yref\": \"y\"}, {\"font\": {\"color\": \"#000000\"}, \"showarrow\": false, \"text\": \"0.99\", \"x\": \"Male\", \"xref\": \"x\", \"y\": \"Male Under 18 year\", \"yref\": \"y\"}, {\"font\": {\"color\": \"#000000\"}, \"showarrow\": false, \"text\": \"0.99\", \"x\": \"Female\", \"xref\": \"x\", \"y\": \"Male Under 18 year\", \"yref\": \"y\"}, {\"font\": {\"color\": \"#000000\"}, \"showarrow\": false, \"text\": \"1.0\", \"x\": \"Total Under 18 year\", \"xref\": \"x\", \"y\": \"Male Under 18 year\", \"yref\": \"y\"}, {\"font\": {\"color\": \"#000000\"}, \"showarrow\": false, \"text\": \"1.0\", \"x\": \"Male Under 18 year\", \"xref\": \"x\", \"y\": \"Male Under 18 year\", \"yref\": \"y\"}, {\"font\": {\"color\": \"#000000\"}, \"showarrow\": false, \"text\": \"1.0\", \"x\": \"Female Under 18 year\", \"xref\": \"x\", \"y\": \"Male Under 18 year\", \"yref\": \"y\"}, {\"font\": {\"color\": \"#000000\"}, \"showarrow\": false, \"text\": \"0.97\", \"x\": \"Total 60 years and over\", \"xref\": \"x\", \"y\": \"Male Under 18 year\", \"yref\": \"y\"}, {\"font\": {\"color\": \"#000000\"}, \"showarrow\": false, \"text\": \"0.97\", \"x\": \"Male 60 years and over\", \"xref\": \"x\", \"y\": \"Male Under 18 year\", \"yref\": \"y\"}, {\"font\": {\"color\": \"#000000\"}, \"showarrow\": false, \"text\": \"0.97\", \"x\": \"Female 60 years and over\", \"xref\": \"x\", \"y\": \"Male Under 18 year\", \"yref\": \"y\"}, {\"font\": {\"color\": \"#FFFFFF\"}, \"showarrow\": false, \"text\": \"-0.15\", \"x\": \"Median age (years)\", \"xref\": \"x\", \"y\": \"Male Under 18 year\", \"yref\": \"y\"}, {\"font\": {\"color\": \"#FFFFFF\"}, \"showarrow\": false, \"text\": \"-0.07\", \"x\": \"Sex ratio (males per 100 females)\", \"xref\": \"x\", \"y\": \"Male Under 18 year\", \"yref\": \"y\"}, {\"font\": {\"color\": \"#FFFFFF\"}, \"showarrow\": false, \"text\": \"-0.16\", \"x\": \"Age dependency ratio\", \"xref\": \"x\", \"y\": \"Male Under 18 year\", \"yref\": \"y\"}, {\"font\": {\"color\": \"#FFFFFF\"}, \"showarrow\": false, \"text\": \"-0.18\", \"x\": \"Old-age dependency ratio\", \"xref\": \"x\", \"y\": \"Male Under 18 year\", \"yref\": \"y\"}, {\"font\": {\"color\": \"#FFFFFF\"}, \"showarrow\": false, \"text\": \"0.04\", \"x\": \"Child dependency ratio\", \"xref\": \"x\", \"y\": \"Male Under 18 year\", \"yref\": \"y\"}, {\"font\": {\"color\": \"#FFFFFF\"}, \"showarrow\": false, \"text\": \"0.11\", \"x\": \"percent_under18\", \"xref\": \"x\", \"y\": \"Male Under 18 year\", \"yref\": \"y\"}, {\"font\": {\"color\": \"#FFFFFF\"}, \"showarrow\": false, \"text\": \"-0.22\", \"x\": \"percent_over60\", \"xref\": \"x\", \"y\": \"Male Under 18 year\", \"yref\": \"y\"}, {\"font\": {\"color\": \"#000000\"}, \"showarrow\": false, \"text\": \"0.64\", \"x\": \"hospital_bed_count\", \"xref\": \"x\", \"y\": \"Male Under 18 year\", \"yref\": \"y\"}, {\"font\": {\"color\": \"#000000\"}, \"showarrow\": false, \"text\": \"0.91\", \"x\": \"hospital_count\", \"xref\": \"x\", \"y\": \"Male Under 18 year\", \"yref\": \"y\"}, {\"font\": {\"color\": \"#FFFFFF\"}, \"showarrow\": false, \"text\": \"0.04\", \"x\": \"hospitalbeds_per10000\", \"xref\": \"x\", \"y\": \"Male Under 18 year\", \"yref\": \"y\"}, {\"font\": {\"color\": \"#000000\"}, \"showarrow\": false, \"text\": \"0.46\", \"x\": \"cases\", \"xref\": \"x\", \"y\": \"Male Under 18 year\", \"yref\": \"y\"}, {\"font\": {\"color\": \"#000000\"}, \"showarrow\": false, \"text\": \"0.4\", \"x\": \"deaths\", \"xref\": \"x\", \"y\": \"Male Under 18 year\", \"yref\": \"y\"}, {\"font\": {\"color\": \"#FFFFFF\"}, \"showarrow\": false, \"text\": \"0.13\", \"x\": \"cases_per1000\", \"xref\": \"x\", \"y\": \"Male Under 18 year\", \"yref\": \"y\"}, {\"font\": {\"color\": \"#FFFFFF\"}, \"showarrow\": false, \"text\": \"0.12\", \"x\": \"deaths_per1000\", \"xref\": \"x\", \"y\": \"Male Under 18 year\", \"yref\": \"y\"}, {\"font\": {\"color\": \"#000000\"}, \"showarrow\": false, \"text\": \"0.99\", \"x\": \"Total\", \"xref\": \"x\", \"y\": \"Female Under 18 year\", \"yref\": \"y\"}, {\"font\": {\"color\": \"#000000\"}, \"showarrow\": false, \"text\": \"0.99\", \"x\": \"Male\", \"xref\": \"x\", \"y\": \"Female Under 18 year\", \"yref\": \"y\"}, {\"font\": {\"color\": \"#000000\"}, \"showarrow\": false, \"text\": \"0.99\", \"x\": \"Female\", \"xref\": \"x\", \"y\": \"Female Under 18 year\", \"yref\": \"y\"}, {\"font\": {\"color\": \"#000000\"}, \"showarrow\": false, \"text\": \"1.0\", \"x\": \"Total Under 18 year\", \"xref\": \"x\", \"y\": \"Female Under 18 year\", \"yref\": \"y\"}, {\"font\": {\"color\": \"#000000\"}, \"showarrow\": false, \"text\": \"1.0\", \"x\": \"Male Under 18 year\", \"xref\": \"x\", \"y\": \"Female Under 18 year\", \"yref\": \"y\"}, {\"font\": {\"color\": \"#000000\"}, \"showarrow\": false, \"text\": \"1.0\", \"x\": \"Female Under 18 year\", \"xref\": \"x\", \"y\": \"Female Under 18 year\", \"yref\": \"y\"}, {\"font\": {\"color\": \"#000000\"}, \"showarrow\": false, \"text\": \"0.97\", \"x\": \"Total 60 years and over\", \"xref\": \"x\", \"y\": \"Female Under 18 year\", \"yref\": \"y\"}, {\"font\": {\"color\": \"#000000\"}, \"showarrow\": false, \"text\": \"0.97\", \"x\": \"Male 60 years and over\", \"xref\": \"x\", \"y\": \"Female Under 18 year\", \"yref\": \"y\"}, {\"font\": {\"color\": \"#000000\"}, \"showarrow\": false, \"text\": \"0.97\", \"x\": \"Female 60 years and over\", \"xref\": \"x\", \"y\": \"Female Under 18 year\", \"yref\": \"y\"}, {\"font\": {\"color\": \"#FFFFFF\"}, \"showarrow\": false, \"text\": \"-0.15\", \"x\": \"Median age (years)\", \"xref\": \"x\", \"y\": \"Female Under 18 year\", \"yref\": \"y\"}, {\"font\": {\"color\": \"#FFFFFF\"}, \"showarrow\": false, \"text\": \"-0.07\", \"x\": \"Sex ratio (males per 100 females)\", \"xref\": \"x\", \"y\": \"Female Under 18 year\", \"yref\": \"y\"}, {\"font\": {\"color\": \"#FFFFFF\"}, \"showarrow\": false, \"text\": \"-0.16\", \"x\": \"Age dependency ratio\", \"xref\": \"x\", \"y\": \"Female Under 18 year\", \"yref\": \"y\"}, {\"font\": {\"color\": \"#FFFFFF\"}, \"showarrow\": false, \"text\": \"-0.18\", \"x\": \"Old-age dependency ratio\", \"xref\": \"x\", \"y\": \"Female Under 18 year\", \"yref\": \"y\"}, {\"font\": {\"color\": \"#FFFFFF\"}, \"showarrow\": false, \"text\": \"0.04\", \"x\": \"Child dependency ratio\", \"xref\": \"x\", \"y\": \"Female Under 18 year\", \"yref\": \"y\"}, {\"font\": {\"color\": \"#FFFFFF\"}, \"showarrow\": false, \"text\": \"0.11\", \"x\": \"percent_under18\", \"xref\": \"x\", \"y\": \"Female Under 18 year\", \"yref\": \"y\"}, {\"font\": {\"color\": \"#FFFFFF\"}, \"showarrow\": false, \"text\": \"-0.22\", \"x\": \"percent_over60\", \"xref\": \"x\", \"y\": \"Female Under 18 year\", \"yref\": \"y\"}, {\"font\": {\"color\": \"#000000\"}, \"showarrow\": false, \"text\": \"0.64\", \"x\": \"hospital_bed_count\", \"xref\": \"x\", \"y\": \"Female Under 18 year\", \"yref\": \"y\"}, {\"font\": {\"color\": \"#000000\"}, \"showarrow\": false, \"text\": \"0.91\", \"x\": \"hospital_count\", \"xref\": \"x\", \"y\": \"Female Under 18 year\", \"yref\": \"y\"}, {\"font\": {\"color\": \"#FFFFFF\"}, \"showarrow\": false, \"text\": \"0.04\", \"x\": \"hospitalbeds_per10000\", \"xref\": \"x\", \"y\": \"Female Under 18 year\", \"yref\": \"y\"}, {\"font\": {\"color\": \"#000000\"}, \"showarrow\": false, \"text\": \"0.46\", \"x\": \"cases\", \"xref\": \"x\", \"y\": \"Female Under 18 year\", \"yref\": \"y\"}, {\"font\": {\"color\": \"#000000\"}, \"showarrow\": false, \"text\": \"0.4\", \"x\": \"deaths\", \"xref\": \"x\", \"y\": \"Female Under 18 year\", \"yref\": \"y\"}, {\"font\": {\"color\": \"#FFFFFF\"}, \"showarrow\": false, \"text\": \"0.13\", \"x\": \"cases_per1000\", \"xref\": \"x\", \"y\": \"Female Under 18 year\", \"yref\": \"y\"}, {\"font\": {\"color\": \"#FFFFFF\"}, \"showarrow\": false, \"text\": \"0.12\", \"x\": \"deaths_per1000\", \"xref\": \"x\", \"y\": \"Female Under 18 year\", \"yref\": \"y\"}, {\"font\": {\"color\": \"#000000\"}, \"showarrow\": false, \"text\": \"0.99\", \"x\": \"Total\", \"xref\": \"x\", \"y\": \"Total 60 years and over\", \"yref\": \"y\"}, {\"font\": {\"color\": \"#000000\"}, \"showarrow\": false, \"text\": \"0.99\", \"x\": \"Male\", \"xref\": \"x\", \"y\": \"Total 60 years and over\", \"yref\": \"y\"}, {\"font\": {\"color\": \"#000000\"}, \"showarrow\": false, \"text\": \"0.99\", \"x\": \"Female\", \"xref\": \"x\", \"y\": \"Total 60 years and over\", \"yref\": \"y\"}, {\"font\": {\"color\": \"#000000\"}, \"showarrow\": false, \"text\": \"0.97\", \"x\": \"Total Under 18 year\", \"xref\": \"x\", \"y\": \"Total 60 years and over\", \"yref\": \"y\"}, {\"font\": {\"color\": \"#000000\"}, \"showarrow\": false, \"text\": \"0.97\", \"x\": \"Male Under 18 year\", \"xref\": \"x\", \"y\": \"Total 60 years and over\", \"yref\": \"y\"}, {\"font\": {\"color\": \"#000000\"}, \"showarrow\": false, \"text\": \"0.97\", \"x\": \"Female Under 18 year\", \"xref\": \"x\", \"y\": \"Total 60 years and over\", \"yref\": \"y\"}, {\"font\": {\"color\": \"#000000\"}, \"showarrow\": false, \"text\": \"1.0\", \"x\": \"Total 60 years and over\", \"xref\": \"x\", \"y\": \"Total 60 years and over\", \"yref\": \"y\"}, {\"font\": {\"color\": \"#000000\"}, \"showarrow\": false, \"text\": \"1.0\", \"x\": \"Male 60 years and over\", \"xref\": \"x\", \"y\": \"Total 60 years and over\", \"yref\": \"y\"}, {\"font\": {\"color\": \"#000000\"}, \"showarrow\": false, \"text\": \"1.0\", \"x\": \"Female 60 years and over\", \"xref\": \"x\", \"y\": \"Total 60 years and over\", \"yref\": \"y\"}, {\"font\": {\"color\": \"#FFFFFF\"}, \"showarrow\": false, \"text\": \"-0.03\", \"x\": \"Median age (years)\", \"xref\": \"x\", \"y\": \"Total 60 years and over\", \"yref\": \"y\"}, {\"font\": {\"color\": \"#FFFFFF\"}, \"showarrow\": false, \"text\": \"-0.11\", \"x\": \"Sex ratio (males per 100 females)\", \"xref\": \"x\", \"y\": \"Total 60 years and over\", \"yref\": \"y\"}, {\"font\": {\"color\": \"#FFFFFF\"}, \"showarrow\": false, \"text\": \"-0.1\", \"x\": \"Age dependency ratio\", \"xref\": \"x\", \"y\": \"Total 60 years and over\", \"yref\": \"y\"}, {\"font\": {\"color\": \"#FFFFFF\"}, \"showarrow\": false, \"text\": \"-0.06\", \"x\": \"Old-age dependency ratio\", \"xref\": \"x\", \"y\": \"Total 60 years and over\", \"yref\": \"y\"}, {\"font\": {\"color\": \"#FFFFFF\"}, \"showarrow\": false, \"text\": \"-0.07\", \"x\": \"Child dependency ratio\", \"xref\": \"x\", \"y\": \"Total 60 years and over\", \"yref\": \"y\"}, {\"font\": {\"color\": \"#FFFFFF\"}, \"showarrow\": false, \"text\": \"-0.03\", \"x\": \"percent_under18\", \"xref\": \"x\", \"y\": \"Total 60 years and over\", \"yref\": \"y\"}, {\"font\": {\"color\": \"#FFFFFF\"}, \"showarrow\": false, \"text\": \"-0.08\", \"x\": \"percent_over60\", \"xref\": \"x\", \"y\": \"Total 60 years and over\", \"yref\": \"y\"}, {\"font\": {\"color\": \"#000000\"}, \"showarrow\": false, \"text\": \"0.65\", \"x\": \"hospital_bed_count\", \"xref\": \"x\", \"y\": \"Total 60 years and over\", \"yref\": \"y\"}, {\"font\": {\"color\": \"#000000\"}, \"showarrow\": false, \"text\": \"0.89\", \"x\": \"hospital_count\", \"xref\": \"x\", \"y\": \"Total 60 years and over\", \"yref\": \"y\"}, {\"font\": {\"color\": \"#FFFFFF\"}, \"showarrow\": false, \"text\": \"0.05\", \"x\": \"hospitalbeds_per10000\", \"xref\": \"x\", \"y\": \"Total 60 years and over\", \"yref\": \"y\"}, {\"font\": {\"color\": \"#000000\"}, \"showarrow\": false, \"text\": \"0.51\", \"x\": \"cases\", \"xref\": \"x\", \"y\": \"Total 60 years and over\", \"yref\": \"y\"}, {\"font\": {\"color\": \"#000000\"}, \"showarrow\": false, \"text\": \"0.46\", \"x\": \"deaths\", \"xref\": \"x\", \"y\": \"Total 60 years and over\", \"yref\": \"y\"}, {\"font\": {\"color\": \"#FFFFFF\"}, \"showarrow\": false, \"text\": \"0.16\", \"x\": \"cases_per1000\", \"xref\": \"x\", \"y\": \"Total 60 years and over\", \"yref\": \"y\"}, {\"font\": {\"color\": \"#FFFFFF\"}, \"showarrow\": false, \"text\": \"0.15\", \"x\": \"deaths_per1000\", \"xref\": \"x\", \"y\": \"Total 60 years and over\", \"yref\": \"y\"}, {\"font\": {\"color\": \"#000000\"}, \"showarrow\": false, \"text\": \"0.99\", \"x\": \"Total\", \"xref\": \"x\", \"y\": \"Male 60 years and over\", \"yref\": \"y\"}, {\"font\": {\"color\": \"#000000\"}, \"showarrow\": false, \"text\": \"0.99\", \"x\": \"Male\", \"xref\": \"x\", \"y\": \"Male 60 years and over\", \"yref\": \"y\"}, {\"font\": {\"color\": \"#000000\"}, \"showarrow\": false, \"text\": \"0.99\", \"x\": \"Female\", \"xref\": \"x\", \"y\": \"Male 60 years and over\", \"yref\": \"y\"}, {\"font\": {\"color\": \"#000000\"}, \"showarrow\": false, \"text\": \"0.97\", \"x\": \"Total Under 18 year\", \"xref\": \"x\", \"y\": \"Male 60 years and over\", \"yref\": \"y\"}, {\"font\": {\"color\": \"#000000\"}, \"showarrow\": false, \"text\": \"0.97\", \"x\": \"Male Under 18 year\", \"xref\": \"x\", \"y\": \"Male 60 years and over\", \"yref\": \"y\"}, {\"font\": {\"color\": \"#000000\"}, \"showarrow\": false, \"text\": \"0.97\", \"x\": \"Female Under 18 year\", \"xref\": \"x\", \"y\": \"Male 60 years and over\", \"yref\": \"y\"}, {\"font\": {\"color\": \"#000000\"}, \"showarrow\": false, \"text\": \"1.0\", \"x\": \"Total 60 years and over\", \"xref\": \"x\", \"y\": \"Male 60 years and over\", \"yref\": \"y\"}, {\"font\": {\"color\": \"#000000\"}, \"showarrow\": false, \"text\": \"1.0\", \"x\": \"Male 60 years and over\", \"xref\": \"x\", \"y\": \"Male 60 years and over\", \"yref\": \"y\"}, {\"font\": {\"color\": \"#000000\"}, \"showarrow\": false, \"text\": \"1.0\", \"x\": \"Female 60 years and over\", \"xref\": \"x\", \"y\": \"Male 60 years and over\", \"yref\": \"y\"}, {\"font\": {\"color\": \"#FFFFFF\"}, \"showarrow\": false, \"text\": \"-0.02\", \"x\": \"Median age (years)\", \"xref\": \"x\", \"y\": \"Male 60 years and over\", \"yref\": \"y\"}, {\"font\": {\"color\": \"#FFFFFF\"}, \"showarrow\": false, \"text\": \"-0.1\", \"x\": \"Sex ratio (males per 100 females)\", \"xref\": \"x\", \"y\": \"Male 60 years and over\", \"yref\": \"y\"}, {\"font\": {\"color\": \"#FFFFFF\"}, \"showarrow\": false, \"text\": \"-0.1\", \"x\": \"Age dependency ratio\", \"xref\": \"x\", \"y\": \"Male 60 years and over\", \"yref\": \"y\"}, {\"font\": {\"color\": \"#FFFFFF\"}, \"showarrow\": false, \"text\": \"-0.06\", \"x\": \"Old-age dependency ratio\", \"xref\": \"x\", \"y\": \"Male 60 years and over\", \"yref\": \"y\"}, {\"font\": {\"color\": \"#FFFFFF\"}, \"showarrow\": false, \"text\": \"-0.07\", \"x\": \"Child dependency ratio\", \"xref\": \"x\", \"y\": \"Male 60 years and over\", \"yref\": \"y\"}, {\"font\": {\"color\": \"#FFFFFF\"}, \"showarrow\": false, \"text\": \"-0.03\", \"x\": \"percent_under18\", \"xref\": \"x\", \"y\": \"Male 60 years and over\", \"yref\": \"y\"}, {\"font\": {\"color\": \"#FFFFFF\"}, \"showarrow\": false, \"text\": \"-0.07\", \"x\": \"percent_over60\", \"xref\": \"x\", \"y\": \"Male 60 years and over\", \"yref\": \"y\"}, {\"font\": {\"color\": \"#000000\"}, \"showarrow\": false, \"text\": \"0.65\", \"x\": \"hospital_bed_count\", \"xref\": \"x\", \"y\": \"Male 60 years and over\", \"yref\": \"y\"}, {\"font\": {\"color\": \"#000000\"}, \"showarrow\": false, \"text\": \"0.89\", \"x\": \"hospital_count\", \"xref\": \"x\", \"y\": \"Male 60 years and over\", \"yref\": \"y\"}, {\"font\": {\"color\": \"#FFFFFF\"}, \"showarrow\": false, \"text\": \"0.05\", \"x\": \"hospitalbeds_per10000\", \"xref\": \"x\", \"y\": \"Male 60 years and over\", \"yref\": \"y\"}, {\"font\": {\"color\": \"#000000\"}, \"showarrow\": false, \"text\": \"0.5\", \"x\": \"cases\", \"xref\": \"x\", \"y\": \"Male 60 years and over\", \"yref\": \"y\"}, {\"font\": {\"color\": \"#000000\"}, \"showarrow\": false, \"text\": \"0.45\", \"x\": \"deaths\", \"xref\": \"x\", \"y\": \"Male 60 years and over\", \"yref\": \"y\"}, {\"font\": {\"color\": \"#FFFFFF\"}, \"showarrow\": false, \"text\": \"0.16\", \"x\": \"cases_per1000\", \"xref\": \"x\", \"y\": \"Male 60 years and over\", \"yref\": \"y\"}, {\"font\": {\"color\": \"#FFFFFF\"}, \"showarrow\": false, \"text\": \"0.15\", \"x\": \"deaths_per1000\", \"xref\": \"x\", \"y\": \"Male 60 years and over\", \"yref\": \"y\"}, {\"font\": {\"color\": \"#000000\"}, \"showarrow\": false, \"text\": \"0.99\", \"x\": \"Total\", \"xref\": \"x\", \"y\": \"Female 60 years and over\", \"yref\": \"y\"}, {\"font\": {\"color\": \"#000000\"}, \"showarrow\": false, \"text\": \"0.98\", \"x\": \"Male\", \"xref\": \"x\", \"y\": \"Female 60 years and over\", \"yref\": \"y\"}, {\"font\": {\"color\": \"#000000\"}, \"showarrow\": false, \"text\": \"0.99\", \"x\": \"Female\", \"xref\": \"x\", \"y\": \"Female 60 years and over\", \"yref\": \"y\"}, {\"font\": {\"color\": \"#000000\"}, \"showarrow\": false, \"text\": \"0.97\", \"x\": \"Total Under 18 year\", \"xref\": \"x\", \"y\": \"Female 60 years and over\", \"yref\": \"y\"}, {\"font\": {\"color\": \"#000000\"}, \"showarrow\": false, \"text\": \"0.97\", \"x\": \"Male Under 18 year\", \"xref\": \"x\", \"y\": \"Female 60 years and over\", \"yref\": \"y\"}, {\"font\": {\"color\": \"#000000\"}, \"showarrow\": false, \"text\": \"0.97\", \"x\": \"Female Under 18 year\", \"xref\": \"x\", \"y\": \"Female 60 years and over\", \"yref\": \"y\"}, {\"font\": {\"color\": \"#000000\"}, \"showarrow\": false, \"text\": \"1.0\", \"x\": \"Total 60 years and over\", \"xref\": \"x\", \"y\": \"Female 60 years and over\", \"yref\": \"y\"}, {\"font\": {\"color\": \"#000000\"}, \"showarrow\": false, \"text\": \"1.0\", \"x\": \"Male 60 years and over\", \"xref\": \"x\", \"y\": \"Female 60 years and over\", \"yref\": \"y\"}, {\"font\": {\"color\": \"#000000\"}, \"showarrow\": false, \"text\": \"1.0\", \"x\": \"Female 60 years and over\", \"xref\": \"x\", \"y\": \"Female 60 years and over\", \"yref\": \"y\"}, {\"font\": {\"color\": \"#FFFFFF\"}, \"showarrow\": false, \"text\": \"-0.03\", \"x\": \"Median age (years)\", \"xref\": \"x\", \"y\": \"Female 60 years and over\", \"yref\": \"y\"}, {\"font\": {\"color\": \"#FFFFFF\"}, \"showarrow\": false, \"text\": \"-0.12\", \"x\": \"Sex ratio (males per 100 females)\", \"xref\": \"x\", \"y\": \"Female 60 years and over\", \"yref\": \"y\"}, {\"font\": {\"color\": \"#FFFFFF\"}, \"showarrow\": false, \"text\": \"-0.11\", \"x\": \"Age dependency ratio\", \"xref\": \"x\", \"y\": \"Female 60 years and over\", \"yref\": \"y\"}, {\"font\": {\"color\": \"#FFFFFF\"}, \"showarrow\": false, \"text\": \"-0.07\", \"x\": \"Old-age dependency ratio\", \"xref\": \"x\", \"y\": \"Female 60 years and over\", \"yref\": \"y\"}, {\"font\": {\"color\": \"#FFFFFF\"}, \"showarrow\": false, \"text\": \"-0.07\", \"x\": \"Child dependency ratio\", \"xref\": \"x\", \"y\": \"Female 60 years and over\", \"yref\": \"y\"}, {\"font\": {\"color\": \"#FFFFFF\"}, \"showarrow\": false, \"text\": \"-0.03\", \"x\": \"percent_under18\", \"xref\": \"x\", \"y\": \"Female 60 years and over\", \"yref\": \"y\"}, {\"font\": {\"color\": \"#FFFFFF\"}, \"showarrow\": false, \"text\": \"-0.08\", \"x\": \"percent_over60\", \"xref\": \"x\", \"y\": \"Female 60 years and over\", \"yref\": \"y\"}, {\"font\": {\"color\": \"#000000\"}, \"showarrow\": false, \"text\": \"0.66\", \"x\": \"hospital_bed_count\", \"xref\": \"x\", \"y\": \"Female 60 years and over\", \"yref\": \"y\"}, {\"font\": {\"color\": \"#000000\"}, \"showarrow\": false, \"text\": \"0.89\", \"x\": \"hospital_count\", \"xref\": \"x\", \"y\": \"Female 60 years and over\", \"yref\": \"y\"}, {\"font\": {\"color\": \"#FFFFFF\"}, \"showarrow\": false, \"text\": \"0.05\", \"x\": \"hospitalbeds_per10000\", \"xref\": \"x\", \"y\": \"Female 60 years and over\", \"yref\": \"y\"}, {\"font\": {\"color\": \"#000000\"}, \"showarrow\": false, \"text\": \"0.51\", \"x\": \"cases\", \"xref\": \"x\", \"y\": \"Female 60 years and over\", \"yref\": \"y\"}, {\"font\": {\"color\": \"#000000\"}, \"showarrow\": false, \"text\": \"0.46\", \"x\": \"deaths\", \"xref\": \"x\", \"y\": \"Female 60 years and over\", \"yref\": \"y\"}, {\"font\": {\"color\": \"#FFFFFF\"}, \"showarrow\": false, \"text\": \"0.17\", \"x\": \"cases_per1000\", \"xref\": \"x\", \"y\": \"Female 60 years and over\", \"yref\": \"y\"}, {\"font\": {\"color\": \"#FFFFFF\"}, \"showarrow\": false, \"text\": \"0.16\", \"x\": \"deaths_per1000\", \"xref\": \"x\", \"y\": \"Female 60 years and over\", \"yref\": \"y\"}, {\"font\": {\"color\": \"#FFFFFF\"}, \"showarrow\": false, \"text\": \"-0.12\", \"x\": \"Total\", \"xref\": \"x\", \"y\": \"Median age (years)\", \"yref\": \"y\"}, {\"font\": {\"color\": \"#FFFFFF\"}, \"showarrow\": false, \"text\": \"-0.12\", \"x\": \"Male\", \"xref\": \"x\", \"y\": \"Median age (years)\", \"yref\": \"y\"}, {\"font\": {\"color\": \"#FFFFFF\"}, \"showarrow\": false, \"text\": \"-0.11\", \"x\": \"Female\", \"xref\": \"x\", \"y\": \"Median age (years)\", \"yref\": \"y\"}, {\"font\": {\"color\": \"#FFFFFF\"}, \"showarrow\": false, \"text\": \"-0.15\", \"x\": \"Total Under 18 year\", \"xref\": \"x\", \"y\": \"Median age (years)\", \"yref\": \"y\"}, {\"font\": {\"color\": \"#FFFFFF\"}, \"showarrow\": false, \"text\": \"-0.15\", \"x\": \"Male Under 18 year\", \"xref\": \"x\", \"y\": \"Median age (years)\", \"yref\": \"y\"}, {\"font\": {\"color\": \"#FFFFFF\"}, \"showarrow\": false, \"text\": \"-0.15\", \"x\": \"Female Under 18 year\", \"xref\": \"x\", \"y\": \"Median age (years)\", \"yref\": \"y\"}, {\"font\": {\"color\": \"#FFFFFF\"}, \"showarrow\": false, \"text\": \"-0.03\", \"x\": \"Total 60 years and over\", \"xref\": \"x\", \"y\": \"Median age (years)\", \"yref\": \"y\"}, {\"font\": {\"color\": \"#FFFFFF\"}, \"showarrow\": false, \"text\": \"-0.02\", \"x\": \"Male 60 years and over\", \"xref\": \"x\", \"y\": \"Median age (years)\", \"yref\": \"y\"}, {\"font\": {\"color\": \"#FFFFFF\"}, \"showarrow\": false, \"text\": \"-0.03\", \"x\": \"Female 60 years and over\", \"xref\": \"x\", \"y\": \"Median age (years)\", \"yref\": \"y\"}, {\"font\": {\"color\": \"#000000\"}, \"showarrow\": false, \"text\": \"1.0\", \"x\": \"Median age (years)\", \"xref\": \"x\", \"y\": \"Median age (years)\", \"yref\": \"y\"}, {\"font\": {\"color\": \"#FFFFFF\"}, \"showarrow\": false, \"text\": \"-0.15\", \"x\": \"Sex ratio (males per 100 females)\", \"xref\": \"x\", \"y\": \"Median age (years)\", \"yref\": \"y\"}, {\"font\": {\"color\": \"#000000\"}, \"showarrow\": false, \"text\": \"0.66\", \"x\": \"Age dependency ratio\", \"xref\": \"x\", \"y\": \"Median age (years)\", \"yref\": \"y\"}, {\"font\": {\"color\": \"#000000\"}, \"showarrow\": false, \"text\": \"0.85\", \"x\": \"Old-age dependency ratio\", \"xref\": \"x\", \"y\": \"Median age (years)\", \"yref\": \"y\"}, {\"font\": {\"color\": \"#FFFFFF\"}, \"showarrow\": false, \"text\": \"-0.3\", \"x\": \"Child dependency ratio\", \"xref\": \"x\", \"y\": \"Median age (years)\", \"yref\": \"y\"}, {\"font\": {\"color\": \"#FFFFFF\"}, \"showarrow\": false, \"text\": \"-0.54\", \"x\": \"percent_under18\", \"xref\": \"x\", \"y\": \"Median age (years)\", \"yref\": \"y\"}, {\"font\": {\"color\": \"#000000\"}, \"showarrow\": false, \"text\": \"0.92\", \"x\": \"percent_over60\", \"xref\": \"x\", \"y\": \"Median age (years)\", \"yref\": \"y\"}, {\"font\": {\"color\": \"#FFFFFF\"}, \"showarrow\": false, \"text\": \"-0.03\", \"x\": \"hospital_bed_count\", \"xref\": \"x\", \"y\": \"Median age (years)\", \"yref\": \"y\"}, {\"font\": {\"color\": \"#FFFFFF\"}, \"showarrow\": false, \"text\": \"-0.14\", \"x\": \"hospital_count\", \"xref\": \"x\", \"y\": \"Median age (years)\", \"yref\": \"y\"}, {\"font\": {\"color\": \"#FFFFFF\"}, \"showarrow\": false, \"text\": \"0.02\", \"x\": \"hospitalbeds_per10000\", \"xref\": \"x\", \"y\": \"Median age (years)\", \"yref\": \"y\"}, {\"font\": {\"color\": \"#FFFFFF\"}, \"showarrow\": false, \"text\": \"-0.01\", \"x\": \"cases\", \"xref\": \"x\", \"y\": \"Median age (years)\", \"yref\": \"y\"}, {\"font\": {\"color\": \"#FFFFFF\"}, \"showarrow\": false, \"text\": \"0.01\", \"x\": \"deaths\", \"xref\": \"x\", \"y\": \"Median age (years)\", \"yref\": \"y\"}, {\"font\": {\"color\": \"#FFFFFF\"}, \"showarrow\": false, \"text\": \"0.01\", \"x\": \"cases_per1000\", \"xref\": \"x\", \"y\": \"Median age (years)\", \"yref\": \"y\"}, {\"font\": {\"color\": \"#FFFFFF\"}, \"showarrow\": false, \"text\": \"0.04\", \"x\": \"deaths_per1000\", \"xref\": \"x\", \"y\": \"Median age (years)\", \"yref\": \"y\"}, {\"font\": {\"color\": \"#FFFFFF\"}, \"showarrow\": false, \"text\": \"-0.08\", \"x\": \"Total\", \"xref\": \"x\", \"y\": \"Sex ratio (males per 100 females)\", \"yref\": \"y\"}, {\"font\": {\"color\": \"#FFFFFF\"}, \"showarrow\": false, \"text\": \"-0.08\", \"x\": \"Male\", \"xref\": \"x\", \"y\": \"Sex ratio (males per 100 females)\", \"yref\": \"y\"}, {\"font\": {\"color\": \"#FFFFFF\"}, \"showarrow\": false, \"text\": \"-0.09\", \"x\": \"Female\", \"xref\": \"x\", \"y\": \"Sex ratio (males per 100 females)\", \"yref\": \"y\"}, {\"font\": {\"color\": \"#FFFFFF\"}, \"showarrow\": false, \"text\": \"-0.07\", \"x\": \"Total Under 18 year\", \"xref\": \"x\", \"y\": \"Sex ratio (males per 100 females)\", \"yref\": \"y\"}, {\"font\": {\"color\": \"#FFFFFF\"}, \"showarrow\": false, \"text\": \"-0.07\", \"x\": \"Male Under 18 year\", \"xref\": \"x\", \"y\": \"Sex ratio (males per 100 females)\", \"yref\": \"y\"}, {\"font\": {\"color\": \"#FFFFFF\"}, \"showarrow\": false, \"text\": \"-0.07\", \"x\": \"Female Under 18 year\", \"xref\": \"x\", \"y\": \"Sex ratio (males per 100 females)\", \"yref\": \"y\"}, {\"font\": {\"color\": \"#FFFFFF\"}, \"showarrow\": false, \"text\": \"-0.11\", \"x\": \"Total 60 years and over\", \"xref\": \"x\", \"y\": \"Sex ratio (males per 100 females)\", \"yref\": \"y\"}, {\"font\": {\"color\": \"#FFFFFF\"}, \"showarrow\": false, \"text\": \"-0.1\", \"x\": \"Male 60 years and over\", \"xref\": \"x\", \"y\": \"Sex ratio (males per 100 females)\", \"yref\": \"y\"}, {\"font\": {\"color\": \"#FFFFFF\"}, \"showarrow\": false, \"text\": \"-0.12\", \"x\": \"Female 60 years and over\", \"xref\": \"x\", \"y\": \"Sex ratio (males per 100 females)\", \"yref\": \"y\"}, {\"font\": {\"color\": \"#FFFFFF\"}, \"showarrow\": false, \"text\": \"-0.15\", \"x\": \"Median age (years)\", \"xref\": \"x\", \"y\": \"Sex ratio (males per 100 females)\", \"yref\": \"y\"}, {\"font\": {\"color\": \"#000000\"}, \"showarrow\": false, \"text\": \"1.0\", \"x\": \"Sex ratio (males per 100 females)\", \"xref\": \"x\", \"y\": \"Sex ratio (males per 100 females)\", \"yref\": \"y\"}, {\"font\": {\"color\": \"#FFFFFF\"}, \"showarrow\": false, \"text\": \"-0.1\", \"x\": \"Age dependency ratio\", \"xref\": \"x\", \"y\": \"Sex ratio (males per 100 females)\", \"yref\": \"y\"}, {\"font\": {\"color\": \"#FFFFFF\"}, \"showarrow\": false, \"text\": \"-0.13\", \"x\": \"Old-age dependency ratio\", \"xref\": \"x\", \"y\": \"Sex ratio (males per 100 females)\", \"yref\": \"y\"}, {\"font\": {\"color\": \"#FFFFFF\"}, \"showarrow\": false, \"text\": \"0.06\", \"x\": \"Child dependency ratio\", \"xref\": \"x\", \"y\": \"Sex ratio (males per 100 females)\", \"yref\": \"y\"}, {\"font\": {\"color\": \"#FFFFFF\"}, \"showarrow\": false, \"text\": \"0.1\", \"x\": \"percent_under18\", \"xref\": \"x\", \"y\": \"Sex ratio (males per 100 females)\", \"yref\": \"y\"}, {\"font\": {\"color\": \"#FFFFFF\"}, \"showarrow\": false, \"text\": \"-0.15\", \"x\": \"percent_over60\", \"xref\": \"x\", \"y\": \"Sex ratio (males per 100 females)\", \"yref\": \"y\"}, {\"font\": {\"color\": \"#FFFFFF\"}, \"showarrow\": false, \"text\": \"-0.1\", \"x\": \"hospital_bed_count\", \"xref\": \"x\", \"y\": \"Sex ratio (males per 100 females)\", \"yref\": \"y\"}, {\"font\": {\"color\": \"#FFFFFF\"}, \"showarrow\": false, \"text\": \"-0.11\", \"x\": \"hospital_count\", \"xref\": \"x\", \"y\": \"Sex ratio (males per 100 females)\", \"yref\": \"y\"}, {\"font\": {\"color\": \"#FFFFFF\"}, \"showarrow\": false, \"text\": \"-0.04\", \"x\": \"hospitalbeds_per10000\", \"xref\": \"x\", \"y\": \"Sex ratio (males per 100 females)\", \"yref\": \"y\"}, {\"font\": {\"color\": \"#FFFFFF\"}, \"showarrow\": false, \"text\": \"-0.11\", \"x\": \"cases\", \"xref\": \"x\", \"y\": \"Sex ratio (males per 100 females)\", \"yref\": \"y\"}, {\"font\": {\"color\": \"#FFFFFF\"}, \"showarrow\": false, \"text\": \"-0.11\", \"x\": \"deaths\", \"xref\": \"x\", \"y\": \"Sex ratio (males per 100 females)\", \"yref\": \"y\"}, {\"font\": {\"color\": \"#FFFFFF\"}, \"showarrow\": false, \"text\": \"-0.14\", \"x\": \"cases_per1000\", \"xref\": \"x\", \"y\": \"Sex ratio (males per 100 females)\", \"yref\": \"y\"}, {\"font\": {\"color\": \"#FFFFFF\"}, \"showarrow\": false, \"text\": \"-0.17\", \"x\": \"deaths_per1000\", \"xref\": \"x\", \"y\": \"Sex ratio (males per 100 females)\", \"yref\": \"y\"}, {\"font\": {\"color\": \"#FFFFFF\"}, \"showarrow\": false, \"text\": \"-0.16\", \"x\": \"Total\", \"xref\": \"x\", \"y\": \"Age dependency ratio\", \"yref\": \"y\"}, {\"font\": {\"color\": \"#FFFFFF\"}, \"showarrow\": false, \"text\": \"-0.16\", \"x\": \"Male\", \"xref\": \"x\", \"y\": \"Age dependency ratio\", \"yref\": \"y\"}, {\"font\": {\"color\": \"#FFFFFF\"}, \"showarrow\": false, \"text\": \"-0.16\", \"x\": \"Female\", \"xref\": \"x\", \"y\": \"Age dependency ratio\", \"yref\": \"y\"}, {\"font\": {\"color\": \"#FFFFFF\"}, \"showarrow\": false, \"text\": \"-0.16\", \"x\": \"Total Under 18 year\", \"xref\": \"x\", \"y\": \"Age dependency ratio\", \"yref\": \"y\"}, {\"font\": {\"color\": \"#FFFFFF\"}, \"showarrow\": false, \"text\": \"-0.16\", \"x\": \"Male Under 18 year\", \"xref\": \"x\", \"y\": \"Age dependency ratio\", \"yref\": \"y\"}, {\"font\": {\"color\": \"#FFFFFF\"}, \"showarrow\": false, \"text\": \"-0.16\", \"x\": \"Female Under 18 year\", \"xref\": \"x\", \"y\": \"Age dependency ratio\", \"yref\": \"y\"}, {\"font\": {\"color\": \"#FFFFFF\"}, \"showarrow\": false, \"text\": \"-0.1\", \"x\": \"Total 60 years and over\", \"xref\": \"x\", \"y\": \"Age dependency ratio\", \"yref\": \"y\"}, {\"font\": {\"color\": \"#FFFFFF\"}, \"showarrow\": false, \"text\": \"-0.1\", \"x\": \"Male 60 years and over\", \"xref\": \"x\", \"y\": \"Age dependency ratio\", \"yref\": \"y\"}, {\"font\": {\"color\": \"#FFFFFF\"}, \"showarrow\": false, \"text\": \"-0.11\", \"x\": \"Female 60 years and over\", \"xref\": \"x\", \"y\": \"Age dependency ratio\", \"yref\": \"y\"}, {\"font\": {\"color\": \"#000000\"}, \"showarrow\": false, \"text\": \"0.66\", \"x\": \"Median age (years)\", \"xref\": \"x\", \"y\": \"Age dependency ratio\", \"yref\": \"y\"}, {\"font\": {\"color\": \"#FFFFFF\"}, \"showarrow\": false, \"text\": \"-0.1\", \"x\": \"Sex ratio (males per 100 females)\", \"xref\": \"x\", \"y\": \"Age dependency ratio\", \"yref\": \"y\"}, {\"font\": {\"color\": \"#000000\"}, \"showarrow\": false, \"text\": \"1.0\", \"x\": \"Age dependency ratio\", \"xref\": \"x\", \"y\": \"Age dependency ratio\", \"yref\": \"y\"}, {\"font\": {\"color\": \"#000000\"}, \"showarrow\": false, \"text\": \"0.84\", \"x\": \"Old-age dependency ratio\", \"xref\": \"x\", \"y\": \"Age dependency ratio\", \"yref\": \"y\"}, {\"font\": {\"color\": \"#000000\"}, \"showarrow\": false, \"text\": \"0.32\", \"x\": \"Child dependency ratio\", \"xref\": \"x\", \"y\": \"Age dependency ratio\", \"yref\": \"y\"}, {\"font\": {\"color\": \"#FFFFFF\"}, \"showarrow\": false, \"text\": \"0.02\", \"x\": \"percent_under18\", \"xref\": \"x\", \"y\": \"Age dependency ratio\", \"yref\": \"y\"}, {\"font\": {\"color\": \"#000000\"}, \"showarrow\": false, \"text\": \"0.72\", \"x\": \"percent_over60\", \"xref\": \"x\", \"y\": \"Age dependency ratio\", \"yref\": \"y\"}, {\"font\": {\"color\": \"#FFFFFF\"}, \"showarrow\": false, \"text\": \"-0.1\", \"x\": \"hospital_bed_count\", \"xref\": \"x\", \"y\": \"Age dependency ratio\", \"yref\": \"y\"}, {\"font\": {\"color\": \"#FFFFFF\"}, \"showarrow\": false, \"text\": \"-0.16\", \"x\": \"hospital_count\", \"xref\": \"x\", \"y\": \"Age dependency ratio\", \"yref\": \"y\"}, {\"font\": {\"color\": \"#FFFFFF\"}, \"showarrow\": false, \"text\": \"-0.03\", \"x\": \"hospitalbeds_per10000\", \"xref\": \"x\", \"y\": \"Age dependency ratio\", \"yref\": \"y\"}, {\"font\": {\"color\": \"#FFFFFF\"}, \"showarrow\": false, \"text\": \"-0.1\", \"x\": \"cases\", \"xref\": \"x\", \"y\": \"Age dependency ratio\", \"yref\": \"y\"}, {\"font\": {\"color\": \"#FFFFFF\"}, \"showarrow\": false, \"text\": \"-0.08\", \"x\": \"deaths\", \"xref\": \"x\", \"y\": \"Age dependency ratio\", \"yref\": \"y\"}, {\"font\": {\"color\": \"#FFFFFF\"}, \"showarrow\": false, \"text\": \"-0.06\", \"x\": \"cases_per1000\", \"xref\": \"x\", \"y\": \"Age dependency ratio\", \"yref\": \"y\"}, {\"font\": {\"color\": \"#FFFFFF\"}, \"showarrow\": false, \"text\": \"-0.03\", \"x\": \"deaths_per1000\", \"xref\": \"x\", \"y\": \"Age dependency ratio\", \"yref\": \"y\"}, {\"font\": {\"color\": \"#FFFFFF\"}, \"showarrow\": false, \"text\": \"-0.15\", \"x\": \"Total\", \"xref\": \"x\", \"y\": \"Old-age dependency ratio\", \"yref\": \"y\"}, {\"font\": {\"color\": \"#FFFFFF\"}, \"showarrow\": false, \"text\": \"-0.16\", \"x\": \"Male\", \"xref\": \"x\", \"y\": \"Old-age dependency ratio\", \"yref\": \"y\"}, {\"font\": {\"color\": \"#FFFFFF\"}, \"showarrow\": false, \"text\": \"-0.15\", \"x\": \"Female\", \"xref\": \"x\", \"y\": \"Old-age dependency ratio\", \"yref\": \"y\"}, {\"font\": {\"color\": \"#FFFFFF\"}, \"showarrow\": false, \"text\": \"-0.18\", \"x\": \"Total Under 18 year\", \"xref\": \"x\", \"y\": \"Old-age dependency ratio\", \"yref\": \"y\"}, {\"font\": {\"color\": \"#FFFFFF\"}, \"showarrow\": false, \"text\": \"-0.18\", \"x\": \"Male Under 18 year\", \"xref\": \"x\", \"y\": \"Old-age dependency ratio\", \"yref\": \"y\"}, {\"font\": {\"color\": \"#FFFFFF\"}, \"showarrow\": false, \"text\": \"-0.18\", \"x\": \"Female Under 18 year\", \"xref\": \"x\", \"y\": \"Old-age dependency ratio\", \"yref\": \"y\"}, {\"font\": {\"color\": \"#FFFFFF\"}, \"showarrow\": false, \"text\": \"-0.06\", \"x\": \"Total 60 years and over\", \"xref\": \"x\", \"y\": \"Old-age dependency ratio\", \"yref\": \"y\"}, {\"font\": {\"color\": \"#FFFFFF\"}, \"showarrow\": false, \"text\": \"-0.06\", \"x\": \"Male 60 years and over\", \"xref\": \"x\", \"y\": \"Old-age dependency ratio\", \"yref\": \"y\"}, {\"font\": {\"color\": \"#FFFFFF\"}, \"showarrow\": false, \"text\": \"-0.07\", \"x\": \"Female 60 years and over\", \"xref\": \"x\", \"y\": \"Old-age dependency ratio\", \"yref\": \"y\"}, {\"font\": {\"color\": \"#000000\"}, \"showarrow\": false, \"text\": \"0.85\", \"x\": \"Median age (years)\", \"xref\": \"x\", \"y\": \"Old-age dependency ratio\", \"yref\": \"y\"}, {\"font\": {\"color\": \"#FFFFFF\"}, \"showarrow\": false, \"text\": \"-0.13\", \"x\": \"Sex ratio (males per 100 females)\", \"xref\": \"x\", \"y\": \"Old-age dependency ratio\", \"yref\": \"y\"}, {\"font\": {\"color\": \"#000000\"}, \"showarrow\": false, \"text\": \"0.84\", \"x\": \"Age dependency ratio\", \"xref\": \"x\", \"y\": \"Old-age dependency ratio\", \"yref\": \"y\"}, {\"font\": {\"color\": \"#000000\"}, \"showarrow\": false, \"text\": \"1.0\", \"x\": \"Old-age dependency ratio\", \"xref\": \"x\", \"y\": \"Old-age dependency ratio\", \"yref\": \"y\"}, {\"font\": {\"color\": \"#FFFFFF\"}, \"showarrow\": false, \"text\": \"-0.25\", \"x\": \"Child dependency ratio\", \"xref\": \"x\", \"y\": \"Old-age dependency ratio\", \"yref\": \"y\"}, {\"font\": {\"color\": \"#FFFFFF\"}, \"showarrow\": false, \"text\": \"-0.53\", \"x\": \"percent_under18\", \"xref\": \"x\", \"y\": \"Old-age dependency ratio\", \"yref\": \"y\"}, {\"font\": {\"color\": \"#000000\"}, \"showarrow\": false, \"text\": \"0.95\", \"x\": \"percent_over60\", \"xref\": \"x\", \"y\": \"Old-age dependency ratio\", \"yref\": \"y\"}, {\"font\": {\"color\": \"#FFFFFF\"}, \"showarrow\": false, \"text\": \"-0.05\", \"x\": \"hospital_bed_count\", \"xref\": \"x\", \"y\": \"Old-age dependency ratio\", \"yref\": \"y\"}, {\"font\": {\"color\": \"#FFFFFF\"}, \"showarrow\": false, \"text\": \"-0.16\", \"x\": \"hospital_count\", \"xref\": \"x\", \"y\": \"Old-age dependency ratio\", \"yref\": \"y\"}, {\"font\": {\"color\": \"#FFFFFF\"}, \"showarrow\": false, \"text\": \"0.02\", \"x\": \"hospitalbeds_per10000\", \"xref\": \"x\", \"y\": \"Old-age dependency ratio\", \"yref\": \"y\"}, {\"font\": {\"color\": \"#FFFFFF\"}, \"showarrow\": false, \"text\": \"-0.07\", \"x\": \"cases\", \"xref\": \"x\", \"y\": \"Old-age dependency ratio\", \"yref\": \"y\"}, {\"font\": {\"color\": \"#FFFFFF\"}, \"showarrow\": false, \"text\": \"-0.05\", \"x\": \"deaths\", \"xref\": \"x\", \"y\": \"Old-age dependency ratio\", \"yref\": \"y\"}, {\"font\": {\"color\": \"#FFFFFF\"}, \"showarrow\": false, \"text\": \"-0.05\", \"x\": \"cases_per1000\", \"xref\": \"x\", \"y\": \"Old-age dependency ratio\", \"yref\": \"y\"}, {\"font\": {\"color\": \"#FFFFFF\"}, \"showarrow\": false, \"text\": \"-0.01\", \"x\": \"deaths_per1000\", \"xref\": \"x\", \"y\": \"Old-age dependency ratio\", \"yref\": \"y\"}, {\"font\": {\"color\": \"#FFFFFF\"}, \"showarrow\": false, \"text\": \"-0.02\", \"x\": \"Total\", \"xref\": \"x\", \"y\": \"Child dependency ratio\", \"yref\": \"y\"}, {\"font\": {\"color\": \"#FFFFFF\"}, \"showarrow\": false, \"text\": \"-0.02\", \"x\": \"Male\", \"xref\": \"x\", \"y\": \"Child dependency ratio\", \"yref\": \"y\"}, {\"font\": {\"color\": \"#FFFFFF\"}, \"showarrow\": false, \"text\": \"-0.03\", \"x\": \"Female\", \"xref\": \"x\", \"y\": \"Child dependency ratio\", \"yref\": \"y\"}, {\"font\": {\"color\": \"#FFFFFF\"}, \"showarrow\": false, \"text\": \"0.04\", \"x\": \"Total Under 18 year\", \"xref\": \"x\", \"y\": \"Child dependency ratio\", \"yref\": \"y\"}, {\"font\": {\"color\": \"#FFFFFF\"}, \"showarrow\": false, \"text\": \"0.04\", \"x\": \"Male Under 18 year\", \"xref\": \"x\", \"y\": \"Child dependency ratio\", \"yref\": \"y\"}, {\"font\": {\"color\": \"#FFFFFF\"}, \"showarrow\": false, \"text\": \"0.04\", \"x\": \"Female Under 18 year\", \"xref\": \"x\", \"y\": \"Child dependency ratio\", \"yref\": \"y\"}, {\"font\": {\"color\": \"#FFFFFF\"}, \"showarrow\": false, \"text\": \"-0.07\", \"x\": \"Total 60 years and over\", \"xref\": \"x\", \"y\": \"Child dependency ratio\", \"yref\": \"y\"}, {\"font\": {\"color\": \"#FFFFFF\"}, \"showarrow\": false, \"text\": \"-0.07\", \"x\": \"Male 60 years and over\", \"xref\": \"x\", \"y\": \"Child dependency ratio\", \"yref\": \"y\"}, {\"font\": {\"color\": \"#FFFFFF\"}, \"showarrow\": false, \"text\": \"-0.07\", \"x\": \"Female 60 years and over\", \"xref\": \"x\", \"y\": \"Child dependency ratio\", \"yref\": \"y\"}, {\"font\": {\"color\": \"#FFFFFF\"}, \"showarrow\": false, \"text\": \"-0.3\", \"x\": \"Median age (years)\", \"xref\": \"x\", \"y\": \"Child dependency ratio\", \"yref\": \"y\"}, {\"font\": {\"color\": \"#FFFFFF\"}, \"showarrow\": false, \"text\": \"0.06\", \"x\": \"Sex ratio (males per 100 females)\", \"xref\": \"x\", \"y\": \"Child dependency ratio\", \"yref\": \"y\"}, {\"font\": {\"color\": \"#000000\"}, \"showarrow\": false, \"text\": \"0.32\", \"x\": \"Age dependency ratio\", \"xref\": \"x\", \"y\": \"Child dependency ratio\", \"yref\": \"y\"}, {\"font\": {\"color\": \"#FFFFFF\"}, \"showarrow\": false, \"text\": \"-0.25\", \"x\": \"Old-age dependency ratio\", \"xref\": \"x\", \"y\": \"Child dependency ratio\", \"yref\": \"y\"}, {\"font\": {\"color\": \"#000000\"}, \"showarrow\": false, \"text\": \"1.0\", \"x\": \"Child dependency ratio\", \"xref\": \"x\", \"y\": \"Child dependency ratio\", \"yref\": \"y\"}, {\"font\": {\"color\": \"#000000\"}, \"showarrow\": false, \"text\": \"0.95\", \"x\": \"percent_under18\", \"xref\": \"x\", \"y\": \"Child dependency ratio\", \"yref\": \"y\"}, {\"font\": {\"color\": \"#FFFFFF\"}, \"showarrow\": false, \"text\": \"-0.37\", \"x\": \"percent_over60\", \"xref\": \"x\", \"y\": \"Child dependency ratio\", \"yref\": \"y\"}, {\"font\": {\"color\": \"#FFFFFF\"}, \"showarrow\": false, \"text\": \"-0.07\", \"x\": \"hospital_bed_count\", \"xref\": \"x\", \"y\": \"Child dependency ratio\", \"yref\": \"y\"}, {\"font\": {\"color\": \"#FFFFFF\"}, \"showarrow\": false, \"text\": \"-0.02\", \"x\": \"hospital_count\", \"xref\": \"x\", \"y\": \"Child dependency ratio\", \"yref\": \"y\"}, {\"font\": {\"color\": \"#FFFFFF\"}, \"showarrow\": false, \"text\": \"-0.09\", \"x\": \"hospitalbeds_per10000\", \"xref\": \"x\", \"y\": \"Child dependency ratio\", \"yref\": \"y\"}, {\"font\": {\"color\": \"#FFFFFF\"}, \"showarrow\": false, \"text\": \"-0.05\", \"x\": \"cases\", \"xref\": \"x\", \"y\": \"Child dependency ratio\", \"yref\": \"y\"}, {\"font\": {\"color\": \"#FFFFFF\"}, \"showarrow\": false, \"text\": \"-0.05\", \"x\": \"deaths\", \"xref\": \"x\", \"y\": \"Child dependency ratio\", \"yref\": \"y\"}, {\"font\": {\"color\": \"#FFFFFF\"}, \"showarrow\": false, \"text\": \"-0.02\", \"x\": \"cases_per1000\", \"xref\": \"x\", \"y\": \"Child dependency ratio\", \"yref\": \"y\"}, {\"font\": {\"color\": \"#FFFFFF\"}, \"showarrow\": false, \"text\": \"-0.03\", \"x\": \"deaths_per1000\", \"xref\": \"x\", \"y\": \"Child dependency ratio\", \"yref\": \"y\"}, {\"font\": {\"color\": \"#FFFFFF\"}, \"showarrow\": false, \"text\": \"0.04\", \"x\": \"Total\", \"xref\": \"x\", \"y\": \"percent_under18\", \"yref\": \"y\"}, {\"font\": {\"color\": \"#FFFFFF\"}, \"showarrow\": false, \"text\": \"0.04\", \"x\": \"Male\", \"xref\": \"x\", \"y\": \"percent_under18\", \"yref\": \"y\"}, {\"font\": {\"color\": \"#FFFFFF\"}, \"showarrow\": false, \"text\": \"0.04\", \"x\": \"Female\", \"xref\": \"x\", \"y\": \"percent_under18\", \"yref\": \"y\"}, {\"font\": {\"color\": \"#FFFFFF\"}, \"showarrow\": false, \"text\": \"0.11\", \"x\": \"Total Under 18 year\", \"xref\": \"x\", \"y\": \"percent_under18\", \"yref\": \"y\"}, {\"font\": {\"color\": \"#FFFFFF\"}, \"showarrow\": false, \"text\": \"0.11\", \"x\": \"Male Under 18 year\", \"xref\": \"x\", \"y\": \"percent_under18\", \"yref\": \"y\"}, {\"font\": {\"color\": \"#FFFFFF\"}, \"showarrow\": false, \"text\": \"0.11\", \"x\": \"Female Under 18 year\", \"xref\": \"x\", \"y\": \"percent_under18\", \"yref\": \"y\"}, {\"font\": {\"color\": \"#FFFFFF\"}, \"showarrow\": false, \"text\": \"-0.03\", \"x\": \"Total 60 years and over\", \"xref\": \"x\", \"y\": \"percent_under18\", \"yref\": \"y\"}, {\"font\": {\"color\": \"#FFFFFF\"}, \"showarrow\": false, \"text\": \"-0.03\", \"x\": \"Male 60 years and over\", \"xref\": \"x\", \"y\": \"percent_under18\", \"yref\": \"y\"}, {\"font\": {\"color\": \"#FFFFFF\"}, \"showarrow\": false, \"text\": \"-0.03\", \"x\": \"Female 60 years and over\", \"xref\": \"x\", \"y\": \"percent_under18\", \"yref\": \"y\"}, {\"font\": {\"color\": \"#FFFFFF\"}, \"showarrow\": false, \"text\": \"-0.54\", \"x\": \"Median age (years)\", \"xref\": \"x\", \"y\": \"percent_under18\", \"yref\": \"y\"}, {\"font\": {\"color\": \"#FFFFFF\"}, \"showarrow\": false, \"text\": \"0.1\", \"x\": \"Sex ratio (males per 100 females)\", \"xref\": \"x\", \"y\": \"percent_under18\", \"yref\": \"y\"}, {\"font\": {\"color\": \"#FFFFFF\"}, \"showarrow\": false, \"text\": \"0.02\", \"x\": \"Age dependency ratio\", \"xref\": \"x\", \"y\": \"percent_under18\", \"yref\": \"y\"}, {\"font\": {\"color\": \"#FFFFFF\"}, \"showarrow\": false, \"text\": \"-0.53\", \"x\": \"Old-age dependency ratio\", \"xref\": \"x\", \"y\": \"percent_under18\", \"yref\": \"y\"}, {\"font\": {\"color\": \"#000000\"}, \"showarrow\": false, \"text\": \"0.95\", \"x\": \"Child dependency ratio\", \"xref\": \"x\", \"y\": \"percent_under18\", \"yref\": \"y\"}, {\"font\": {\"color\": \"#000000\"}, \"showarrow\": false, \"text\": \"1.0\", \"x\": \"percent_under18\", \"xref\": \"x\", \"y\": \"percent_under18\", \"yref\": \"y\"}, {\"font\": {\"color\": \"#FFFFFF\"}, \"showarrow\": false, \"text\": \"-0.63\", \"x\": \"percent_over60\", \"xref\": \"x\", \"y\": \"percent_under18\", \"yref\": \"y\"}, {\"font\": {\"color\": \"#FFFFFF\"}, \"showarrow\": false, \"text\": \"-0.04\", \"x\": \"hospital_bed_count\", \"xref\": \"x\", \"y\": \"percent_under18\", \"yref\": \"y\"}, {\"font\": {\"color\": \"#FFFFFF\"}, \"showarrow\": false, \"text\": \"0.05\", \"x\": \"hospital_count\", \"xref\": \"x\", \"y\": \"percent_under18\", \"yref\": \"y\"}, {\"font\": {\"color\": \"#FFFFFF\"}, \"showarrow\": false, \"text\": \"-0.08\", \"x\": \"hospitalbeds_per10000\", \"xref\": \"x\", \"y\": \"percent_under18\", \"yref\": \"y\"}, {\"font\": {\"color\": \"#FFFFFF\"}, \"showarrow\": false, \"text\": \"-0.02\", \"x\": \"cases\", \"xref\": \"x\", \"y\": \"percent_under18\", \"yref\": \"y\"}, {\"font\": {\"color\": \"#FFFFFF\"}, \"showarrow\": false, \"text\": \"-0.02\", \"x\": \"deaths\", \"xref\": \"x\", \"y\": \"percent_under18\", \"yref\": \"y\"}, {\"font\": {\"color\": \"#FFFFFF\"}, \"showarrow\": false, \"text\": \"-0.0\", \"x\": \"cases_per1000\", \"xref\": \"x\", \"y\": \"percent_under18\", \"yref\": \"y\"}, {\"font\": {\"color\": \"#FFFFFF\"}, \"showarrow\": false, \"text\": \"-0.02\", \"x\": \"deaths_per1000\", \"xref\": \"x\", \"y\": \"percent_under18\", \"yref\": \"y\"}, {\"font\": {\"color\": \"#FFFFFF\"}, \"showarrow\": false, \"text\": \"-0.18\", \"x\": \"Total\", \"xref\": \"x\", \"y\": \"percent_over60\", \"yref\": \"y\"}, {\"font\": {\"color\": \"#FFFFFF\"}, \"showarrow\": false, \"text\": \"-0.18\", \"x\": \"Male\", \"xref\": \"x\", \"y\": \"percent_over60\", \"yref\": \"y\"}, {\"font\": {\"color\": \"#FFFFFF\"}, \"showarrow\": false, \"text\": \"-0.18\", \"x\": \"Female\", \"xref\": \"x\", \"y\": \"percent_over60\", \"yref\": \"y\"}, {\"font\": {\"color\": \"#FFFFFF\"}, \"showarrow\": false, \"text\": \"-0.22\", \"x\": \"Total Under 18 year\", \"xref\": \"x\", \"y\": \"percent_over60\", \"yref\": \"y\"}, {\"font\": {\"color\": \"#FFFFFF\"}, \"showarrow\": false, \"text\": \"-0.22\", \"x\": \"Male Under 18 year\", \"xref\": \"x\", \"y\": \"percent_over60\", \"yref\": \"y\"}, {\"font\": {\"color\": \"#FFFFFF\"}, \"showarrow\": false, \"text\": \"-0.22\", \"x\": \"Female Under 18 year\", \"xref\": \"x\", \"y\": \"percent_over60\", \"yref\": \"y\"}, {\"font\": {\"color\": \"#FFFFFF\"}, \"showarrow\": false, \"text\": \"-0.08\", \"x\": \"Total 60 years and over\", \"xref\": \"x\", \"y\": \"percent_over60\", \"yref\": \"y\"}, {\"font\": {\"color\": \"#FFFFFF\"}, \"showarrow\": false, \"text\": \"-0.07\", \"x\": \"Male 60 years and over\", \"xref\": \"x\", \"y\": \"percent_over60\", \"yref\": \"y\"}, {\"font\": {\"color\": \"#FFFFFF\"}, \"showarrow\": false, \"text\": \"-0.08\", \"x\": \"Female 60 years and over\", \"xref\": \"x\", \"y\": \"percent_over60\", \"yref\": \"y\"}, {\"font\": {\"color\": \"#000000\"}, \"showarrow\": false, \"text\": \"0.92\", \"x\": \"Median age (years)\", \"xref\": \"x\", \"y\": \"percent_over60\", \"yref\": \"y\"}, {\"font\": {\"color\": \"#FFFFFF\"}, \"showarrow\": false, \"text\": \"-0.15\", \"x\": \"Sex ratio (males per 100 females)\", \"xref\": \"x\", \"y\": \"percent_over60\", \"yref\": \"y\"}, {\"font\": {\"color\": \"#000000\"}, \"showarrow\": false, \"text\": \"0.72\", \"x\": \"Age dependency ratio\", \"xref\": \"x\", \"y\": \"percent_over60\", \"yref\": \"y\"}, {\"font\": {\"color\": \"#000000\"}, \"showarrow\": false, \"text\": \"0.95\", \"x\": \"Old-age dependency ratio\", \"xref\": \"x\", \"y\": \"percent_over60\", \"yref\": \"y\"}, {\"font\": {\"color\": \"#FFFFFF\"}, \"showarrow\": false, \"text\": \"-0.37\", \"x\": \"Child dependency ratio\", \"xref\": \"x\", \"y\": \"percent_over60\", \"yref\": \"y\"}, {\"font\": {\"color\": \"#FFFFFF\"}, \"showarrow\": false, \"text\": \"-0.63\", \"x\": \"percent_under18\", \"xref\": \"x\", \"y\": \"percent_over60\", \"yref\": \"y\"}, {\"font\": {\"color\": \"#000000\"}, \"showarrow\": false, \"text\": \"1.0\", \"x\": \"percent_over60\", \"xref\": \"x\", \"y\": \"percent_over60\", \"yref\": \"y\"}, {\"font\": {\"color\": \"#FFFFFF\"}, \"showarrow\": false, \"text\": \"-0.06\", \"x\": \"hospital_bed_count\", \"xref\": \"x\", \"y\": \"percent_over60\", \"yref\": \"y\"}, {\"font\": {\"color\": \"#FFFFFF\"}, \"showarrow\": false, \"text\": \"-0.18\", \"x\": \"hospital_count\", \"xref\": \"x\", \"y\": \"percent_over60\", \"yref\": \"y\"}, {\"font\": {\"color\": \"#FFFFFF\"}, \"showarrow\": false, \"text\": \"0.02\", \"x\": \"hospitalbeds_per10000\", \"xref\": \"x\", \"y\": \"percent_over60\", \"yref\": \"y\"}, {\"font\": {\"color\": \"#FFFFFF\"}, \"showarrow\": false, \"text\": \"-0.07\", \"x\": \"cases\", \"xref\": \"x\", \"y\": \"percent_over60\", \"yref\": \"y\"}, {\"font\": {\"color\": \"#FFFFFF\"}, \"showarrow\": false, \"text\": \"-0.05\", \"x\": \"deaths\", \"xref\": \"x\", \"y\": \"percent_over60\", \"yref\": \"y\"}, {\"font\": {\"color\": \"#FFFFFF\"}, \"showarrow\": false, \"text\": \"-0.04\", \"x\": \"cases_per1000\", \"xref\": \"x\", \"y\": \"percent_over60\", \"yref\": \"y\"}, {\"font\": {\"color\": \"#FFFFFF\"}, \"showarrow\": false, \"text\": \"-0.01\", \"x\": \"deaths_per1000\", \"xref\": \"x\", \"y\": \"percent_over60\", \"yref\": \"y\"}, {\"font\": {\"color\": \"#000000\"}, \"showarrow\": false, \"text\": \"0.66\", \"x\": \"Total\", \"xref\": \"x\", \"y\": \"hospital_bed_count\", \"yref\": \"y\"}, {\"font\": {\"color\": \"#000000\"}, \"showarrow\": false, \"text\": \"0.66\", \"x\": \"Male\", \"xref\": \"x\", \"y\": \"hospital_bed_count\", \"yref\": \"y\"}, {\"font\": {\"color\": \"#000000\"}, \"showarrow\": false, \"text\": \"0.66\", \"x\": \"Female\", \"xref\": \"x\", \"y\": \"hospital_bed_count\", \"yref\": \"y\"}, {\"font\": {\"color\": \"#000000\"}, \"showarrow\": false, \"text\": \"0.64\", \"x\": \"Total Under 18 year\", \"xref\": \"x\", \"y\": \"hospital_bed_count\", \"yref\": \"y\"}, {\"font\": {\"color\": \"#000000\"}, \"showarrow\": false, \"text\": \"0.64\", \"x\": \"Male Under 18 year\", \"xref\": \"x\", \"y\": \"hospital_bed_count\", \"yref\": \"y\"}, {\"font\": {\"color\": \"#000000\"}, \"showarrow\": false, \"text\": \"0.64\", \"x\": \"Female Under 18 year\", \"xref\": \"x\", \"y\": \"hospital_bed_count\", \"yref\": \"y\"}, {\"font\": {\"color\": \"#000000\"}, \"showarrow\": false, \"text\": \"0.65\", \"x\": \"Total 60 years and over\", \"xref\": \"x\", \"y\": \"hospital_bed_count\", \"yref\": \"y\"}, {\"font\": {\"color\": \"#000000\"}, \"showarrow\": false, \"text\": \"0.65\", \"x\": \"Male 60 years and over\", \"xref\": \"x\", \"y\": \"hospital_bed_count\", \"yref\": \"y\"}, {\"font\": {\"color\": \"#000000\"}, \"showarrow\": false, \"text\": \"0.66\", \"x\": \"Female 60 years and over\", \"xref\": \"x\", \"y\": \"hospital_bed_count\", \"yref\": \"y\"}, {\"font\": {\"color\": \"#FFFFFF\"}, \"showarrow\": false, \"text\": \"-0.03\", \"x\": \"Median age (years)\", \"xref\": \"x\", \"y\": \"hospital_bed_count\", \"yref\": \"y\"}, {\"font\": {\"color\": \"#FFFFFF\"}, \"showarrow\": false, \"text\": \"-0.1\", \"x\": \"Sex ratio (males per 100 females)\", \"xref\": \"x\", \"y\": \"hospital_bed_count\", \"yref\": \"y\"}, {\"font\": {\"color\": \"#FFFFFF\"}, \"showarrow\": false, \"text\": \"-0.1\", \"x\": \"Age dependency ratio\", \"xref\": \"x\", \"y\": \"hospital_bed_count\", \"yref\": \"y\"}, {\"font\": {\"color\": \"#FFFFFF\"}, \"showarrow\": false, \"text\": \"-0.05\", \"x\": \"Old-age dependency ratio\", \"xref\": \"x\", \"y\": \"hospital_bed_count\", \"yref\": \"y\"}, {\"font\": {\"color\": \"#FFFFFF\"}, \"showarrow\": false, \"text\": \"-0.07\", \"x\": \"Child dependency ratio\", \"xref\": \"x\", \"y\": \"hospital_bed_count\", \"yref\": \"y\"}, {\"font\": {\"color\": \"#FFFFFF\"}, \"showarrow\": false, \"text\": \"-0.04\", \"x\": \"percent_under18\", \"xref\": \"x\", \"y\": \"hospital_bed_count\", \"yref\": \"y\"}, {\"font\": {\"color\": \"#FFFFFF\"}, \"showarrow\": false, \"text\": \"-0.06\", \"x\": \"percent_over60\", \"xref\": \"x\", \"y\": \"hospital_bed_count\", \"yref\": \"y\"}, {\"font\": {\"color\": \"#000000\"}, \"showarrow\": false, \"text\": \"1.0\", \"x\": \"hospital_bed_count\", \"xref\": \"x\", \"y\": \"hospital_bed_count\", \"yref\": \"y\"}, {\"font\": {\"color\": \"#000000\"}, \"showarrow\": false, \"text\": \"0.58\", \"x\": \"hospital_count\", \"xref\": \"x\", \"y\": \"hospital_bed_count\", \"yref\": \"y\"}, {\"font\": {\"color\": \"#000000\"}, \"showarrow\": false, \"text\": \"0.49\", \"x\": \"hospitalbeds_per10000\", \"xref\": \"x\", \"y\": \"hospital_bed_count\", \"yref\": \"y\"}, {\"font\": {\"color\": \"#000000\"}, \"showarrow\": false, \"text\": \"0.35\", \"x\": \"cases\", \"xref\": \"x\", \"y\": \"hospital_bed_count\", \"yref\": \"y\"}, {\"font\": {\"color\": \"#000000\"}, \"showarrow\": false, \"text\": \"0.31\", \"x\": \"deaths\", \"xref\": \"x\", \"y\": \"hospital_bed_count\", \"yref\": \"y\"}, {\"font\": {\"color\": \"#FFFFFF\"}, \"showarrow\": false, \"text\": \"0.05\", \"x\": \"cases_per1000\", \"xref\": \"x\", \"y\": \"hospital_bed_count\", \"yref\": \"y\"}, {\"font\": {\"color\": \"#FFFFFF\"}, \"showarrow\": false, \"text\": \"0.05\", \"x\": \"deaths_per1000\", \"xref\": \"x\", \"y\": \"hospital_bed_count\", \"yref\": \"y\"}, {\"font\": {\"color\": \"#000000\"}, \"showarrow\": false, \"text\": \"0.91\", \"x\": \"Total\", \"xref\": \"x\", \"y\": \"hospital_count\", \"yref\": \"y\"}, {\"font\": {\"color\": \"#000000\"}, \"showarrow\": false, \"text\": \"0.91\", \"x\": \"Male\", \"xref\": \"x\", \"y\": \"hospital_count\", \"yref\": \"y\"}, {\"font\": {\"color\": \"#000000\"}, \"showarrow\": false, \"text\": \"0.91\", \"x\": \"Female\", \"xref\": \"x\", \"y\": \"hospital_count\", \"yref\": \"y\"}, {\"font\": {\"color\": \"#000000\"}, \"showarrow\": false, \"text\": \"0.91\", \"x\": \"Total Under 18 year\", \"xref\": \"x\", \"y\": \"hospital_count\", \"yref\": \"y\"}, {\"font\": {\"color\": \"#000000\"}, \"showarrow\": false, \"text\": \"0.91\", \"x\": \"Male Under 18 year\", \"xref\": \"x\", \"y\": \"hospital_count\", \"yref\": \"y\"}, {\"font\": {\"color\": \"#000000\"}, \"showarrow\": false, \"text\": \"0.91\", \"x\": \"Female Under 18 year\", \"xref\": \"x\", \"y\": \"hospital_count\", \"yref\": \"y\"}, {\"font\": {\"color\": \"#000000\"}, \"showarrow\": false, \"text\": \"0.89\", \"x\": \"Total 60 years and over\", \"xref\": \"x\", \"y\": \"hospital_count\", \"yref\": \"y\"}, {\"font\": {\"color\": \"#000000\"}, \"showarrow\": false, \"text\": \"0.89\", \"x\": \"Male 60 years and over\", \"xref\": \"x\", \"y\": \"hospital_count\", \"yref\": \"y\"}, {\"font\": {\"color\": \"#000000\"}, \"showarrow\": false, \"text\": \"0.89\", \"x\": \"Female 60 years and over\", \"xref\": \"x\", \"y\": \"hospital_count\", \"yref\": \"y\"}, {\"font\": {\"color\": \"#FFFFFF\"}, \"showarrow\": false, \"text\": \"-0.14\", \"x\": \"Median age (years)\", \"xref\": \"x\", \"y\": \"hospital_count\", \"yref\": \"y\"}, {\"font\": {\"color\": \"#FFFFFF\"}, \"showarrow\": false, \"text\": \"-0.11\", \"x\": \"Sex ratio (males per 100 females)\", \"xref\": \"x\", \"y\": \"hospital_count\", \"yref\": \"y\"}, {\"font\": {\"color\": \"#FFFFFF\"}, \"showarrow\": false, \"text\": \"-0.16\", \"x\": \"Age dependency ratio\", \"xref\": \"x\", \"y\": \"hospital_count\", \"yref\": \"y\"}, {\"font\": {\"color\": \"#FFFFFF\"}, \"showarrow\": false, \"text\": \"-0.16\", \"x\": \"Old-age dependency ratio\", \"xref\": \"x\", \"y\": \"hospital_count\", \"yref\": \"y\"}, {\"font\": {\"color\": \"#FFFFFF\"}, \"showarrow\": false, \"text\": \"-0.02\", \"x\": \"Child dependency ratio\", \"xref\": \"x\", \"y\": \"hospital_count\", \"yref\": \"y\"}, {\"font\": {\"color\": \"#FFFFFF\"}, \"showarrow\": false, \"text\": \"0.05\", \"x\": \"percent_under18\", \"xref\": \"x\", \"y\": \"hospital_count\", \"yref\": \"y\"}, {\"font\": {\"color\": \"#FFFFFF\"}, \"showarrow\": false, \"text\": \"-0.18\", \"x\": \"percent_over60\", \"xref\": \"x\", \"y\": \"hospital_count\", \"yref\": \"y\"}, {\"font\": {\"color\": \"#000000\"}, \"showarrow\": false, \"text\": \"0.58\", \"x\": \"hospital_bed_count\", \"xref\": \"x\", \"y\": \"hospital_count\", \"yref\": \"y\"}, {\"font\": {\"color\": \"#000000\"}, \"showarrow\": false, \"text\": \"1.0\", \"x\": \"hospital_count\", \"xref\": \"x\", \"y\": \"hospital_count\", \"yref\": \"y\"}, {\"font\": {\"color\": \"#FFFFFF\"}, \"showarrow\": false, \"text\": \"-0.01\", \"x\": \"hospitalbeds_per10000\", \"xref\": \"x\", \"y\": \"hospital_count\", \"yref\": \"y\"}, {\"font\": {\"color\": \"#000000\"}, \"showarrow\": false, \"text\": \"0.44\", \"x\": \"cases\", \"xref\": \"x\", \"y\": \"hospital_count\", \"yref\": \"y\"}, {\"font\": {\"color\": \"#000000\"}, \"showarrow\": false, \"text\": \"0.38\", \"x\": \"deaths\", \"xref\": \"x\", \"y\": \"hospital_count\", \"yref\": \"y\"}, {\"font\": {\"color\": \"#FFFFFF\"}, \"showarrow\": false, \"text\": \"0.15\", \"x\": \"cases_per1000\", \"xref\": \"x\", \"y\": \"hospital_count\", \"yref\": \"y\"}, {\"font\": {\"color\": \"#FFFFFF\"}, \"showarrow\": false, \"text\": \"0.13\", \"x\": \"deaths_per1000\", \"xref\": \"x\", \"y\": \"hospital_count\", \"yref\": \"y\"}, {\"font\": {\"color\": \"#FFFFFF\"}, \"showarrow\": false, \"text\": \"0.04\", \"x\": \"Total\", \"xref\": \"x\", \"y\": \"hospitalbeds_per10000\", \"yref\": \"y\"}, {\"font\": {\"color\": \"#FFFFFF\"}, \"showarrow\": false, \"text\": \"0.04\", \"x\": \"Male\", \"xref\": \"x\", \"y\": \"hospitalbeds_per10000\", \"yref\": \"y\"}, {\"font\": {\"color\": \"#FFFFFF\"}, \"showarrow\": false, \"text\": \"0.04\", \"x\": \"Female\", \"xref\": \"x\", \"y\": \"hospitalbeds_per10000\", \"yref\": \"y\"}, {\"font\": {\"color\": \"#FFFFFF\"}, \"showarrow\": false, \"text\": \"0.04\", \"x\": \"Total Under 18 year\", \"xref\": \"x\", \"y\": \"hospitalbeds_per10000\", \"yref\": \"y\"}, {\"font\": {\"color\": \"#FFFFFF\"}, \"showarrow\": false, \"text\": \"0.04\", \"x\": \"Male Under 18 year\", \"xref\": \"x\", \"y\": \"hospitalbeds_per10000\", \"yref\": \"y\"}, {\"font\": {\"color\": \"#FFFFFF\"}, \"showarrow\": false, \"text\": \"0.04\", \"x\": \"Female Under 18 year\", \"xref\": \"x\", \"y\": \"hospitalbeds_per10000\", \"yref\": \"y\"}, {\"font\": {\"color\": \"#FFFFFF\"}, \"showarrow\": false, \"text\": \"0.05\", \"x\": \"Total 60 years and over\", \"xref\": \"x\", \"y\": \"hospitalbeds_per10000\", \"yref\": \"y\"}, {\"font\": {\"color\": \"#FFFFFF\"}, \"showarrow\": false, \"text\": \"0.05\", \"x\": \"Male 60 years and over\", \"xref\": \"x\", \"y\": \"hospitalbeds_per10000\", \"yref\": \"y\"}, {\"font\": {\"color\": \"#FFFFFF\"}, \"showarrow\": false, \"text\": \"0.05\", \"x\": \"Female 60 years and over\", \"xref\": \"x\", \"y\": \"hospitalbeds_per10000\", \"yref\": \"y\"}, {\"font\": {\"color\": \"#FFFFFF\"}, \"showarrow\": false, \"text\": \"0.02\", \"x\": \"Median age (years)\", \"xref\": \"x\", \"y\": \"hospitalbeds_per10000\", \"yref\": \"y\"}, {\"font\": {\"color\": \"#FFFFFF\"}, \"showarrow\": false, \"text\": \"-0.04\", \"x\": \"Sex ratio (males per 100 females)\", \"xref\": \"x\", \"y\": \"hospitalbeds_per10000\", \"yref\": \"y\"}, {\"font\": {\"color\": \"#FFFFFF\"}, \"showarrow\": false, \"text\": \"-0.03\", \"x\": \"Age dependency ratio\", \"xref\": \"x\", \"y\": \"hospitalbeds_per10000\", \"yref\": \"y\"}, {\"font\": {\"color\": \"#FFFFFF\"}, \"showarrow\": false, \"text\": \"0.02\", \"x\": \"Old-age dependency ratio\", \"xref\": \"x\", \"y\": \"hospitalbeds_per10000\", \"yref\": \"y\"}, {\"font\": {\"color\": \"#FFFFFF\"}, \"showarrow\": false, \"text\": \"-0.09\", \"x\": \"Child dependency ratio\", \"xref\": \"x\", \"y\": \"hospitalbeds_per10000\", \"yref\": \"y\"}, {\"font\": {\"color\": \"#FFFFFF\"}, \"showarrow\": false, \"text\": \"-0.08\", \"x\": \"percent_under18\", \"xref\": \"x\", \"y\": \"hospitalbeds_per10000\", \"yref\": \"y\"}, {\"font\": {\"color\": \"#FFFFFF\"}, \"showarrow\": false, \"text\": \"0.02\", \"x\": \"percent_over60\", \"xref\": \"x\", \"y\": \"hospitalbeds_per10000\", \"yref\": \"y\"}, {\"font\": {\"color\": \"#000000\"}, \"showarrow\": false, \"text\": \"0.49\", \"x\": \"hospital_bed_count\", \"xref\": \"x\", \"y\": \"hospitalbeds_per10000\", \"yref\": \"y\"}, {\"font\": {\"color\": \"#FFFFFF\"}, \"showarrow\": false, \"text\": \"-0.01\", \"x\": \"hospital_count\", \"xref\": \"x\", \"y\": \"hospitalbeds_per10000\", \"yref\": \"y\"}, {\"font\": {\"color\": \"#000000\"}, \"showarrow\": false, \"text\": \"1.0\", \"x\": \"hospitalbeds_per10000\", \"xref\": \"x\", \"y\": \"hospitalbeds_per10000\", \"yref\": \"y\"}, {\"font\": {\"color\": \"#FFFFFF\"}, \"showarrow\": false, \"text\": \"0.02\", \"x\": \"cases\", \"xref\": \"x\", \"y\": \"hospitalbeds_per10000\", \"yref\": \"y\"}, {\"font\": {\"color\": \"#FFFFFF\"}, \"showarrow\": false, \"text\": \"0.02\", \"x\": \"deaths\", \"xref\": \"x\", \"y\": \"hospitalbeds_per10000\", \"yref\": \"y\"}, {\"font\": {\"color\": \"#FFFFFF\"}, \"showarrow\": false, \"text\": \"-0.04\", \"x\": \"cases_per1000\", \"xref\": \"x\", \"y\": \"hospitalbeds_per10000\", \"yref\": \"y\"}, {\"font\": {\"color\": \"#FFFFFF\"}, \"showarrow\": false, \"text\": \"-0.02\", \"x\": \"deaths_per1000\", \"xref\": \"x\", \"y\": \"hospitalbeds_per10000\", \"yref\": \"y\"}, {\"font\": {\"color\": \"#000000\"}, \"showarrow\": false, \"text\": \"0.48\", \"x\": \"Total\", \"xref\": \"x\", \"y\": \"cases\", \"yref\": \"y\"}, {\"font\": {\"color\": \"#000000\"}, \"showarrow\": false, \"text\": \"0.48\", \"x\": \"Male\", \"xref\": \"x\", \"y\": \"cases\", \"yref\": \"y\"}, {\"font\": {\"color\": \"#000000\"}, \"showarrow\": false, \"text\": \"0.49\", \"x\": \"Female\", \"xref\": \"x\", \"y\": \"cases\", \"yref\": \"y\"}, {\"font\": {\"color\": \"#000000\"}, \"showarrow\": false, \"text\": \"0.46\", \"x\": \"Total Under 18 year\", \"xref\": \"x\", \"y\": \"cases\", \"yref\": \"y\"}, {\"font\": {\"color\": \"#000000\"}, \"showarrow\": false, \"text\": \"0.46\", \"x\": \"Male Under 18 year\", \"xref\": \"x\", \"y\": \"cases\", \"yref\": \"y\"}, {\"font\": {\"color\": \"#000000\"}, \"showarrow\": false, \"text\": \"0.46\", \"x\": \"Female Under 18 year\", \"xref\": \"x\", \"y\": \"cases\", \"yref\": \"y\"}, {\"font\": {\"color\": \"#000000\"}, \"showarrow\": false, \"text\": \"0.51\", \"x\": \"Total 60 years and over\", \"xref\": \"x\", \"y\": \"cases\", \"yref\": \"y\"}, {\"font\": {\"color\": \"#000000\"}, \"showarrow\": false, \"text\": \"0.5\", \"x\": \"Male 60 years and over\", \"xref\": \"x\", \"y\": \"cases\", \"yref\": \"y\"}, {\"font\": {\"color\": \"#000000\"}, \"showarrow\": false, \"text\": \"0.51\", \"x\": \"Female 60 years and over\", \"xref\": \"x\", \"y\": \"cases\", \"yref\": \"y\"}, {\"font\": {\"color\": \"#FFFFFF\"}, \"showarrow\": false, \"text\": \"-0.01\", \"x\": \"Median age (years)\", \"xref\": \"x\", \"y\": \"cases\", \"yref\": \"y\"}, {\"font\": {\"color\": \"#FFFFFF\"}, \"showarrow\": false, \"text\": \"-0.11\", \"x\": \"Sex ratio (males per 100 females)\", \"xref\": \"x\", \"y\": \"cases\", \"yref\": \"y\"}, {\"font\": {\"color\": \"#FFFFFF\"}, \"showarrow\": false, \"text\": \"-0.1\", \"x\": \"Age dependency ratio\", \"xref\": \"x\", \"y\": \"cases\", \"yref\": \"y\"}, {\"font\": {\"color\": \"#FFFFFF\"}, \"showarrow\": false, \"text\": \"-0.07\", \"x\": \"Old-age dependency ratio\", \"xref\": \"x\", \"y\": \"cases\", \"yref\": \"y\"}, {\"font\": {\"color\": \"#FFFFFF\"}, \"showarrow\": false, \"text\": \"-0.05\", \"x\": \"Child dependency ratio\", \"xref\": \"x\", \"y\": \"cases\", \"yref\": \"y\"}, {\"font\": {\"color\": \"#FFFFFF\"}, \"showarrow\": false, \"text\": \"-0.02\", \"x\": \"percent_under18\", \"xref\": \"x\", \"y\": \"cases\", \"yref\": \"y\"}, {\"font\": {\"color\": \"#FFFFFF\"}, \"showarrow\": false, \"text\": \"-0.07\", \"x\": \"percent_over60\", \"xref\": \"x\", \"y\": \"cases\", \"yref\": \"y\"}, {\"font\": {\"color\": \"#000000\"}, \"showarrow\": false, \"text\": \"0.35\", \"x\": \"hospital_bed_count\", \"xref\": \"x\", \"y\": \"cases\", \"yref\": \"y\"}, {\"font\": {\"color\": \"#000000\"}, \"showarrow\": false, \"text\": \"0.44\", \"x\": \"hospital_count\", \"xref\": \"x\", \"y\": \"cases\", \"yref\": \"y\"}, {\"font\": {\"color\": \"#FFFFFF\"}, \"showarrow\": false, \"text\": \"0.02\", \"x\": \"hospitalbeds_per10000\", \"xref\": \"x\", \"y\": \"cases\", \"yref\": \"y\"}, {\"font\": {\"color\": \"#000000\"}, \"showarrow\": false, \"text\": \"1.0\", \"x\": \"cases\", \"xref\": \"x\", \"y\": \"cases\", \"yref\": \"y\"}, {\"font\": {\"color\": \"#000000\"}, \"showarrow\": false, \"text\": \"0.93\", \"x\": \"deaths\", \"xref\": \"x\", \"y\": \"cases\", \"yref\": \"y\"}, {\"font\": {\"color\": \"#000000\"}, \"showarrow\": false, \"text\": \"0.77\", \"x\": \"cases_per1000\", \"xref\": \"x\", \"y\": \"cases\", \"yref\": \"y\"}, {\"font\": {\"color\": \"#000000\"}, \"showarrow\": false, \"text\": \"0.69\", \"x\": \"deaths_per1000\", \"xref\": \"x\", \"y\": \"cases\", \"yref\": \"y\"}, {\"font\": {\"color\": \"#000000\"}, \"showarrow\": false, \"text\": \"0.42\", \"x\": \"Total\", \"xref\": \"x\", \"y\": \"deaths\", \"yref\": \"y\"}, {\"font\": {\"color\": \"#000000\"}, \"showarrow\": false, \"text\": \"0.42\", \"x\": \"Male\", \"xref\": \"x\", \"y\": \"deaths\", \"yref\": \"y\"}, {\"font\": {\"color\": \"#000000\"}, \"showarrow\": false, \"text\": \"0.43\", \"x\": \"Female\", \"xref\": \"x\", \"y\": \"deaths\", \"yref\": \"y\"}, {\"font\": {\"color\": \"#000000\"}, \"showarrow\": false, \"text\": \"0.4\", \"x\": \"Total Under 18 year\", \"xref\": \"x\", \"y\": \"deaths\", \"yref\": \"y\"}, {\"font\": {\"color\": \"#000000\"}, \"showarrow\": false, \"text\": \"0.4\", \"x\": \"Male Under 18 year\", \"xref\": \"x\", \"y\": \"deaths\", \"yref\": \"y\"}, {\"font\": {\"color\": \"#000000\"}, \"showarrow\": false, \"text\": \"0.4\", \"x\": \"Female Under 18 year\", \"xref\": \"x\", \"y\": \"deaths\", \"yref\": \"y\"}, {\"font\": {\"color\": \"#000000\"}, \"showarrow\": false, \"text\": \"0.46\", \"x\": \"Total 60 years and over\", \"xref\": \"x\", \"y\": \"deaths\", \"yref\": \"y\"}, {\"font\": {\"color\": \"#000000\"}, \"showarrow\": false, \"text\": \"0.45\", \"x\": \"Male 60 years and over\", \"xref\": \"x\", \"y\": \"deaths\", \"yref\": \"y\"}, {\"font\": {\"color\": \"#000000\"}, \"showarrow\": false, \"text\": \"0.46\", \"x\": \"Female 60 years and over\", \"xref\": \"x\", \"y\": \"deaths\", \"yref\": \"y\"}, {\"font\": {\"color\": \"#FFFFFF\"}, \"showarrow\": false, \"text\": \"0.01\", \"x\": \"Median age (years)\", \"xref\": \"x\", \"y\": \"deaths\", \"yref\": \"y\"}, {\"font\": {\"color\": \"#FFFFFF\"}, \"showarrow\": false, \"text\": \"-0.11\", \"x\": \"Sex ratio (males per 100 females)\", \"xref\": \"x\", \"y\": \"deaths\", \"yref\": \"y\"}, {\"font\": {\"color\": \"#FFFFFF\"}, \"showarrow\": false, \"text\": \"-0.08\", \"x\": \"Age dependency ratio\", \"xref\": \"x\", \"y\": \"deaths\", \"yref\": \"y\"}, {\"font\": {\"color\": \"#FFFFFF\"}, \"showarrow\": false, \"text\": \"-0.05\", \"x\": \"Old-age dependency ratio\", \"xref\": \"x\", \"y\": \"deaths\", \"yref\": \"y\"}, {\"font\": {\"color\": \"#FFFFFF\"}, \"showarrow\": false, \"text\": \"-0.05\", \"x\": \"Child dependency ratio\", \"xref\": \"x\", \"y\": \"deaths\", \"yref\": \"y\"}, {\"font\": {\"color\": \"#FFFFFF\"}, \"showarrow\": false, \"text\": \"-0.02\", \"x\": \"percent_under18\", \"xref\": \"x\", \"y\": \"deaths\", \"yref\": \"y\"}, {\"font\": {\"color\": \"#FFFFFF\"}, \"showarrow\": false, \"text\": \"-0.05\", \"x\": \"percent_over60\", \"xref\": \"x\", \"y\": \"deaths\", \"yref\": \"y\"}, {\"font\": {\"color\": \"#000000\"}, \"showarrow\": false, \"text\": \"0.31\", \"x\": \"hospital_bed_count\", \"xref\": \"x\", \"y\": \"deaths\", \"yref\": \"y\"}, {\"font\": {\"color\": \"#000000\"}, \"showarrow\": false, \"text\": \"0.38\", \"x\": \"hospital_count\", \"xref\": \"x\", \"y\": \"deaths\", \"yref\": \"y\"}, {\"font\": {\"color\": \"#FFFFFF\"}, \"showarrow\": false, \"text\": \"0.02\", \"x\": \"hospitalbeds_per10000\", \"xref\": \"x\", \"y\": \"deaths\", \"yref\": \"y\"}, {\"font\": {\"color\": \"#000000\"}, \"showarrow\": false, \"text\": \"0.93\", \"x\": \"cases\", \"xref\": \"x\", \"y\": \"deaths\", \"yref\": \"y\"}, {\"font\": {\"color\": \"#000000\"}, \"showarrow\": false, \"text\": \"1.0\", \"x\": \"deaths\", \"xref\": \"x\", \"y\": \"deaths\", \"yref\": \"y\"}, {\"font\": {\"color\": \"#000000\"}, \"showarrow\": false, \"text\": \"0.7\", \"x\": \"cases_per1000\", \"xref\": \"x\", \"y\": \"deaths\", \"yref\": \"y\"}, {\"font\": {\"color\": \"#000000\"}, \"showarrow\": false, \"text\": \"0.74\", \"x\": \"deaths_per1000\", \"xref\": \"x\", \"y\": \"deaths\", \"yref\": \"y\"}, {\"font\": {\"color\": \"#FFFFFF\"}, \"showarrow\": false, \"text\": \"0.14\", \"x\": \"Total\", \"xref\": \"x\", \"y\": \"cases_per1000\", \"yref\": \"y\"}, {\"font\": {\"color\": \"#FFFFFF\"}, \"showarrow\": false, \"text\": \"0.14\", \"x\": \"Male\", \"xref\": \"x\", \"y\": \"cases_per1000\", \"yref\": \"y\"}, {\"font\": {\"color\": \"#FFFFFF\"}, \"showarrow\": false, \"text\": \"0.14\", \"x\": \"Female\", \"xref\": \"x\", \"y\": \"cases_per1000\", \"yref\": \"y\"}, {\"font\": {\"color\": \"#FFFFFF\"}, \"showarrow\": false, \"text\": \"0.13\", \"x\": \"Total Under 18 year\", \"xref\": \"x\", \"y\": \"cases_per1000\", \"yref\": \"y\"}, {\"font\": {\"color\": \"#FFFFFF\"}, \"showarrow\": false, \"text\": \"0.13\", \"x\": \"Male Under 18 year\", \"xref\": \"x\", \"y\": \"cases_per1000\", \"yref\": \"y\"}, {\"font\": {\"color\": \"#FFFFFF\"}, \"showarrow\": false, \"text\": \"0.13\", \"x\": \"Female Under 18 year\", \"xref\": \"x\", \"y\": \"cases_per1000\", \"yref\": \"y\"}, {\"font\": {\"color\": \"#FFFFFF\"}, \"showarrow\": false, \"text\": \"0.16\", \"x\": \"Total 60 years and over\", \"xref\": \"x\", \"y\": \"cases_per1000\", \"yref\": \"y\"}, {\"font\": {\"color\": \"#FFFFFF\"}, \"showarrow\": false, \"text\": \"0.16\", \"x\": \"Male 60 years and over\", \"xref\": \"x\", \"y\": \"cases_per1000\", \"yref\": \"y\"}, {\"font\": {\"color\": \"#FFFFFF\"}, \"showarrow\": false, \"text\": \"0.17\", \"x\": \"Female 60 years and over\", \"xref\": \"x\", \"y\": \"cases_per1000\", \"yref\": \"y\"}, {\"font\": {\"color\": \"#FFFFFF\"}, \"showarrow\": false, \"text\": \"0.01\", \"x\": \"Median age (years)\", \"xref\": \"x\", \"y\": \"cases_per1000\", \"yref\": \"y\"}, {\"font\": {\"color\": \"#FFFFFF\"}, \"showarrow\": false, \"text\": \"-0.14\", \"x\": \"Sex ratio (males per 100 females)\", \"xref\": \"x\", \"y\": \"cases_per1000\", \"yref\": \"y\"}, {\"font\": {\"color\": \"#FFFFFF\"}, \"showarrow\": false, \"text\": \"-0.06\", \"x\": \"Age dependency ratio\", \"xref\": \"x\", \"y\": \"cases_per1000\", \"yref\": \"y\"}, {\"font\": {\"color\": \"#FFFFFF\"}, \"showarrow\": false, \"text\": \"-0.05\", \"x\": \"Old-age dependency ratio\", \"xref\": \"x\", \"y\": \"cases_per1000\", \"yref\": \"y\"}, {\"font\": {\"color\": \"#FFFFFF\"}, \"showarrow\": false, \"text\": \"-0.02\", \"x\": \"Child dependency ratio\", \"xref\": \"x\", \"y\": \"cases_per1000\", \"yref\": \"y\"}, {\"font\": {\"color\": \"#FFFFFF\"}, \"showarrow\": false, \"text\": \"-0.0\", \"x\": \"percent_under18\", \"xref\": \"x\", \"y\": \"cases_per1000\", \"yref\": \"y\"}, {\"font\": {\"color\": \"#FFFFFF\"}, \"showarrow\": false, \"text\": \"-0.04\", \"x\": \"percent_over60\", \"xref\": \"x\", \"y\": \"cases_per1000\", \"yref\": \"y\"}, {\"font\": {\"color\": \"#FFFFFF\"}, \"showarrow\": false, \"text\": \"0.05\", \"x\": \"hospital_bed_count\", \"xref\": \"x\", \"y\": \"cases_per1000\", \"yref\": \"y\"}, {\"font\": {\"color\": \"#FFFFFF\"}, \"showarrow\": false, \"text\": \"0.15\", \"x\": \"hospital_count\", \"xref\": \"x\", \"y\": \"cases_per1000\", \"yref\": \"y\"}, {\"font\": {\"color\": \"#FFFFFF\"}, \"showarrow\": false, \"text\": \"-0.04\", \"x\": \"hospitalbeds_per10000\", \"xref\": \"x\", \"y\": \"cases_per1000\", \"yref\": \"y\"}, {\"font\": {\"color\": \"#000000\"}, \"showarrow\": false, \"text\": \"0.77\", \"x\": \"cases\", \"xref\": \"x\", \"y\": \"cases_per1000\", \"yref\": \"y\"}, {\"font\": {\"color\": \"#000000\"}, \"showarrow\": false, \"text\": \"0.7\", \"x\": \"deaths\", \"xref\": \"x\", \"y\": \"cases_per1000\", \"yref\": \"y\"}, {\"font\": {\"color\": \"#000000\"}, \"showarrow\": false, \"text\": \"1.0\", \"x\": \"cases_per1000\", \"xref\": \"x\", \"y\": \"cases_per1000\", \"yref\": \"y\"}, {\"font\": {\"color\": \"#000000\"}, \"showarrow\": false, \"text\": \"0.88\", \"x\": \"deaths_per1000\", \"xref\": \"x\", \"y\": \"cases_per1000\", \"yref\": \"y\"}, {\"font\": {\"color\": \"#FFFFFF\"}, \"showarrow\": false, \"text\": \"0.13\", \"x\": \"Total\", \"xref\": \"x\", \"y\": \"deaths_per1000\", \"yref\": \"y\"}, {\"font\": {\"color\": \"#FFFFFF\"}, \"showarrow\": false, \"text\": \"0.13\", \"x\": \"Male\", \"xref\": \"x\", \"y\": \"deaths_per1000\", \"yref\": \"y\"}, {\"font\": {\"color\": \"#FFFFFF\"}, \"showarrow\": false, \"text\": \"0.13\", \"x\": \"Female\", \"xref\": \"x\", \"y\": \"deaths_per1000\", \"yref\": \"y\"}, {\"font\": {\"color\": \"#FFFFFF\"}, \"showarrow\": false, \"text\": \"0.12\", \"x\": \"Total Under 18 year\", \"xref\": \"x\", \"y\": \"deaths_per1000\", \"yref\": \"y\"}, {\"font\": {\"color\": \"#FFFFFF\"}, \"showarrow\": false, \"text\": \"0.12\", \"x\": \"Male Under 18 year\", \"xref\": \"x\", \"y\": \"deaths_per1000\", \"yref\": \"y\"}, {\"font\": {\"color\": \"#FFFFFF\"}, \"showarrow\": false, \"text\": \"0.12\", \"x\": \"Female Under 18 year\", \"xref\": \"x\", \"y\": \"deaths_per1000\", \"yref\": \"y\"}, {\"font\": {\"color\": \"#FFFFFF\"}, \"showarrow\": false, \"text\": \"0.15\", \"x\": \"Total 60 years and over\", \"xref\": \"x\", \"y\": \"deaths_per1000\", \"yref\": \"y\"}, {\"font\": {\"color\": \"#FFFFFF\"}, \"showarrow\": false, \"text\": \"0.15\", \"x\": \"Male 60 years and over\", \"xref\": \"x\", \"y\": \"deaths_per1000\", \"yref\": \"y\"}, {\"font\": {\"color\": \"#FFFFFF\"}, \"showarrow\": false, \"text\": \"0.16\", \"x\": \"Female 60 years and over\", \"xref\": \"x\", \"y\": \"deaths_per1000\", \"yref\": \"y\"}, {\"font\": {\"color\": \"#FFFFFF\"}, \"showarrow\": false, \"text\": \"0.04\", \"x\": \"Median age (years)\", \"xref\": \"x\", \"y\": \"deaths_per1000\", \"yref\": \"y\"}, {\"font\": {\"color\": \"#FFFFFF\"}, \"showarrow\": false, \"text\": \"-0.17\", \"x\": \"Sex ratio (males per 100 females)\", \"xref\": \"x\", \"y\": \"deaths_per1000\", \"yref\": \"y\"}, {\"font\": {\"color\": \"#FFFFFF\"}, \"showarrow\": false, \"text\": \"-0.03\", \"x\": \"Age dependency ratio\", \"xref\": \"x\", \"y\": \"deaths_per1000\", \"yref\": \"y\"}, {\"font\": {\"color\": \"#FFFFFF\"}, \"showarrow\": false, \"text\": \"-0.01\", \"x\": \"Old-age dependency ratio\", \"xref\": \"x\", \"y\": \"deaths_per1000\", \"yref\": \"y\"}, {\"font\": {\"color\": \"#FFFFFF\"}, \"showarrow\": false, \"text\": \"-0.03\", \"x\": \"Child dependency ratio\", \"xref\": \"x\", \"y\": \"deaths_per1000\", \"yref\": \"y\"}, {\"font\": {\"color\": \"#FFFFFF\"}, \"showarrow\": false, \"text\": \"-0.02\", \"x\": \"percent_under18\", \"xref\": \"x\", \"y\": \"deaths_per1000\", \"yref\": \"y\"}, {\"font\": {\"color\": \"#FFFFFF\"}, \"showarrow\": false, \"text\": \"-0.01\", \"x\": \"percent_over60\", \"xref\": \"x\", \"y\": \"deaths_per1000\", \"yref\": \"y\"}, {\"font\": {\"color\": \"#FFFFFF\"}, \"showarrow\": false, \"text\": \"0.05\", \"x\": \"hospital_bed_count\", \"xref\": \"x\", \"y\": \"deaths_per1000\", \"yref\": \"y\"}, {\"font\": {\"color\": \"#FFFFFF\"}, \"showarrow\": false, \"text\": \"0.13\", \"x\": \"hospital_count\", \"xref\": \"x\", \"y\": \"deaths_per1000\", \"yref\": \"y\"}, {\"font\": {\"color\": \"#FFFFFF\"}, \"showarrow\": false, \"text\": \"-0.02\", \"x\": \"hospitalbeds_per10000\", \"xref\": \"x\", \"y\": \"deaths_per1000\", \"yref\": \"y\"}, {\"font\": {\"color\": \"#000000\"}, \"showarrow\": false, \"text\": \"0.69\", \"x\": \"cases\", \"xref\": \"x\", \"y\": \"deaths_per1000\", \"yref\": \"y\"}, {\"font\": {\"color\": \"#000000\"}, \"showarrow\": false, \"text\": \"0.74\", \"x\": \"deaths\", \"xref\": \"x\", \"y\": \"deaths_per1000\", \"yref\": \"y\"}, {\"font\": {\"color\": \"#000000\"}, \"showarrow\": false, \"text\": \"0.88\", \"x\": \"cases_per1000\", \"xref\": \"x\", \"y\": \"deaths_per1000\", \"yref\": \"y\"}, {\"font\": {\"color\": \"#000000\"}, \"showarrow\": false, \"text\": \"1.0\", \"x\": \"deaths_per1000\", \"xref\": \"x\", \"y\": \"deaths_per1000\", \"yref\": \"y\"}], \"template\": {\"data\": {\"bar\": [{\"error_x\": {\"color\": \"#2a3f5f\"}, \"error_y\": {\"color\": \"#2a3f5f\"}, \"marker\": {\"line\": {\"color\": \"#E5ECF6\", \"width\": 0.5}}, \"type\": \"bar\"}], \"barpolar\": [{\"marker\": {\"line\": {\"color\": \"#E5ECF6\", \"width\": 0.5}}, \"type\": \"barpolar\"}], \"carpet\": [{\"aaxis\": {\"endlinecolor\": \"#2a3f5f\", \"gridcolor\": \"white\", \"linecolor\": \"white\", \"minorgridcolor\": \"white\", \"startlinecolor\": \"#2a3f5f\"}, \"baxis\": {\"endlinecolor\": \"#2a3f5f\", \"gridcolor\": \"white\", \"linecolor\": \"white\", \"minorgridcolor\": \"white\", \"startlinecolor\": \"#2a3f5f\"}, \"type\": \"carpet\"}], \"choropleth\": [{\"colorbar\": {\"outlinewidth\": 0, \"ticks\": \"\"}, \"type\": \"choropleth\"}], \"contour\": [{\"colorbar\": {\"outlinewidth\": 0, \"ticks\": \"\"}, \"colorscale\": [[0.0, \"#0d0887\"], [0.1111111111111111, \"#46039f\"], [0.2222222222222222, \"#7201a8\"], [0.3333333333333333, \"#9c179e\"], [0.4444444444444444, \"#bd3786\"], [0.5555555555555556, \"#d8576b\"], [0.6666666666666666, \"#ed7953\"], [0.7777777777777778, \"#fb9f3a\"], [0.8888888888888888, \"#fdca26\"], [1.0, \"#f0f921\"]], \"type\": \"contour\"}], \"contourcarpet\": [{\"colorbar\": {\"outlinewidth\": 0, \"ticks\": \"\"}, \"type\": \"contourcarpet\"}], \"heatmap\": [{\"colorbar\": {\"outlinewidth\": 0, \"ticks\": \"\"}, \"colorscale\": [[0.0, \"#0d0887\"], [0.1111111111111111, \"#46039f\"], [0.2222222222222222, \"#7201a8\"], [0.3333333333333333, \"#9c179e\"], [0.4444444444444444, \"#bd3786\"], [0.5555555555555556, \"#d8576b\"], [0.6666666666666666, \"#ed7953\"], [0.7777777777777778, \"#fb9f3a\"], [0.8888888888888888, \"#fdca26\"], [1.0, \"#f0f921\"]], \"type\": \"heatmap\"}], \"heatmapgl\": [{\"colorbar\": {\"outlinewidth\": 0, \"ticks\": \"\"}, \"colorscale\": [[0.0, \"#0d0887\"], [0.1111111111111111, \"#46039f\"], [0.2222222222222222, \"#7201a8\"], [0.3333333333333333, \"#9c179e\"], [0.4444444444444444, \"#bd3786\"], [0.5555555555555556, \"#d8576b\"], [0.6666666666666666, \"#ed7953\"], [0.7777777777777778, \"#fb9f3a\"], [0.8888888888888888, \"#fdca26\"], [1.0, \"#f0f921\"]], \"type\": \"heatmapgl\"}], \"histogram\": [{\"marker\": {\"colorbar\": {\"outlinewidth\": 0, \"ticks\": \"\"}}, \"type\": \"histogram\"}], \"histogram2d\": [{\"colorbar\": {\"outlinewidth\": 0, \"ticks\": \"\"}, \"colorscale\": [[0.0, \"#0d0887\"], [0.1111111111111111, \"#46039f\"], [0.2222222222222222, \"#7201a8\"], [0.3333333333333333, \"#9c179e\"], [0.4444444444444444, \"#bd3786\"], [0.5555555555555556, \"#d8576b\"], [0.6666666666666666, \"#ed7953\"], [0.7777777777777778, \"#fb9f3a\"], [0.8888888888888888, \"#fdca26\"], [1.0, \"#f0f921\"]], \"type\": \"histogram2d\"}], \"histogram2dcontour\": [{\"colorbar\": {\"outlinewidth\": 0, \"ticks\": \"\"}, \"colorscale\": [[0.0, \"#0d0887\"], [0.1111111111111111, \"#46039f\"], [0.2222222222222222, \"#7201a8\"], [0.3333333333333333, \"#9c179e\"], [0.4444444444444444, \"#bd3786\"], [0.5555555555555556, \"#d8576b\"], [0.6666666666666666, \"#ed7953\"], [0.7777777777777778, \"#fb9f3a\"], [0.8888888888888888, \"#fdca26\"], [1.0, \"#f0f921\"]], \"type\": \"histogram2dcontour\"}], \"mesh3d\": [{\"colorbar\": {\"outlinewidth\": 0, \"ticks\": \"\"}, \"type\": \"mesh3d\"}], \"parcoords\": [{\"line\": {\"colorbar\": {\"outlinewidth\": 0, \"ticks\": \"\"}}, \"type\": \"parcoords\"}], \"pie\": [{\"automargin\": true, \"type\": \"pie\"}], \"scatter\": [{\"marker\": {\"colorbar\": {\"outlinewidth\": 0, \"ticks\": \"\"}}, \"type\": \"scatter\"}], \"scatter3d\": [{\"line\": {\"colorbar\": {\"outlinewidth\": 0, \"ticks\": \"\"}}, \"marker\": {\"colorbar\": {\"outlinewidth\": 0, \"ticks\": \"\"}}, \"type\": \"scatter3d\"}], \"scattercarpet\": [{\"marker\": {\"colorbar\": {\"outlinewidth\": 0, \"ticks\": \"\"}}, \"type\": \"scattercarpet\"}], \"scattergeo\": [{\"marker\": {\"colorbar\": {\"outlinewidth\": 0, \"ticks\": \"\"}}, \"type\": \"scattergeo\"}], \"scattergl\": [{\"marker\": {\"colorbar\": {\"outlinewidth\": 0, \"ticks\": \"\"}}, \"type\": \"scattergl\"}], \"scattermapbox\": [{\"marker\": {\"colorbar\": {\"outlinewidth\": 0, \"ticks\": \"\"}}, \"type\": \"scattermapbox\"}], \"scatterpolar\": [{\"marker\": {\"colorbar\": {\"outlinewidth\": 0, \"ticks\": \"\"}}, \"type\": \"scatterpolar\"}], \"scatterpolargl\": [{\"marker\": {\"colorbar\": {\"outlinewidth\": 0, \"ticks\": \"\"}}, \"type\": \"scatterpolargl\"}], \"scatterternary\": [{\"marker\": {\"colorbar\": {\"outlinewidth\": 0, \"ticks\": \"\"}}, \"type\": \"scatterternary\"}], \"surface\": [{\"colorbar\": {\"outlinewidth\": 0, \"ticks\": \"\"}, \"colorscale\": [[0.0, \"#0d0887\"], [0.1111111111111111, \"#46039f\"], [0.2222222222222222, \"#7201a8\"], [0.3333333333333333, \"#9c179e\"], [0.4444444444444444, \"#bd3786\"], [0.5555555555555556, \"#d8576b\"], [0.6666666666666666, \"#ed7953\"], [0.7777777777777778, \"#fb9f3a\"], [0.8888888888888888, \"#fdca26\"], [1.0, \"#f0f921\"]], \"type\": \"surface\"}], \"table\": [{\"cells\": {\"fill\": {\"color\": \"#EBF0F8\"}, \"line\": {\"color\": \"white\"}}, \"header\": {\"fill\": {\"color\": \"#C8D4E3\"}, \"line\": {\"color\": \"white\"}}, \"type\": \"table\"}]}, \"layout\": {\"annotationdefaults\": {\"arrowcolor\": \"#2a3f5f\", \"arrowhead\": 0, \"arrowwidth\": 1}, \"coloraxis\": {\"colorbar\": {\"outlinewidth\": 0, \"ticks\": \"\"}}, \"colorscale\": {\"diverging\": [[0, \"#8e0152\"], [0.1, \"#c51b7d\"], [0.2, \"#de77ae\"], [0.3, \"#f1b6da\"], [0.4, \"#fde0ef\"], [0.5, \"#f7f7f7\"], [0.6, \"#e6f5d0\"], [0.7, \"#b8e186\"], [0.8, \"#7fbc41\"], [0.9, \"#4d9221\"], [1, \"#276419\"]], \"sequential\": [[0.0, \"#0d0887\"], [0.1111111111111111, \"#46039f\"], [0.2222222222222222, \"#7201a8\"], [0.3333333333333333, \"#9c179e\"], [0.4444444444444444, \"#bd3786\"], [0.5555555555555556, \"#d8576b\"], [0.6666666666666666, \"#ed7953\"], [0.7777777777777778, \"#fb9f3a\"], [0.8888888888888888, \"#fdca26\"], [1.0, \"#f0f921\"]], \"sequentialminus\": [[0.0, \"#0d0887\"], [0.1111111111111111, \"#46039f\"], [0.2222222222222222, \"#7201a8\"], [0.3333333333333333, \"#9c179e\"], [0.4444444444444444, \"#bd3786\"], [0.5555555555555556, \"#d8576b\"], [0.6666666666666666, \"#ed7953\"], [0.7777777777777778, \"#fb9f3a\"], [0.8888888888888888, \"#fdca26\"], [1.0, \"#f0f921\"]]}, \"colorway\": [\"#636efa\", \"#EF553B\", \"#00cc96\", \"#ab63fa\", \"#FFA15A\", \"#19d3f3\", \"#FF6692\", \"#B6E880\", \"#FF97FF\", \"#FECB52\"], \"font\": {\"color\": \"#2a3f5f\"}, \"geo\": {\"bgcolor\": \"white\", \"lakecolor\": \"white\", \"landcolor\": \"#E5ECF6\", \"showlakes\": true, \"showland\": true, \"subunitcolor\": \"white\"}, \"hoverlabel\": {\"align\": \"left\"}, \"hovermode\": \"closest\", \"mapbox\": {\"style\": \"light\"}, \"paper_bgcolor\": \"white\", \"plot_bgcolor\": \"#E5ECF6\", \"polar\": {\"angularaxis\": {\"gridcolor\": \"white\", \"linecolor\": \"white\", \"ticks\": \"\"}, \"bgcolor\": \"#E5ECF6\", \"radialaxis\": {\"gridcolor\": \"white\", \"linecolor\": \"white\", \"ticks\": \"\"}}, \"scene\": {\"xaxis\": {\"backgroundcolor\": \"#E5ECF6\", \"gridcolor\": \"white\", \"gridwidth\": 2, \"linecolor\": \"white\", \"showbackground\": true, \"ticks\": \"\", \"zerolinecolor\": \"white\"}, \"yaxis\": {\"backgroundcolor\": \"#E5ECF6\", \"gridcolor\": \"white\", \"gridwidth\": 2, \"linecolor\": \"white\", \"showbackground\": true, \"ticks\": \"\", \"zerolinecolor\": \"white\"}, \"zaxis\": {\"backgroundcolor\": \"#E5ECF6\", \"gridcolor\": \"white\", \"gridwidth\": 2, \"linecolor\": \"white\", \"showbackground\": true, \"ticks\": \"\", \"zerolinecolor\": \"white\"}}, \"shapedefaults\": {\"line\": {\"color\": \"#2a3f5f\"}}, \"ternary\": {\"aaxis\": {\"gridcolor\": \"white\", \"linecolor\": \"white\", \"ticks\": \"\"}, \"baxis\": {\"gridcolor\": \"white\", \"linecolor\": \"white\", \"ticks\": \"\"}, \"bgcolor\": \"#E5ECF6\", \"caxis\": {\"gridcolor\": \"white\", \"linecolor\": \"white\", \"ticks\": \"\"}}, \"title\": {\"x\": 0.05}, \"xaxis\": {\"automargin\": true, \"gridcolor\": \"white\", \"linecolor\": \"white\", \"ticks\": \"\", \"title\": {\"standoff\": 15}, \"zerolinecolor\": \"white\", \"zerolinewidth\": 2}, \"yaxis\": {\"automargin\": true, \"gridcolor\": \"white\", \"linecolor\": \"white\", \"ticks\": \"\", \"title\": {\"standoff\": 15}, \"zerolinecolor\": \"white\", \"zerolinewidth\": 2}}}, \"xaxis\": {\"dtick\": 1, \"gridcolor\": \"rgb(0, 0, 0)\", \"side\": \"top\", \"ticks\": \"\"}, \"yaxis\": {\"dtick\": 1, \"ticks\": \"\", \"ticksuffix\": \"  \"}},\n",
              "                        {\"responsive\": true}\n",
              "                    ).then(function(){\n",
              "                            \n",
              "var gd = document.getElementById('b43f2a27-9b63-4030-bfac-d2600d5b9377');\n",
              "var x = new MutationObserver(function (mutations, observer) {{\n",
              "        var display = window.getComputedStyle(gd).display;\n",
              "        if (!display || display === 'none') {{\n",
              "            console.log([gd, 'removed!']);\n",
              "            Plotly.purge(gd);\n",
              "            observer.disconnect();\n",
              "        }}\n",
              "}});\n",
              "\n",
              "// Listen for the removal of the full notebook cells\n",
              "var notebookContainer = gd.closest('#notebook-container');\n",
              "if (notebookContainer) {{\n",
              "    x.observe(notebookContainer, {childList: true});\n",
              "}}\n",
              "\n",
              "// Listen for the clearing of the current output cell\n",
              "var outputEl = gd.closest('.output');\n",
              "if (outputEl) {{\n",
              "    x.observe(outputEl, {childList: true});\n",
              "}}\n",
              "\n",
              "                        })\n",
              "                };\n",
              "                \n",
              "            </script>\n",
              "        </div>\n",
              "</body>\n",
              "</html>"
            ]
          },
          "metadata": {
            "tags": []
          }
        }
      ]
    },
    {
      "cell_type": "code",
      "metadata": {
        "id": "DN8Jvf8Rneb3",
        "colab_type": "code",
        "colab": {}
      },
      "source": [
        ""
      ],
      "execution_count": 0,
      "outputs": []
    }
  ]
}